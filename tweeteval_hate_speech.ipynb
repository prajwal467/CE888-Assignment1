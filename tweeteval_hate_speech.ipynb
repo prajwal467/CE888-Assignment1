{
  "nbformat": 4,
  "nbformat_minor": 0,
  "metadata": {
    "colab": {
      "name": "tweeteval hate speech.ipynb",
      "provenance": [],
      "authorship_tag": "ABX9TyOyPfnUUYra2sSzAsMh7qAY",
      "include_colab_link": true
    },
    "kernelspec": {
      "name": "python3",
      "display_name": "Python 3"
    }
  },
  "cells": [
    {
      "cell_type": "markdown",
      "metadata": {
        "id": "view-in-github",
        "colab_type": "text"
      },
      "source": [
        "<a href=\"https://colab.research.google.com/github/prajwal467/CE888-Assignment1/blob/main/tweeteval_hate_speech.ipynb\" target=\"_parent\"><img src=\"https://colab.research.google.com/assets/colab-badge.svg\" alt=\"Open In Colab\"/></a>"
      ]
    },
    {
      "cell_type": "markdown",
      "metadata": {
        "id": "gV7QykrPjl9j"
      },
      "source": [
        "#loading the files which is  required for our project"
      ]
    },
    {
      "cell_type": "code",
      "metadata": {
        "colab": {
          "resources": {
            "http://localhost:8080/nbextensions/google.colab/files.js": {
              "data": "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",
              "ok": true,
              "headers": [
                [
                  "content-type",
                  "application/javascript"
                ]
              ],
              "status": 200,
              "status_text": ""
            }
          },
          "base_uri": "https://localhost:8080/",
          "height": 274
        },
        "id": "zp8xXnyeLq_M",
        "outputId": "d145cf68-a029-4895-f5ac-2bb3abf5eb6d"
      },
      "source": [
        "from google.colab import files \r\n",
        "uploaded = files.upload()"
      ],
      "execution_count": 4,
      "outputs": [
        {
          "output_type": "display_data",
          "data": {
            "text/html": [
              "\n",
              "     <input type=\"file\" id=\"files-9bc8bea1-df98-49d3-93ec-862915cc0077\" name=\"files[]\" multiple disabled\n",
              "        style=\"border:none\" />\n",
              "     <output id=\"result-9bc8bea1-df98-49d3-93ec-862915cc0077\">\n",
              "      Upload widget is only available when the cell has been executed in the\n",
              "      current browser session. Please rerun this cell to enable.\n",
              "      </output>\n",
              "      <script src=\"/nbextensions/google.colab/files.js\"></script> "
            ],
            "text/plain": [
              "<IPython.core.display.HTML object>"
            ]
          },
          "metadata": {
            "tags": []
          }
        },
        {
          "output_type": "stream",
          "text": [
            "Saving mapping.txt to mapping.txt\n",
            "Saving test_labels.txt to test_labels.txt\n",
            "Saving test_text.txt to test_text.txt\n",
            "Saving train_labels.txt to train_labels.txt\n",
            "Saving train_text.txt to train_text.txt\n",
            "Saving val_labels.txt to val_labels.txt\n",
            "Saving val_text.txt to val_text.txt\n"
          ],
          "name": "stdout"
        }
      ]
    },
    {
      "cell_type": "code",
      "metadata": {
        "id": "rJjN_FNfjuKc"
      },
      "source": [
        "#installing all the libraries and dependencies"
      ],
      "execution_count": null,
      "outputs": []
    },
    {
      "cell_type": "code",
      "metadata": {
        "id": "OTFizOyCMCMA",
        "colab": {
          "base_uri": "https://localhost:8080/"
        },
        "outputId": "e23ea923-c6c4-414e-ea68-e31f71a4307a"
      },
      "source": [
        "import pandas as pd\r\n",
        "import re\r\n",
        "import nltk\r\n",
        "nltk.download('stopwords')\r\n",
        "nltk.download('wordnet')\r\n",
        "nltk.download('averaged_perceptron_tagger')\r\n",
        "import spacy\r\n",
        "import string\r\n",
        "import numpy as np\r\n",
        "\r\n"
      ],
      "execution_count": 45,
      "outputs": [
        {
          "output_type": "stream",
          "text": [
            "[nltk_data] Downloading package stopwords to /root/nltk_data...\n",
            "[nltk_data]   Package stopwords is already up-to-date!\n",
            "[nltk_data] Downloading package wordnet to /root/nltk_data...\n",
            "[nltk_data]   Package wordnet is already up-to-date!\n",
            "[nltk_data] Downloading package averaged_perceptron_tagger to\n",
            "[nltk_data]     /root/nltk_data...\n",
            "[nltk_data]   Package averaged_perceptron_tagger is already up-to-\n",
            "[nltk_data]       date!\n"
          ],
          "name": "stdout"
        }
      ]
    },
    {
      "cell_type": "code",
      "metadata": {
        "id": "5jUL67kLj2zo"
      },
      "source": [
        "#using the read_csv file to read out train_label data"
      ],
      "execution_count": null,
      "outputs": []
    },
    {
      "cell_type": "code",
      "metadata": {
        "colab": {
          "base_uri": "https://localhost:8080/",
          "height": 402
        },
        "id": "8wpkYtvUQhM1",
        "outputId": "8dcfaa47-c0db-43c4-b563-d5a8209f8740"
      },
      "source": [
        "hate = pd.read_csv('train_labels.txt')\r\n",
        "hate"
      ],
      "execution_count": 46,
      "outputs": [
        {
          "output_type": "execute_result",
          "data": {
            "text/html": [
              "<div>\n",
              "<style scoped>\n",
              "    .dataframe tbody tr th:only-of-type {\n",
              "        vertical-align: middle;\n",
              "    }\n",
              "\n",
              "    .dataframe tbody tr th {\n",
              "        vertical-align: top;\n",
              "    }\n",
              "\n",
              "    .dataframe thead th {\n",
              "        text-align: right;\n",
              "    }\n",
              "</style>\n",
              "<table border=\"1\" class=\"dataframe\">\n",
              "  <thead>\n",
              "    <tr style=\"text-align: right;\">\n",
              "      <th></th>\n",
              "      <th>0</th>\n",
              "    </tr>\n",
              "  </thead>\n",
              "  <tbody>\n",
              "    <tr>\n",
              "      <th>0</th>\n",
              "      <td>1</td>\n",
              "    </tr>\n",
              "    <tr>\n",
              "      <th>1</th>\n",
              "      <td>1</td>\n",
              "    </tr>\n",
              "    <tr>\n",
              "      <th>2</th>\n",
              "      <td>1</td>\n",
              "    </tr>\n",
              "    <tr>\n",
              "      <th>3</th>\n",
              "      <td>0</td>\n",
              "    </tr>\n",
              "    <tr>\n",
              "      <th>4</th>\n",
              "      <td>0</td>\n",
              "    </tr>\n",
              "    <tr>\n",
              "      <th>...</th>\n",
              "      <td>...</td>\n",
              "    </tr>\n",
              "    <tr>\n",
              "      <th>8994</th>\n",
              "      <td>0</td>\n",
              "    </tr>\n",
              "    <tr>\n",
              "      <th>8995</th>\n",
              "      <td>0</td>\n",
              "    </tr>\n",
              "    <tr>\n",
              "      <th>8996</th>\n",
              "      <td>1</td>\n",
              "    </tr>\n",
              "    <tr>\n",
              "      <th>8997</th>\n",
              "      <td>0</td>\n",
              "    </tr>\n",
              "    <tr>\n",
              "      <th>8998</th>\n",
              "      <td>1</td>\n",
              "    </tr>\n",
              "  </tbody>\n",
              "</table>\n",
              "<p>8999 rows × 1 columns</p>\n",
              "</div>"
            ],
            "text/plain": [
              "      0\n",
              "0     1\n",
              "1     1\n",
              "2     1\n",
              "3     0\n",
              "4     0\n",
              "...  ..\n",
              "8994  0\n",
              "8995  0\n",
              "8996  1\n",
              "8997  0\n",
              "8998  1\n",
              "\n",
              "[8999 rows x 1 columns]"
            ]
          },
          "metadata": {
            "tags": []
          },
          "execution_count": 46
        }
      ]
    },
    {
      "cell_type": "code",
      "metadata": {
        "colab": {
          "base_uri": "https://localhost:8080/",
          "height": 195
        },
        "id": "dNJV1lKQSi9P",
        "outputId": "ff4731c4-5d99-49e1-fa18-9be0ce380b2a"
      },
      "source": [
        "hate.columns = ['label']\r\n",
        "hate.head()"
      ],
      "execution_count": 47,
      "outputs": [
        {
          "output_type": "execute_result",
          "data": {
            "text/html": [
              "<div>\n",
              "<style scoped>\n",
              "    .dataframe tbody tr th:only-of-type {\n",
              "        vertical-align: middle;\n",
              "    }\n",
              "\n",
              "    .dataframe tbody tr th {\n",
              "        vertical-align: top;\n",
              "    }\n",
              "\n",
              "    .dataframe thead th {\n",
              "        text-align: right;\n",
              "    }\n",
              "</style>\n",
              "<table border=\"1\" class=\"dataframe\">\n",
              "  <thead>\n",
              "    <tr style=\"text-align: right;\">\n",
              "      <th></th>\n",
              "      <th>label</th>\n",
              "    </tr>\n",
              "  </thead>\n",
              "  <tbody>\n",
              "    <tr>\n",
              "      <th>0</th>\n",
              "      <td>1</td>\n",
              "    </tr>\n",
              "    <tr>\n",
              "      <th>1</th>\n",
              "      <td>1</td>\n",
              "    </tr>\n",
              "    <tr>\n",
              "      <th>2</th>\n",
              "      <td>1</td>\n",
              "    </tr>\n",
              "    <tr>\n",
              "      <th>3</th>\n",
              "      <td>0</td>\n",
              "    </tr>\n",
              "    <tr>\n",
              "      <th>4</th>\n",
              "      <td>0</td>\n",
              "    </tr>\n",
              "  </tbody>\n",
              "</table>\n",
              "</div>"
            ],
            "text/plain": [
              "   label\n",
              "0      1\n",
              "1      1\n",
              "2      1\n",
              "3      0\n",
              "4      0"
            ]
          },
          "metadata": {
            "tags": []
          },
          "execution_count": 47
        }
      ]
    },
    {
      "cell_type": "code",
      "metadata": {
        "id": "xF_I1_5WkYF2"
      },
      "source": [
        "#loading the train data set and dropping the null values and assigning column name \"tweet\""
      ],
      "execution_count": 7,
      "outputs": []
    },
    {
      "cell_type": "code",
      "metadata": {
        "colab": {
          "base_uri": "https://localhost:8080/",
          "height": 232
        },
        "id": "fiCqjc5ZYNsU",
        "outputId": "1529f98a-c008-4b82-ef41-891576c98224"
      },
      "source": [
        "hate_train = pd.read_csv('train_text.txt',error_bad_lines=False)\r\n",
        "hate_train.head()\r\n"
      ],
      "execution_count": 48,
      "outputs": [
        {
          "output_type": "stream",
          "text": [
            "b'Skipping line 10: expected 1 fields, saw 3\\nSkipping line 11: expected 1 fields, saw 6\\nSkipping line 15: expected 1 fields, saw 2\\nSkipping line 16: expected 1 fields, saw 2\\nSkipping line 18: expected 1 fields, saw 2\\nSkipping line 21: expected 1 fields, saw 3\\nSkipping line 22: expected 1 fields, saw 2\\nSkipping line 23: expected 1 fields, saw 2\\nSkipping line 26: expected 1 fields, saw 3\\nSkipping line 27: expected 1 fields, saw 2\\nSkipping line 29: expected 1 fields, saw 3\\nSkipping line 35: expected 1 fields, saw 5\\nSkipping line 37: expected 1 fields, saw 2\\nSkipping line 38: expected 1 fields, saw 3\\nSkipping line 42: expected 1 fields, saw 6\\nSkipping line 44: expected 1 fields, saw 5\\nSkipping line 46: expected 1 fields, saw 3\\nSkipping line 50: expected 1 fields, saw 3\\nSkipping line 51: expected 1 fields, saw 6\\nSkipping line 55: expected 1 fields, saw 3\\nSkipping line 58: expected 1 fields, saw 3\\nSkipping line 59: expected 1 fields, saw 3\\nSkipping line 60: expected 1 fields, saw 2\\nSkipping line 62: expected 1 fields, saw 2\\nSkipping line 68: expected 1 fields, saw 2\\nSkipping line 71: expected 1 fields, saw 5\\nSkipping line 72: expected 1 fields, saw 3\\nSkipping line 76: expected 1 fields, saw 2\\nSkipping line 78: expected 1 fields, saw 2\\nSkipping line 82: expected 1 fields, saw 4\\nSkipping line 85: expected 1 fields, saw 2\\nSkipping line 86: expected 1 fields, saw 2\\nSkipping line 87: expected 1 fields, saw 2\\nSkipping line 88: expected 1 fields, saw 2\\nSkipping line 90: expected 1 fields, saw 3\\nSkipping line 92: expected 1 fields, saw 3\\nSkipping line 101: expected 1 fields, saw 2\\nSkipping line 103: expected 1 fields, saw 2\\nSkipping line 104: expected 1 fields, saw 2\\nSkipping line 106: expected 1 fields, saw 2\\nSkipping line 108: expected 1 fields, saw 2\\nSkipping line 109: expected 1 fields, saw 2\\nSkipping line 110: expected 1 fields, saw 2\\nSkipping line 112: expected 1 fields, saw 4\\nSkipping line 116: expected 1 fields, saw 2\\nSkipping line 121: expected 1 fields, saw 2\\nSkipping line 122: expected 1 fields, saw 2\\nSkipping line 127: expected 1 fields, saw 3\\nSkipping line 128: expected 1 fields, saw 3\\nSkipping line 139: expected 1 fields, saw 2\\nSkipping line 143: expected 1 fields, saw 2\\nSkipping line 144: expected 1 fields, saw 4\\nSkipping line 146: expected 1 fields, saw 2\\nSkipping line 148: expected 1 fields, saw 2\\nSkipping line 149: expected 1 fields, saw 2\\nSkipping line 151: expected 1 fields, saw 2\\nSkipping line 153: expected 1 fields, saw 4\\nSkipping line 157: expected 1 fields, saw 6\\nSkipping line 158: expected 1 fields, saw 3\\nSkipping line 159: expected 1 fields, saw 3\\nSkipping line 161: expected 1 fields, saw 2\\nSkipping line 165: expected 1 fields, saw 4\\nSkipping line 166: expected 1 fields, saw 2\\nSkipping line 167: expected 1 fields, saw 4\\nSkipping line 170: expected 1 fields, saw 2\\nSkipping line 172: expected 1 fields, saw 3\\nSkipping line 176: expected 1 fields, saw 2\\nSkipping line 181: expected 1 fields, saw 5\\nSkipping line 189: expected 1 fields, saw 2\\nSkipping line 192: expected 1 fields, saw 2\\nSkipping line 195: expected 1 fields, saw 2\\nSkipping line 200: expected 1 fields, saw 2\\nSkipping line 203: expected 1 fields, saw 5\\nSkipping line 204: expected 1 fields, saw 5\\nSkipping line 205: expected 1 fields, saw 2\\nSkipping line 206: expected 1 fields, saw 3\\nSkipping line 207: expected 1 fields, saw 2\\nSkipping line 208: expected 1 fields, saw 4\\nSkipping line 210: expected 1 fields, saw 2\\nSkipping line 215: expected 1 fields, saw 2\\nSkipping line 223: expected 1 fields, saw 2\\nSkipping line 226: expected 1 fields, saw 2\\nSkipping line 235: expected 1 fields, saw 2\\nSkipping line 237: expected 1 fields, saw 2\\nSkipping line 238: expected 1 fields, saw 2\\nSkipping line 245: expected 1 fields, saw 2\\nSkipping line 249: expected 1 fields, saw 2\\nSkipping line 250: expected 1 fields, saw 2\\nSkipping line 255: expected 1 fields, saw 2\\nSkipping line 258: expected 1 fields, saw 2\\nSkipping line 260: expected 1 fields, saw 2\\nSkipping line 261: expected 1 fields, saw 3\\nSkipping line 263: expected 1 fields, saw 3\\nSkipping line 264: expected 1 fields, saw 4\\nSkipping line 266: expected 1 fields, saw 3\\nSkipping line 269: expected 1 fields, saw 4\\nSkipping line 272: expected 1 fields, saw 2\\nSkipping line 273: expected 1 fields, saw 2\\nSkipping line 278: expected 1 fields, saw 3\\nSkipping line 280: expected 1 fields, saw 2\\nSkipping line 281: expected 1 fields, saw 4\\nSkipping line 283: expected 1 fields, saw 3\\nSkipping line 284: expected 1 fields, saw 3\\nSkipping line 285: expected 1 fields, saw 2\\nSkipping line 302: expected 1 fields, saw 2\\nSkipping line 310: expected 1 fields, saw 2\\nSkipping line 318: expected 1 fields, saw 4\\nSkipping line 323: expected 1 fields, saw 2\\nSkipping line 324: expected 1 fields, saw 5\\nSkipping line 326: expected 1 fields, saw 2\\nSkipping line 327: expected 1 fields, saw 2\\nSkipping line 329: expected 1 fields, saw 3\\nSkipping line 334: expected 1 fields, saw 4\\nSkipping line 339: expected 1 fields, saw 2\\nSkipping line 341: expected 1 fields, saw 2\\nSkipping line 342: expected 1 fields, saw 2\\nSkipping line 344: expected 1 fields, saw 2\\nSkipping line 345: expected 1 fields, saw 2\\nSkipping line 347: expected 1 fields, saw 4\\nSkipping line 356: expected 1 fields, saw 2\\nSkipping line 357: expected 1 fields, saw 4\\nSkipping line 358: expected 1 fields, saw 3\\nSkipping line 360: expected 1 fields, saw 2\\nSkipping line 361: expected 1 fields, saw 2\\nSkipping line 368: expected 1 fields, saw 2\\nSkipping line 373: expected 1 fields, saw 3\\nSkipping line 374: expected 1 fields, saw 4\\nSkipping line 375: expected 1 fields, saw 7\\nSkipping line 379: expected 1 fields, saw 2\\nSkipping line 380: expected 1 fields, saw 2\\nSkipping line 383: expected 1 fields, saw 3\\nSkipping line 385: expected 1 fields, saw 3\\nSkipping line 387: expected 1 fields, saw 2\\nSkipping line 392: expected 1 fields, saw 4\\nSkipping line 393: expected 1 fields, saw 3\\nSkipping line 396: expected 1 fields, saw 3\\nSkipping line 397: expected 1 fields, saw 2\\nSkipping line 408: expected 1 fields, saw 2\\nSkipping line 411: expected 1 fields, saw 2\\nSkipping line 412: expected 1 fields, saw 2\\nSkipping line 415: expected 1 fields, saw 2\\nSkipping line 419: expected 1 fields, saw 2\\nSkipping line 420: expected 1 fields, saw 2\\nSkipping line 429: expected 1 fields, saw 6\\nSkipping line 436: expected 1 fields, saw 3\\nSkipping line 439: expected 1 fields, saw 2\\nSkipping line 440: expected 1 fields, saw 2\\nSkipping line 441: expected 1 fields, saw 3\\nSkipping line 457: expected 1 fields, saw 2\\nSkipping line 458: expected 1 fields, saw 3\\nSkipping line 463: expected 1 fields, saw 2\\nSkipping line 464: expected 1 fields, saw 2\\nSkipping line 481: expected 1 fields, saw 3\\nSkipping line 482: expected 1 fields, saw 2\\nSkipping line 484: expected 1 fields, saw 2\\nSkipping line 486: expected 1 fields, saw 2\\nSkipping line 487: expected 1 fields, saw 2\\nSkipping line 489: expected 1 fields, saw 2\\nSkipping line 490: expected 1 fields, saw 3\\nSkipping line 493: expected 1 fields, saw 3\\nSkipping line 496: expected 1 fields, saw 2\\nSkipping line 497: expected 1 fields, saw 2\\nSkipping line 501: expected 1 fields, saw 2\\nSkipping line 514: expected 1 fields, saw 2\\nSkipping line 518: expected 1 fields, saw 3\\nSkipping line 519: expected 1 fields, saw 4\\nSkipping line 524: expected 1 fields, saw 2\\nSkipping line 527: expected 1 fields, saw 4\\nSkipping line 529: expected 1 fields, saw 3\\nSkipping line 530: expected 1 fields, saw 3\\nSkipping line 531: expected 1 fields, saw 2\\nSkipping line 533: expected 1 fields, saw 4\\nSkipping line 539: expected 1 fields, saw 3\\nSkipping line 541: expected 1 fields, saw 3\\nSkipping line 554: expected 1 fields, saw 3\\nSkipping line 555: expected 1 fields, saw 2\\nSkipping line 559: expected 1 fields, saw 2\\nSkipping line 560: expected 1 fields, saw 2\\nSkipping line 561: expected 1 fields, saw 2\\nSkipping line 570: expected 1 fields, saw 2\\nSkipping line 572: expected 1 fields, saw 4\\nSkipping line 574: expected 1 fields, saw 2\\nSkipping line 576: expected 1 fields, saw 2\\nSkipping line 578: expected 1 fields, saw 2\\nSkipping line 579: expected 1 fields, saw 2\\nSkipping line 581: expected 1 fields, saw 2\\nSkipping line 582: expected 1 fields, saw 4\\nSkipping line 586: expected 1 fields, saw 3\\nSkipping line 587: expected 1 fields, saw 2\\nSkipping line 589: expected 1 fields, saw 3\\nSkipping line 592: expected 1 fields, saw 2\\nSkipping line 603: expected 1 fields, saw 2\\nSkipping line 604: expected 1 fields, saw 8\\nSkipping line 607: expected 1 fields, saw 3\\nSkipping line 609: expected 1 fields, saw 3\\nSkipping line 610: expected 1 fields, saw 3\\nSkipping line 611: expected 1 fields, saw 3\\nSkipping line 612: expected 1 fields, saw 2\\nSkipping line 616: expected 1 fields, saw 4\\nSkipping line 618: expected 1 fields, saw 2\\nSkipping line 621: expected 1 fields, saw 4\\nSkipping line 626: expected 1 fields, saw 2\\nSkipping line 632: expected 1 fields, saw 2\\nSkipping line 634: expected 1 fields, saw 2\\nSkipping line 635: expected 1 fields, saw 4\\nSkipping line 646: expected 1 fields, saw 2\\nSkipping line 649: expected 1 fields, saw 2\\nSkipping line 652: expected 1 fields, saw 2\\nSkipping line 661: expected 1 fields, saw 2\\nSkipping line 662: expected 1 fields, saw 2\\nSkipping line 668: expected 1 fields, saw 3\\nSkipping line 670: expected 1 fields, saw 2\\nSkipping line 671: expected 1 fields, saw 2\\nSkipping line 672: expected 1 fields, saw 5\\nSkipping line 673: expected 1 fields, saw 4\\nSkipping line 676: expected 1 fields, saw 2\\nSkipping line 681: expected 1 fields, saw 4\\nSkipping line 684: expected 1 fields, saw 2\\nSkipping line 688: expected 1 fields, saw 2\\nSkipping line 691: expected 1 fields, saw 2\\nSkipping line 696: expected 1 fields, saw 5\\nSkipping line 703: expected 1 fields, saw 3\\nSkipping line 704: expected 1 fields, saw 4\\nSkipping line 710: expected 1 fields, saw 2\\nSkipping line 718: expected 1 fields, saw 4\\nSkipping line 719: expected 1 fields, saw 2\\nSkipping line 720: expected 1 fields, saw 2\\nSkipping line 725: expected 1 fields, saw 2\\nSkipping line 726: expected 1 fields, saw 2\\nSkipping line 727: expected 1 fields, saw 4\\nSkipping line 729: expected 1 fields, saw 4\\nSkipping line 731: expected 1 fields, saw 2\\nSkipping line 733: expected 1 fields, saw 2\\nSkipping line 735: expected 1 fields, saw 2\\nSkipping line 736: expected 1 fields, saw 6\\nSkipping line 738: expected 1 fields, saw 2\\nSkipping line 739: expected 1 fields, saw 2\\nSkipping line 740: expected 1 fields, saw 2\\nSkipping line 741: expected 1 fields, saw 2\\nSkipping line 752: expected 1 fields, saw 2\\nSkipping line 758: expected 1 fields, saw 6\\nSkipping line 760: expected 1 fields, saw 5\\nSkipping line 764: expected 1 fields, saw 4\\nSkipping line 765: expected 1 fields, saw 2\\nSkipping line 770: expected 1 fields, saw 2\\nSkipping line 780: expected 1 fields, saw 2\\nSkipping line 781: expected 1 fields, saw 3\\nSkipping line 782: expected 1 fields, saw 3\\nSkipping line 784: expected 1 fields, saw 2\\nSkipping line 785: expected 1 fields, saw 2\\nSkipping line 788: expected 1 fields, saw 2\\nSkipping line 794: expected 1 fields, saw 2\\nSkipping line 795: expected 1 fields, saw 4\\nSkipping line 800: expected 1 fields, saw 2\\nSkipping line 801: expected 1 fields, saw 2\\nSkipping line 805: expected 1 fields, saw 2\\nSkipping line 807: expected 1 fields, saw 2\\nSkipping line 808: expected 1 fields, saw 2\\nSkipping line 810: expected 1 fields, saw 2\\nSkipping line 814: expected 1 fields, saw 3\\nSkipping line 815: expected 1 fields, saw 3\\nSkipping line 816: expected 1 fields, saw 2\\nSkipping line 824: expected 1 fields, saw 3\\nSkipping line 825: expected 1 fields, saw 2\\nSkipping line 829: expected 1 fields, saw 3\\nSkipping line 835: expected 1 fields, saw 2\\nSkipping line 837: expected 1 fields, saw 2\\nSkipping line 839: expected 1 fields, saw 2\\nSkipping line 843: expected 1 fields, saw 2\\nSkipping line 844: expected 1 fields, saw 2\\nSkipping line 847: expected 1 fields, saw 2\\nSkipping line 853: expected 1 fields, saw 2\\nSkipping line 854: expected 1 fields, saw 3\\nSkipping line 856: expected 1 fields, saw 2\\nSkipping line 866: expected 1 fields, saw 2\\nSkipping line 872: expected 1 fields, saw 4\\nSkipping line 873: expected 1 fields, saw 3\\nSkipping line 874: expected 1 fields, saw 2\\nSkipping line 876: expected 1 fields, saw 2\\nSkipping line 882: expected 1 fields, saw 2\\nSkipping line 883: expected 1 fields, saw 3\\nSkipping line 884: expected 1 fields, saw 3\\nSkipping line 885: expected 1 fields, saw 5\\nSkipping line 887: expected 1 fields, saw 2\\nSkipping line 889: expected 1 fields, saw 2\\nSkipping line 890: expected 1 fields, saw 2\\nSkipping line 892: expected 1 fields, saw 2\\nSkipping line 897: expected 1 fields, saw 2\\nSkipping line 909: expected 1 fields, saw 3\\nSkipping line 912: expected 1 fields, saw 4\\nSkipping line 914: expected 1 fields, saw 2\\nSkipping line 916: expected 1 fields, saw 3\\nSkipping line 921: expected 1 fields, saw 2\\nSkipping line 930: expected 1 fields, saw 2\\nSkipping line 933: expected 1 fields, saw 2\\nSkipping line 935: expected 1 fields, saw 3\\nSkipping line 940: expected 1 fields, saw 5\\nSkipping line 944: expected 1 fields, saw 2\\nSkipping line 947: expected 1 fields, saw 4\\nSkipping line 951: expected 1 fields, saw 2\\nSkipping line 952: expected 1 fields, saw 6\\nSkipping line 953: expected 1 fields, saw 2\\nSkipping line 954: expected 1 fields, saw 3\\nSkipping line 957: expected 1 fields, saw 2\\nSkipping line 965: expected 1 fields, saw 2\\nSkipping line 966: expected 1 fields, saw 2\\nSkipping line 967: expected 1 fields, saw 2\\nSkipping line 968: expected 1 fields, saw 2\\nSkipping line 975: expected 1 fields, saw 2\\nSkipping line 977: expected 1 fields, saw 2\\nSkipping line 985: expected 1 fields, saw 2\\nSkipping line 986: expected 1 fields, saw 4\\nSkipping line 990: expected 1 fields, saw 2\\nSkipping line 994: expected 1 fields, saw 2\\nSkipping line 996: expected 1 fields, saw 2\\nSkipping line 998: expected 1 fields, saw 2\\nSkipping line 1006: expected 1 fields, saw 4\\nSkipping line 1010: expected 1 fields, saw 2\\nSkipping line 1015: expected 1 fields, saw 2\\nSkipping line 1019: expected 1 fields, saw 2\\nSkipping line 1021: expected 1 fields, saw 2\\nSkipping line 1026: expected 1 fields, saw 2\\nSkipping line 1030: expected 1 fields, saw 2\\nSkipping line 1033: expected 1 fields, saw 2\\nSkipping line 1035: expected 1 fields, saw 2\\nSkipping line 1044: expected 1 fields, saw 3\\nSkipping line 1048: expected 1 fields, saw 2\\nSkipping line 1054: expected 1 fields, saw 4\\nSkipping line 1059: expected 1 fields, saw 3\\nSkipping line 1061: expected 1 fields, saw 2\\nSkipping line 1064: expected 1 fields, saw 2\\nSkipping line 1066: expected 1 fields, saw 2\\nSkipping line 1068: expected 1 fields, saw 2\\nSkipping line 1069: expected 1 fields, saw 2\\nSkipping line 1072: expected 1 fields, saw 2\\nSkipping line 1075: expected 1 fields, saw 3\\nSkipping line 1079: expected 1 fields, saw 2\\nSkipping line 1089: expected 1 fields, saw 3\\nSkipping line 1094: expected 1 fields, saw 2\\nSkipping line 1096: expected 1 fields, saw 2\\nSkipping line 1099: expected 1 fields, saw 2\\nSkipping line 1104: expected 1 fields, saw 2\\nSkipping line 1106: expected 1 fields, saw 2\\nSkipping line 1107: expected 1 fields, saw 4\\nSkipping line 1114: expected 1 fields, saw 2\\nSkipping line 1116: expected 1 fields, saw 2\\nSkipping line 1120: expected 1 fields, saw 2\\nSkipping line 1125: expected 1 fields, saw 2\\nSkipping line 1127: expected 1 fields, saw 2\\nSkipping line 1128: expected 1 fields, saw 6\\nSkipping line 1130: expected 1 fields, saw 3\\nSkipping line 1132: expected 1 fields, saw 2\\nSkipping line 1134: expected 1 fields, saw 3\\nSkipping line 1137: expected 1 fields, saw 2\\nSkipping line 1145: expected 1 fields, saw 7\\nSkipping line 1152: expected 1 fields, saw 2\\nSkipping line 1156: expected 1 fields, saw 2\\nSkipping line 1160: expected 1 fields, saw 2\\nSkipping line 1161: expected 1 fields, saw 2\\nSkipping line 1165: expected 1 fields, saw 4\\nSkipping line 1166: expected 1 fields, saw 2\\nSkipping line 1171: expected 1 fields, saw 2\\nSkipping line 1179: expected 1 fields, saw 2\\nSkipping line 1180: expected 1 fields, saw 4\\nSkipping line 1196: expected 1 fields, saw 2\\nSkipping line 1197: expected 1 fields, saw 2\\nSkipping line 1198: expected 1 fields, saw 2\\nSkipping line 1199: expected 1 fields, saw 2\\nSkipping line 1200: expected 1 fields, saw 4\\nSkipping line 1202: expected 1 fields, saw 2\\nSkipping line 1203: expected 1 fields, saw 2\\nSkipping line 1204: expected 1 fields, saw 4\\nSkipping line 1211: expected 1 fields, saw 2\\nSkipping line 1216: expected 1 fields, saw 4\\nSkipping line 1223: expected 1 fields, saw 2\\nSkipping line 1226: expected 1 fields, saw 3\\nSkipping line 1228: expected 1 fields, saw 4\\nSkipping line 1229: expected 1 fields, saw 3\\nSkipping line 1233: expected 1 fields, saw 3\\nSkipping line 1236: expected 1 fields, saw 3\\nSkipping line 1237: expected 1 fields, saw 2\\nSkipping line 1241: expected 1 fields, saw 2\\nSkipping line 1246: expected 1 fields, saw 4\\nSkipping line 1251: expected 1 fields, saw 2\\nSkipping line 1253: expected 1 fields, saw 2\\nSkipping line 1254: expected 1 fields, saw 2\\nSkipping line 1255: expected 1 fields, saw 2\\nSkipping line 1258: expected 1 fields, saw 2\\nSkipping line 1264: expected 1 fields, saw 3\\nSkipping line 1272: expected 1 fields, saw 2\\nSkipping line 1273: expected 1 fields, saw 2\\nSkipping line 1276: expected 1 fields, saw 3\\nSkipping line 1277: expected 1 fields, saw 2\\nSkipping line 1281: expected 1 fields, saw 2\\nSkipping line 1284: expected 1 fields, saw 3\\nSkipping line 1285: expected 1 fields, saw 2\\nSkipping line 1288: expected 1 fields, saw 2\\nSkipping line 1291: expected 1 fields, saw 3\\nSkipping line 1292: expected 1 fields, saw 2\\nSkipping line 1293: expected 1 fields, saw 3\\nSkipping line 1302: expected 1 fields, saw 2\\nSkipping line 1311: expected 1 fields, saw 2\\nSkipping line 1312: expected 1 fields, saw 2\\nSkipping line 1315: expected 1 fields, saw 3\\nSkipping line 1318: expected 1 fields, saw 3\\nSkipping line 1321: expected 1 fields, saw 2\\nSkipping line 1322: expected 1 fields, saw 2\\nSkipping line 1323: expected 1 fields, saw 4\\nSkipping line 1327: expected 1 fields, saw 2\\nSkipping line 1329: expected 1 fields, saw 2\\nSkipping line 1331: expected 1 fields, saw 2\\nSkipping line 1332: expected 1 fields, saw 3\\nSkipping line 1335: expected 1 fields, saw 2\\nSkipping line 1344: expected 1 fields, saw 4\\nSkipping line 1349: expected 1 fields, saw 2\\nSkipping line 1350: expected 1 fields, saw 2\\nSkipping line 1354: expected 1 fields, saw 2\\nSkipping line 1355: expected 1 fields, saw 2\\nSkipping line 1360: expected 1 fields, saw 2\\nSkipping line 1364: expected 1 fields, saw 3\\nSkipping line 1365: expected 1 fields, saw 2\\nSkipping line 1371: expected 1 fields, saw 3\\nSkipping line 1375: expected 1 fields, saw 2\\nSkipping line 1385: expected 1 fields, saw 2\\nSkipping line 1387: expected 1 fields, saw 2\\nSkipping line 1389: expected 1 fields, saw 6\\nSkipping line 1392: expected 1 fields, saw 3\\nSkipping line 1394: expected 1 fields, saw 3\\nSkipping line 1398: expected 1 fields, saw 2\\nSkipping line 1399: expected 1 fields, saw 2\\nSkipping line 1402: expected 1 fields, saw 3\\nSkipping line 1403: expected 1 fields, saw 2\\nSkipping line 1404: expected 1 fields, saw 3\\nSkipping line 1406: expected 1 fields, saw 2\\nSkipping line 1407: expected 1 fields, saw 2\\nSkipping line 1419: expected 1 fields, saw 2\\nSkipping line 1421: expected 1 fields, saw 3\\nSkipping line 1428: expected 1 fields, saw 3\\nSkipping line 1433: expected 1 fields, saw 2\\nSkipping line 1436: expected 1 fields, saw 2\\nSkipping line 1437: expected 1 fields, saw 3\\nSkipping line 1438: expected 1 fields, saw 4\\nSkipping line 1446: expected 1 fields, saw 4\\nSkipping line 1447: expected 1 fields, saw 2\\nSkipping line 1454: expected 1 fields, saw 2\\nSkipping line 1456: expected 1 fields, saw 2\\nSkipping line 1463: expected 1 fields, saw 2\\nSkipping line 1465: expected 1 fields, saw 8\\nSkipping line 1467: expected 1 fields, saw 3\\nSkipping line 1471: expected 1 fields, saw 3\\nSkipping line 1472: expected 1 fields, saw 3\\nSkipping line 1474: expected 1 fields, saw 2\\nSkipping line 1475: expected 1 fields, saw 2\\nSkipping line 1482: expected 1 fields, saw 2\\nSkipping line 1485: expected 1 fields, saw 2\\nSkipping line 1487: expected 1 fields, saw 4\\nSkipping line 1488: expected 1 fields, saw 2\\nSkipping line 1489: expected 1 fields, saw 3\\nSkipping line 1501: expected 1 fields, saw 2\\nSkipping line 1505: expected 1 fields, saw 5\\nSkipping line 1506: expected 1 fields, saw 4\\nSkipping line 1508: expected 1 fields, saw 2\\nSkipping line 1510: expected 1 fields, saw 2\\nSkipping line 1513: expected 1 fields, saw 2\\nSkipping line 1515: expected 1 fields, saw 2\\nSkipping line 1516: expected 1 fields, saw 3\\nSkipping line 1522: expected 1 fields, saw 2\\nSkipping line 1526: expected 1 fields, saw 8\\nSkipping line 1531: expected 1 fields, saw 2\\nSkipping line 1533: expected 1 fields, saw 2\\nSkipping line 1534: expected 1 fields, saw 3\\nSkipping line 1535: expected 1 fields, saw 2\\nSkipping line 1536: expected 1 fields, saw 2\\nSkipping line 1537: expected 1 fields, saw 2\\nSkipping line 1539: expected 1 fields, saw 5\\nSkipping line 1540: expected 1 fields, saw 2\\nSkipping line 1541: expected 1 fields, saw 2\\nSkipping line 1546: expected 1 fields, saw 2\\nSkipping line 1547: expected 1 fields, saw 2\\nSkipping line 1550: expected 1 fields, saw 3\\nSkipping line 1552: expected 1 fields, saw 5\\nSkipping line 1553: expected 1 fields, saw 2\\nSkipping line 1558: expected 1 fields, saw 2\\nSkipping line 1559: expected 1 fields, saw 2\\nSkipping line 1560: expected 1 fields, saw 4\\nSkipping line 1563: expected 1 fields, saw 4\\nSkipping line 1575: expected 1 fields, saw 2\\nSkipping line 1576: expected 1 fields, saw 2\\nSkipping line 1581: expected 1 fields, saw 2\\nSkipping line 1582: expected 1 fields, saw 2\\nSkipping line 1585: expected 1 fields, saw 2\\nSkipping line 1587: expected 1 fields, saw 2\\nSkipping line 1589: expected 1 fields, saw 2\\nSkipping line 1590: expected 1 fields, saw 2\\nSkipping line 1593: expected 1 fields, saw 2\\nSkipping line 1599: expected 1 fields, saw 2\\nSkipping line 1601: expected 1 fields, saw 2\\nSkipping line 1602: expected 1 fields, saw 2\\nSkipping line 1608: expected 1 fields, saw 2\\nSkipping line 1609: expected 1 fields, saw 2\\nSkipping line 1613: expected 1 fields, saw 3\\nSkipping line 1614: expected 1 fields, saw 2\\nSkipping line 1625: expected 1 fields, saw 2\\nSkipping line 1631: expected 1 fields, saw 2\\nSkipping line 1632: expected 1 fields, saw 3\\nSkipping line 1635: expected 1 fields, saw 2\\nSkipping line 1637: expected 1 fields, saw 2\\nSkipping line 1651: expected 1 fields, saw 6\\nSkipping line 1667: expected 1 fields, saw 4\\nSkipping line 1671: expected 1 fields, saw 2\\nSkipping line 1672: expected 1 fields, saw 2\\nSkipping line 1676: expected 1 fields, saw 2\\nSkipping line 1677: expected 1 fields, saw 3\\nSkipping line 1678: expected 1 fields, saw 2\\nSkipping line 1679: expected 1 fields, saw 3\\nSkipping line 1681: expected 1 fields, saw 2\\nSkipping line 1683: expected 1 fields, saw 2\\nSkipping line 1689: expected 1 fields, saw 4\\nSkipping line 1691: expected 1 fields, saw 2\\nSkipping line 1692: expected 1 fields, saw 2\\nSkipping line 1695: expected 1 fields, saw 2\\nSkipping line 1699: expected 1 fields, saw 3\\nSkipping line 1703: expected 1 fields, saw 3\\nSkipping line 1704: expected 1 fields, saw 2\\nSkipping line 1710: expected 1 fields, saw 5\\nSkipping line 1713: expected 1 fields, saw 2\\nSkipping line 1716: expected 1 fields, saw 5\\nSkipping line 1718: expected 1 fields, saw 2\\nSkipping line 1719: expected 1 fields, saw 3\\nSkipping line 1724: expected 1 fields, saw 2\\nSkipping line 1736: expected 1 fields, saw 2\\nSkipping line 1737: expected 1 fields, saw 2\\nSkipping line 1740: expected 1 fields, saw 4\\nSkipping line 1741: expected 1 fields, saw 2\\nSkipping line 1744: expected 1 fields, saw 2\\nSkipping line 1746: expected 1 fields, saw 2\\nSkipping line 1753: expected 1 fields, saw 4\\nSkipping line 1754: expected 1 fields, saw 2\\nSkipping line 1758: expected 1 fields, saw 2\\nSkipping line 1759: expected 1 fields, saw 2\\nSkipping line 1761: expected 1 fields, saw 2\\nSkipping line 1764: expected 1 fields, saw 2\\nSkipping line 1768: expected 1 fields, saw 2\\nSkipping line 1769: expected 1 fields, saw 3\\nSkipping line 1773: expected 1 fields, saw 2\\nSkipping line 1774: expected 1 fields, saw 2\\nSkipping line 1777: expected 1 fields, saw 2\\nSkipping line 1779: expected 1 fields, saw 2\\nSkipping line 1793: expected 1 fields, saw 2\\nSkipping line 1796: expected 1 fields, saw 3\\nSkipping line 1797: expected 1 fields, saw 2\\nSkipping line 1799: expected 1 fields, saw 2\\nSkipping line 1804: expected 1 fields, saw 3\\nSkipping line 1807: expected 1 fields, saw 3\\nSkipping line 1809: expected 1 fields, saw 3\\nSkipping line 1810: expected 1 fields, saw 2\\nSkipping line 1812: expected 1 fields, saw 2\\nSkipping line 1815: expected 1 fields, saw 2\\nSkipping line 1819: expected 1 fields, saw 2\\nSkipping line 1824: expected 1 fields, saw 2\\nSkipping line 1827: expected 1 fields, saw 2\\nSkipping line 1828: expected 1 fields, saw 2\\nSkipping line 1831: expected 1 fields, saw 2\\nSkipping line 1832: expected 1 fields, saw 2\\nSkipping line 1834: expected 1 fields, saw 2\\nSkipping line 1835: expected 1 fields, saw 2\\nSkipping line 1836: expected 1 fields, saw 2\\nSkipping line 1837: expected 1 fields, saw 2\\nSkipping line 1838: expected 1 fields, saw 3\\nSkipping line 1840: expected 1 fields, saw 2\\nSkipping line 1844: expected 1 fields, saw 2\\nSkipping line 1846: expected 1 fields, saw 2\\nSkipping line 1853: expected 1 fields, saw 4\\nSkipping line 1854: expected 1 fields, saw 4\\nSkipping line 1859: expected 1 fields, saw 2\\nSkipping line 1860: expected 1 fields, saw 2\\nSkipping line 1866: expected 1 fields, saw 2\\nSkipping line 1867: expected 1 fields, saw 3\\nSkipping line 1868: expected 1 fields, saw 2\\nSkipping line 1870: expected 1 fields, saw 4\\nSkipping line 1874: expected 1 fields, saw 2\\nSkipping line 1875: expected 1 fields, saw 2\\nSkipping line 1876: expected 1 fields, saw 2\\nSkipping line 1879: expected 1 fields, saw 2\\nSkipping line 1880: expected 1 fields, saw 9\\nSkipping line 1889: expected 1 fields, saw 2\\nSkipping line 1890: expected 1 fields, saw 2\\nSkipping line 1892: expected 1 fields, saw 3\\nSkipping line 1900: expected 1 fields, saw 2\\nSkipping line 1901: expected 1 fields, saw 2\\nSkipping line 1903: expected 1 fields, saw 2\\nSkipping line 1904: expected 1 fields, saw 4\\nSkipping line 1908: expected 1 fields, saw 3\\nSkipping line 1917: expected 1 fields, saw 2\\nSkipping line 1918: expected 1 fields, saw 2\\nSkipping line 1919: expected 1 fields, saw 5\\nSkipping line 1921: expected 1 fields, saw 3\\nSkipping line 1922: expected 1 fields, saw 2\\nSkipping line 1929: expected 1 fields, saw 3\\nSkipping line 1931: expected 1 fields, saw 2\\nSkipping line 1939: expected 1 fields, saw 2\\nSkipping line 1944: expected 1 fields, saw 2\\nSkipping line 1945: expected 1 fields, saw 2\\nSkipping line 1946: expected 1 fields, saw 2\\nSkipping line 1948: expected 1 fields, saw 2\\nSkipping line 1949: expected 1 fields, saw 2\\nSkipping line 1951: expected 1 fields, saw 3\\nSkipping line 1953: expected 1 fields, saw 3\\nSkipping line 1954: expected 1 fields, saw 3\\nSkipping line 1955: expected 1 fields, saw 3\\nSkipping line 1957: expected 1 fields, saw 2\\nSkipping line 1958: expected 1 fields, saw 2\\nSkipping line 1959: expected 1 fields, saw 2\\nSkipping line 1961: expected 1 fields, saw 4\\nSkipping line 1962: expected 1 fields, saw 2\\nSkipping line 1969: expected 1 fields, saw 2\\nSkipping line 1980: expected 1 fields, saw 2\\nSkipping line 1984: expected 1 fields, saw 3\\nSkipping line 1990: expected 1 fields, saw 4\\nSkipping line 1996: expected 1 fields, saw 2\\nSkipping line 1997: expected 1 fields, saw 2\\nSkipping line 1998: expected 1 fields, saw 2\\nSkipping line 1999: expected 1 fields, saw 2\\nSkipping line 2000: expected 1 fields, saw 2\\nSkipping line 2002: expected 1 fields, saw 4\\nSkipping line 2005: expected 1 fields, saw 3\\nSkipping line 2006: expected 1 fields, saw 2\\nSkipping line 2008: expected 1 fields, saw 2\\nSkipping line 2009: expected 1 fields, saw 2\\nSkipping line 2012: expected 1 fields, saw 2\\nSkipping line 2013: expected 1 fields, saw 2\\nSkipping line 2016: expected 1 fields, saw 2\\nSkipping line 2018: expected 1 fields, saw 2\\nSkipping line 2024: expected 1 fields, saw 3\\nSkipping line 2033: expected 1 fields, saw 3\\nSkipping line 2036: expected 1 fields, saw 2\\nSkipping line 2038: expected 1 fields, saw 2\\nSkipping line 2041: expected 1 fields, saw 4\\nSkipping line 2047: expected 1 fields, saw 2\\nSkipping line 2049: expected 1 fields, saw 2\\nSkipping line 2050: expected 1 fields, saw 2\\nSkipping line 2055: expected 1 fields, saw 3\\nSkipping line 2057: expected 1 fields, saw 2\\nSkipping line 2060: expected 1 fields, saw 3\\nSkipping line 2062: expected 1 fields, saw 2\\nSkipping line 2064: expected 1 fields, saw 2\\nSkipping line 2065: expected 1 fields, saw 2\\nSkipping line 2067: expected 1 fields, saw 2\\nSkipping line 2069: expected 1 fields, saw 6\\nSkipping line 2081: expected 1 fields, saw 3\\nSkipping line 2085: expected 1 fields, saw 6\\nSkipping line 2086: expected 1 fields, saw 3\\nSkipping line 2087: expected 1 fields, saw 4\\nSkipping line 2094: expected 1 fields, saw 3\\nSkipping line 2099: expected 1 fields, saw 3\\nSkipping line 2101: expected 1 fields, saw 2\\nSkipping line 2102: expected 1 fields, saw 2\\nSkipping line 2106: expected 1 fields, saw 2\\nSkipping line 2108: expected 1 fields, saw 2\\nSkipping line 2110: expected 1 fields, saw 3\\nSkipping line 2114: expected 1 fields, saw 2\\nSkipping line 2116: expected 1 fields, saw 2\\nSkipping line 2119: expected 1 fields, saw 4\\nSkipping line 2121: expected 1 fields, saw 2\\nSkipping line 2122: expected 1 fields, saw 2\\nSkipping line 2126: expected 1 fields, saw 3\\nSkipping line 2127: expected 1 fields, saw 3\\nSkipping line 2135: expected 1 fields, saw 3\\nSkipping line 2137: expected 1 fields, saw 2\\nSkipping line 2139: expected 1 fields, saw 3\\nSkipping line 2145: expected 1 fields, saw 2\\nSkipping line 2146: expected 1 fields, saw 2\\nSkipping line 2147: expected 1 fields, saw 2\\nSkipping line 2149: expected 1 fields, saw 2\\nSkipping line 2151: expected 1 fields, saw 3\\nSkipping line 2152: expected 1 fields, saw 2\\nSkipping line 2154: expected 1 fields, saw 3\\nSkipping line 2163: expected 1 fields, saw 2\\nSkipping line 2168: expected 1 fields, saw 2\\nSkipping line 2171: expected 1 fields, saw 2\\nSkipping line 2178: expected 1 fields, saw 2\\nSkipping line 2180: expected 1 fields, saw 3\\nSkipping line 2181: expected 1 fields, saw 4\\nSkipping line 2183: expected 1 fields, saw 2\\nSkipping line 2189: expected 1 fields, saw 3\\nSkipping line 2191: expected 1 fields, saw 2\\nSkipping line 2192: expected 1 fields, saw 2\\nSkipping line 2196: expected 1 fields, saw 3\\nSkipping line 2198: expected 1 fields, saw 2\\nSkipping line 2203: expected 1 fields, saw 2\\nSkipping line 2214: expected 1 fields, saw 2\\nSkipping line 2215: expected 1 fields, saw 2\\nSkipping line 2216: expected 1 fields, saw 3\\nSkipping line 2221: expected 1 fields, saw 3\\nSkipping line 2225: expected 1 fields, saw 3\\nSkipping line 2235: expected 1 fields, saw 4\\nSkipping line 2243: expected 1 fields, saw 2\\nSkipping line 2246: expected 1 fields, saw 2\\nSkipping line 2247: expected 1 fields, saw 2\\nSkipping line 2248: expected 1 fields, saw 3\\nSkipping line 2254: expected 1 fields, saw 4\\nSkipping line 2258: expected 1 fields, saw 2\\nSkipping line 2261: expected 1 fields, saw 2\\nSkipping line 2265: expected 1 fields, saw 2\\nSkipping line 2268: expected 1 fields, saw 4\\nSkipping line 2276: expected 1 fields, saw 2\\nSkipping line 2278: expected 1 fields, saw 2\\nSkipping line 2279: expected 1 fields, saw 4\\nSkipping line 2285: expected 1 fields, saw 2\\nSkipping line 2289: expected 1 fields, saw 6\\nSkipping line 2291: expected 1 fields, saw 2\\nSkipping line 2292: expected 1 fields, saw 2\\nSkipping line 2299: expected 1 fields, saw 3\\nSkipping line 2300: expected 1 fields, saw 7\\nSkipping line 2301: expected 1 fields, saw 3\\nSkipping line 2307: expected 1 fields, saw 3\\nSkipping line 2308: expected 1 fields, saw 2\\nSkipping line 2309: expected 1 fields, saw 2\\nSkipping line 2311: expected 1 fields, saw 2\\nSkipping line 2314: expected 1 fields, saw 3\\nSkipping line 2317: expected 1 fields, saw 2\\nSkipping line 2319: expected 1 fields, saw 2\\nSkipping line 2323: expected 1 fields, saw 2\\nSkipping line 2324: expected 1 fields, saw 3\\nSkipping line 2326: expected 1 fields, saw 3\\nSkipping line 2328: expected 1 fields, saw 2\\nSkipping line 2332: expected 1 fields, saw 2\\nSkipping line 2336: expected 1 fields, saw 2\\nSkipping line 2337: expected 1 fields, saw 4\\nSkipping line 2344: expected 1 fields, saw 2\\nSkipping line 2346: expected 1 fields, saw 2\\nSkipping line 2347: expected 1 fields, saw 2\\nSkipping line 2348: expected 1 fields, saw 2\\nSkipping line 2351: expected 1 fields, saw 2\\nSkipping line 2355: expected 1 fields, saw 3\\nSkipping line 2359: expected 1 fields, saw 2\\nSkipping line 2360: expected 1 fields, saw 4\\nSkipping line 2361: expected 1 fields, saw 2\\nSkipping line 2364: expected 1 fields, saw 2\\nSkipping line 2365: expected 1 fields, saw 2\\nSkipping line 2374: expected 1 fields, saw 2\\nSkipping line 2375: expected 1 fields, saw 2\\nSkipping line 2376: expected 1 fields, saw 2\\nSkipping line 2385: expected 1 fields, saw 2\\nSkipping line 2389: expected 1 fields, saw 2\\nSkipping line 2392: expected 1 fields, saw 2\\nSkipping line 2396: expected 1 fields, saw 2\\nSkipping line 2401: expected 1 fields, saw 2\\nSkipping line 2402: expected 1 fields, saw 2\\nSkipping line 2403: expected 1 fields, saw 2\\nSkipping line 2404: expected 1 fields, saw 2\\nSkipping line 2407: expected 1 fields, saw 5\\nSkipping line 2408: expected 1 fields, saw 2\\nSkipping line 2410: expected 1 fields, saw 2\\nSkipping line 2411: expected 1 fields, saw 2\\nSkipping line 2415: expected 1 fields, saw 2\\nSkipping line 2416: expected 1 fields, saw 2\\nSkipping line 2420: expected 1 fields, saw 2\\nSkipping line 2427: expected 1 fields, saw 2\\nSkipping line 2432: expected 1 fields, saw 3\\nSkipping line 2435: expected 1 fields, saw 2\\nSkipping line 2436: expected 1 fields, saw 2\\nSkipping line 2438: expected 1 fields, saw 5\\nSkipping line 2442: expected 1 fields, saw 2\\nSkipping line 2444: expected 1 fields, saw 2\\nSkipping line 2453: expected 1 fields, saw 3\\nSkipping line 2454: expected 1 fields, saw 4\\nSkipping line 2458: expected 1 fields, saw 2\\nSkipping line 2460: expected 1 fields, saw 3\\nSkipping line 2461: expected 1 fields, saw 3\\nSkipping line 2462: expected 1 fields, saw 2\\nSkipping line 2464: expected 1 fields, saw 7\\nSkipping line 2466: expected 1 fields, saw 2\\nSkipping line 2470: expected 1 fields, saw 2\\nSkipping line 2473: expected 1 fields, saw 2\\nSkipping line 2476: expected 1 fields, saw 3\\nSkipping line 2477: expected 1 fields, saw 3\\nSkipping line 2482: expected 1 fields, saw 2\\nSkipping line 2483: expected 1 fields, saw 2\\nSkipping line 2485: expected 1 fields, saw 2\\nSkipping line 2486: expected 1 fields, saw 2\\nSkipping line 2487: expected 1 fields, saw 3\\nSkipping line 2492: expected 1 fields, saw 2\\nSkipping line 2494: expected 1 fields, saw 2\\nSkipping line 2496: expected 1 fields, saw 4\\nSkipping line 2498: expected 1 fields, saw 5\\nSkipping line 2502: expected 1 fields, saw 4\\nSkipping line 2508: expected 1 fields, saw 2\\nSkipping line 2509: expected 1 fields, saw 2\\nSkipping line 2515: expected 1 fields, saw 2\\nSkipping line 2521: expected 1 fields, saw 2\\nSkipping line 2522: expected 1 fields, saw 2\\nSkipping line 2526: expected 1 fields, saw 2\\nSkipping line 2529: expected 1 fields, saw 2\\nSkipping line 2532: expected 1 fields, saw 2\\nSkipping line 2534: expected 1 fields, saw 3\\nSkipping line 2544: expected 1 fields, saw 2\\nSkipping line 2545: expected 1 fields, saw 2\\nSkipping line 2547: expected 1 fields, saw 2\\nSkipping line 2551: expected 1 fields, saw 2\\nSkipping line 2552: expected 1 fields, saw 3\\nSkipping line 2555: expected 1 fields, saw 3\\nSkipping line 2561: expected 1 fields, saw 2\\nSkipping line 2562: expected 1 fields, saw 2\\nSkipping line 2564: expected 1 fields, saw 5\\nSkipping line 2565: expected 1 fields, saw 2\\nSkipping line 2573: expected 1 fields, saw 6\\nSkipping line 2576: expected 1 fields, saw 2\\nSkipping line 2577: expected 1 fields, saw 2\\nSkipping line 2578: expected 1 fields, saw 11\\nSkipping line 2581: expected 1 fields, saw 2\\nSkipping line 2582: expected 1 fields, saw 2\\nSkipping line 2584: expected 1 fields, saw 2\\nSkipping line 2585: expected 1 fields, saw 4\\nSkipping line 2598: expected 1 fields, saw 4\\nSkipping line 2613: expected 1 fields, saw 3\\nSkipping line 2615: expected 1 fields, saw 2\\nSkipping line 2626: expected 1 fields, saw 3\\nSkipping line 2627: expected 1 fields, saw 2\\nSkipping line 2630: expected 1 fields, saw 3\\nSkipping line 2635: expected 1 fields, saw 2\\nSkipping line 2637: expected 1 fields, saw 2\\nSkipping line 2651: expected 1 fields, saw 2\\nSkipping line 2660: expected 1 fields, saw 2\\nSkipping line 2663: expected 1 fields, saw 2\\nSkipping line 2666: expected 1 fields, saw 2\\nSkipping line 2670: expected 1 fields, saw 2\\nSkipping line 2671: expected 1 fields, saw 2\\nSkipping line 2674: expected 1 fields, saw 2\\nSkipping line 2679: expected 1 fields, saw 2\\nSkipping line 2680: expected 1 fields, saw 2\\nSkipping line 2682: expected 1 fields, saw 2\\nSkipping line 2687: expected 1 fields, saw 2\\nSkipping line 2689: expected 1 fields, saw 2\\nSkipping line 2690: expected 1 fields, saw 3\\nSkipping line 2691: expected 1 fields, saw 2\\nSkipping line 2692: expected 1 fields, saw 2\\nSkipping line 2693: expected 1 fields, saw 2\\nSkipping line 2695: expected 1 fields, saw 2\\nSkipping line 2697: expected 1 fields, saw 2\\nSkipping line 2698: expected 1 fields, saw 2\\nSkipping line 2703: expected 1 fields, saw 2\\nSkipping line 2705: expected 1 fields, saw 5\\nSkipping line 2710: expected 1 fields, saw 3\\nSkipping line 2713: expected 1 fields, saw 3\\nSkipping line 2720: expected 1 fields, saw 4\\nSkipping line 2721: expected 1 fields, saw 5\\nSkipping line 2723: expected 1 fields, saw 2\\nSkipping line 2735: expected 1 fields, saw 2\\nSkipping line 2737: expected 1 fields, saw 2\\nSkipping line 2738: expected 1 fields, saw 2\\nSkipping line 2740: expected 1 fields, saw 4\\nSkipping line 2741: expected 1 fields, saw 2\\nSkipping line 2748: expected 1 fields, saw 2\\nSkipping line 2751: expected 1 fields, saw 3\\nSkipping line 2753: expected 1 fields, saw 2\\nSkipping line 2755: expected 1 fields, saw 3\\nSkipping line 2756: expected 1 fields, saw 3\\nSkipping line 2763: expected 1 fields, saw 2\\nSkipping line 2765: expected 1 fields, saw 2\\nSkipping line 2766: expected 1 fields, saw 2\\nSkipping line 2771: expected 1 fields, saw 3\\nSkipping line 2781: expected 1 fields, saw 5\\nSkipping line 2785: expected 1 fields, saw 2\\nSkipping line 2788: expected 1 fields, saw 3\\nSkipping line 2789: expected 1 fields, saw 4\\nSkipping line 2797: expected 1 fields, saw 4\\nSkipping line 2811: expected 1 fields, saw 2\\nSkipping line 2813: expected 1 fields, saw 2\\nSkipping line 2816: expected 1 fields, saw 2\\nSkipping line 2818: expected 1 fields, saw 2\\nSkipping line 2826: expected 1 fields, saw 2\\nSkipping line 2827: expected 1 fields, saw 3\\nSkipping line 2831: expected 1 fields, saw 2\\nSkipping line 2833: expected 1 fields, saw 2\\nSkipping line 2835: expected 1 fields, saw 2\\nSkipping line 2839: expected 1 fields, saw 3\\nSkipping line 2840: expected 1 fields, saw 2\\nSkipping line 2853: expected 1 fields, saw 2\\nSkipping line 2855: expected 1 fields, saw 4\\nSkipping line 2856: expected 1 fields, saw 2\\nSkipping line 2859: expected 1 fields, saw 2\\nSkipping line 2861: expected 1 fields, saw 2\\nSkipping line 2863: expected 1 fields, saw 2\\nSkipping line 2864: expected 1 fields, saw 3\\nSkipping line 2870: expected 1 fields, saw 2\\nSkipping line 2875: expected 1 fields, saw 2\\nSkipping line 2877: expected 1 fields, saw 2\\nSkipping line 2878: expected 1 fields, saw 3\\nSkipping line 2887: expected 1 fields, saw 5\\nSkipping line 2889: expected 1 fields, saw 2\\nSkipping line 2890: expected 1 fields, saw 2\\nSkipping line 2895: expected 1 fields, saw 2\\nSkipping line 2898: expected 1 fields, saw 3\\nSkipping line 2902: expected 1 fields, saw 4\\nSkipping line 2907: expected 1 fields, saw 2\\nSkipping line 2909: expected 1 fields, saw 2\\nSkipping line 2912: expected 1 fields, saw 3\\nSkipping line 2915: expected 1 fields, saw 2\\nSkipping line 2917: expected 1 fields, saw 2\\nSkipping line 2933: expected 1 fields, saw 2\\nSkipping line 2935: expected 1 fields, saw 2\\nSkipping line 2936: expected 1 fields, saw 3\\nSkipping line 2938: expected 1 fields, saw 2\\nSkipping line 2941: expected 1 fields, saw 3\\nSkipping line 2944: expected 1 fields, saw 2\\nSkipping line 2946: expected 1 fields, saw 3\\nSkipping line 2947: expected 1 fields, saw 2\\nSkipping line 2948: expected 1 fields, saw 3\\nSkipping line 2950: expected 1 fields, saw 2\\nSkipping line 2952: expected 1 fields, saw 2\\nSkipping line 2954: expected 1 fields, saw 9\\nSkipping line 2956: expected 1 fields, saw 5\\nSkipping line 2957: expected 1 fields, saw 2\\nSkipping line 2959: expected 1 fields, saw 3\\nSkipping line 2961: expected 1 fields, saw 4\\nSkipping line 2962: expected 1 fields, saw 2\\nSkipping line 2964: expected 1 fields, saw 2\\nSkipping line 2967: expected 1 fields, saw 3\\nSkipping line 2976: expected 1 fields, saw 2\\nSkipping line 2985: expected 1 fields, saw 2\\nSkipping line 2991: expected 1 fields, saw 2\\nSkipping line 2994: expected 1 fields, saw 2\\nSkipping line 2996: expected 1 fields, saw 2\\nSkipping line 3004: expected 1 fields, saw 2\\nSkipping line 3008: expected 1 fields, saw 3\\nSkipping line 3010: expected 1 fields, saw 2\\nSkipping line 3013: expected 1 fields, saw 3\\nSkipping line 3015: expected 1 fields, saw 3\\nSkipping line 3016: expected 1 fields, saw 2\\nSkipping line 3020: expected 1 fields, saw 2\\nSkipping line 3025: expected 1 fields, saw 2\\nSkipping line 3027: expected 1 fields, saw 3\\nSkipping line 3031: expected 1 fields, saw 2\\nSkipping line 3032: expected 1 fields, saw 2\\nSkipping line 3036: expected 1 fields, saw 2\\nSkipping line 3039: expected 1 fields, saw 5\\nSkipping line 3041: expected 1 fields, saw 2\\nSkipping line 3042: expected 1 fields, saw 3\\nSkipping line 3049: expected 1 fields, saw 2\\nSkipping line 3052: expected 1 fields, saw 4\\nSkipping line 3057: expected 1 fields, saw 2\\nSkipping line 3058: expected 1 fields, saw 2\\nSkipping line 3069: expected 1 fields, saw 2\\nSkipping line 3071: expected 1 fields, saw 3\\nSkipping line 3077: expected 1 fields, saw 11\\nSkipping line 3078: expected 1 fields, saw 4\\nSkipping line 3081: expected 1 fields, saw 2\\nSkipping line 3082: expected 1 fields, saw 4\\nSkipping line 3087: expected 1 fields, saw 2\\nSkipping line 3088: expected 1 fields, saw 2\\nSkipping line 3091: expected 1 fields, saw 2\\nSkipping line 3094: expected 1 fields, saw 2\\nSkipping line 3096: expected 1 fields, saw 3\\nSkipping line 3104: expected 1 fields, saw 2\\nSkipping line 3108: expected 1 fields, saw 3\\nSkipping line 3109: expected 1 fields, saw 2\\nSkipping line 3113: expected 1 fields, saw 2\\nSkipping line 3115: expected 1 fields, saw 4\\nSkipping line 3117: expected 1 fields, saw 2\\nSkipping line 3126: expected 1 fields, saw 2\\nSkipping line 3132: expected 1 fields, saw 3\\nSkipping line 3135: expected 1 fields, saw 2\\nSkipping line 3139: expected 1 fields, saw 2\\nSkipping line 3143: expected 1 fields, saw 2\\nSkipping line 3153: expected 1 fields, saw 2\\nSkipping line 3160: expected 1 fields, saw 2\\nSkipping line 3161: expected 1 fields, saw 4\\nSkipping line 3167: expected 1 fields, saw 3\\nSkipping line 3175: expected 1 fields, saw 2\\nSkipping line 3177: expected 1 fields, saw 2\\nSkipping line 3182: expected 1 fields, saw 2\\nSkipping line 3184: expected 1 fields, saw 3\\nSkipping line 3190: expected 1 fields, saw 2\\nSkipping line 3193: expected 1 fields, saw 3\\nSkipping line 3194: expected 1 fields, saw 2\\nSkipping line 3198: expected 1 fields, saw 2\\nSkipping line 3201: expected 1 fields, saw 2\\nSkipping line 3203: expected 1 fields, saw 5\\nSkipping line 3204: expected 1 fields, saw 2\\nSkipping line 3212: expected 1 fields, saw 4\\nSkipping line 3217: expected 1 fields, saw 3\\nSkipping line 3219: expected 1 fields, saw 3\\nSkipping line 3220: expected 1 fields, saw 2\\nSkipping line 3222: expected 1 fields, saw 2\\nSkipping line 3223: expected 1 fields, saw 2\\nSkipping line 3231: expected 1 fields, saw 6\\nSkipping line 3238: expected 1 fields, saw 2\\nSkipping line 3239: expected 1 fields, saw 5\\nSkipping line 3241: expected 1 fields, saw 2\\nSkipping line 3244: expected 1 fields, saw 5\\nSkipping line 3246: expected 1 fields, saw 2\\nSkipping line 3251: expected 1 fields, saw 2\\nSkipping line 3252: expected 1 fields, saw 3\\nSkipping line 3253: expected 1 fields, saw 2\\nSkipping line 3256: expected 1 fields, saw 3\\nSkipping line 3263: expected 1 fields, saw 3\\nSkipping line 3264: expected 1 fields, saw 2\\nSkipping line 3265: expected 1 fields, saw 2\\nSkipping line 3266: expected 1 fields, saw 2\\nSkipping line 3282: expected 1 fields, saw 8\\nSkipping line 3283: expected 1 fields, saw 2\\nSkipping line 3285: expected 1 fields, saw 5\\nSkipping line 3294: expected 1 fields, saw 2\\nSkipping line 3296: expected 1 fields, saw 4\\nSkipping line 3297: expected 1 fields, saw 3\\nSkipping line 3309: expected 1 fields, saw 2\\nSkipping line 3310: expected 1 fields, saw 2\\nSkipping line 3313: expected 1 fields, saw 12\\nSkipping line 3316: expected 1 fields, saw 2\\nSkipping line 3321: expected 1 fields, saw 2\\nSkipping line 3327: expected 1 fields, saw 2\\nSkipping line 3331: expected 1 fields, saw 2\\nSkipping line 3333: expected 1 fields, saw 2\\nSkipping line 3335: expected 1 fields, saw 3\\nSkipping line 3336: expected 1 fields, saw 2\\nSkipping line 3338: expected 1 fields, saw 2\\nSkipping line 3341: expected 1 fields, saw 2\\nSkipping line 3345: expected 1 fields, saw 2\\nSkipping line 3352: expected 1 fields, saw 2\\nSkipping line 3354: expected 1 fields, saw 2\\nSkipping line 3358: expected 1 fields, saw 3\\nSkipping line 3360: expected 1 fields, saw 2\\nSkipping line 3361: expected 1 fields, saw 2\\nSkipping line 3362: expected 1 fields, saw 2\\nSkipping line 3363: expected 1 fields, saw 2\\nSkipping line 3365: expected 1 fields, saw 2\\nSkipping line 3366: expected 1 fields, saw 3\\nSkipping line 3367: expected 1 fields, saw 3\\nSkipping line 3373: expected 1 fields, saw 2\\nSkipping line 3374: expected 1 fields, saw 3\\nSkipping line 3381: expected 1 fields, saw 2\\nSkipping line 3384: expected 1 fields, saw 3\\nSkipping line 3394: expected 1 fields, saw 2\\nSkipping line 3396: expected 1 fields, saw 2\\nSkipping line 3398: expected 1 fields, saw 3\\nSkipping line 3399: expected 1 fields, saw 3\\nSkipping line 3403: expected 1 fields, saw 2\\nSkipping line 3405: expected 1 fields, saw 3\\nSkipping line 3407: expected 1 fields, saw 6\\nSkipping line 3409: expected 1 fields, saw 3\\nSkipping line 3410: expected 1 fields, saw 5\\nSkipping line 3412: expected 1 fields, saw 2\\nSkipping line 3414: expected 1 fields, saw 2\\nSkipping line 3420: expected 1 fields, saw 2\\nSkipping line 3427: expected 1 fields, saw 2\\nSkipping line 3436: expected 1 fields, saw 4\\nSkipping line 3438: expected 1 fields, saw 2\\nSkipping line 3441: expected 1 fields, saw 3\\nSkipping line 3443: expected 1 fields, saw 2\\nSkipping line 3446: expected 1 fields, saw 7\\nSkipping line 3448: expected 1 fields, saw 4\\nSkipping line 3449: expected 1 fields, saw 2\\nSkipping line 3451: expected 1 fields, saw 2\\nSkipping line 3456: expected 1 fields, saw 2\\nSkipping line 3458: expected 1 fields, saw 3\\nSkipping line 3461: expected 1 fields, saw 2\\nSkipping line 3462: expected 1 fields, saw 3\\nSkipping line 3466: expected 1 fields, saw 2\\nSkipping line 3467: expected 1 fields, saw 2\\nSkipping line 3470: expected 1 fields, saw 2\\nSkipping line 3471: expected 1 fields, saw 2\\nSkipping line 3474: expected 1 fields, saw 2\\nSkipping line 3475: expected 1 fields, saw 2\\nSkipping line 3476: expected 1 fields, saw 2\\nSkipping line 3477: expected 1 fields, saw 4\\nSkipping line 3479: expected 1 fields, saw 2\\nSkipping line 3480: expected 1 fields, saw 3\\nSkipping line 3481: expected 1 fields, saw 5\\nSkipping line 3483: expected 1 fields, saw 2\\nSkipping line 3485: expected 1 fields, saw 2\\nSkipping line 3486: expected 1 fields, saw 3\\nSkipping line 3495: expected 1 fields, saw 2\\nSkipping line 3497: expected 1 fields, saw 2\\nSkipping line 3498: expected 1 fields, saw 2\\nSkipping line 3499: expected 1 fields, saw 2\\nSkipping line 3503: expected 1 fields, saw 2\\nSkipping line 3507: expected 1 fields, saw 2\\nSkipping line 3508: expected 1 fields, saw 2\\nSkipping line 3509: expected 1 fields, saw 5\\nSkipping line 3514: expected 1 fields, saw 2\\nSkipping line 3517: expected 1 fields, saw 7\\nSkipping line 3519: expected 1 fields, saw 3\\nSkipping line 3521: expected 1 fields, saw 3\\nSkipping line 3523: expected 1 fields, saw 2\\nSkipping line 3528: expected 1 fields, saw 2\\nSkipping line 3532: expected 1 fields, saw 4\\nSkipping line 3534: expected 1 fields, saw 4\\nSkipping line 3539: expected 1 fields, saw 2\\nSkipping line 3542: expected 1 fields, saw 2\\nSkipping line 3544: expected 1 fields, saw 2\\nSkipping line 3545: expected 1 fields, saw 2\\nSkipping line 3553: expected 1 fields, saw 2\\nSkipping line 3554: expected 1 fields, saw 2\\nSkipping line 3557: expected 1 fields, saw 2\\nSkipping line 3563: expected 1 fields, saw 2\\nSkipping line 3564: expected 1 fields, saw 2\\nSkipping line 3566: expected 1 fields, saw 2\\nSkipping line 3567: expected 1 fields, saw 3\\nSkipping line 3568: expected 1 fields, saw 2\\nSkipping line 3573: expected 1 fields, saw 2\\nSkipping line 3579: expected 1 fields, saw 2\\nSkipping line 3582: expected 1 fields, saw 4\\nSkipping line 3588: expected 1 fields, saw 2\\nSkipping line 3591: expected 1 fields, saw 3\\nSkipping line 3595: expected 1 fields, saw 2\\nSkipping line 3596: expected 1 fields, saw 2\\nSkipping line 3603: expected 1 fields, saw 2\\nSkipping line 3608: expected 1 fields, saw 2\\nSkipping line 3609: expected 1 fields, saw 2\\nSkipping line 3610: expected 1 fields, saw 3\\nSkipping line 3613: expected 1 fields, saw 3\\nSkipping line 3619: expected 1 fields, saw 2\\nSkipping line 3620: expected 1 fields, saw 3\\nSkipping line 3621: expected 1 fields, saw 2\\nSkipping line 3623: expected 1 fields, saw 2\\nSkipping line 3628: expected 1 fields, saw 2\\nSkipping line 3629: expected 1 fields, saw 2\\nSkipping line 3634: expected 1 fields, saw 2\\nSkipping line 3637: expected 1 fields, saw 5\\nSkipping line 3643: expected 1 fields, saw 4\\nSkipping line 3646: expected 1 fields, saw 3\\nSkipping line 3647: expected 1 fields, saw 2\\nSkipping line 3650: expected 1 fields, saw 2\\nSkipping line 3651: expected 1 fields, saw 4\\nSkipping line 3653: expected 1 fields, saw 5\\nSkipping line 3657: expected 1 fields, saw 2\\nSkipping line 3659: expected 1 fields, saw 2\\nSkipping line 3663: expected 1 fields, saw 3\\nSkipping line 3665: expected 1 fields, saw 2\\nSkipping line 3666: expected 1 fields, saw 2\\nSkipping line 3669: expected 1 fields, saw 2\\nSkipping line 3674: expected 1 fields, saw 2\\nSkipping line 3675: expected 1 fields, saw 3\\nSkipping line 3678: expected 1 fields, saw 2\\nSkipping line 3682: expected 1 fields, saw 3\\nSkipping line 3684: expected 1 fields, saw 2\\nSkipping line 3686: expected 1 fields, saw 2\\nSkipping line 3687: expected 1 fields, saw 2\\nSkipping line 3690: expected 1 fields, saw 2\\nSkipping line 3695: expected 1 fields, saw 2\\nSkipping line 3704: expected 1 fields, saw 2\\nSkipping line 3707: expected 1 fields, saw 2\\nSkipping line 3708: expected 1 fields, saw 2\\nSkipping line 3717: expected 1 fields, saw 2\\nSkipping line 3718: expected 1 fields, saw 2\\nSkipping line 3721: expected 1 fields, saw 2\\nSkipping line 3723: expected 1 fields, saw 2\\nSkipping line 3731: expected 1 fields, saw 5\\nSkipping line 3733: expected 1 fields, saw 4\\nSkipping line 3735: expected 1 fields, saw 2\\nSkipping line 3742: expected 1 fields, saw 2\\nSkipping line 3743: expected 1 fields, saw 2\\nSkipping line 3746: expected 1 fields, saw 3\\nSkipping line 3747: expected 1 fields, saw 2\\nSkipping line 3748: expected 1 fields, saw 2\\nSkipping line 3749: expected 1 fields, saw 4\\nSkipping line 3752: expected 1 fields, saw 2\\nSkipping line 3754: expected 1 fields, saw 2\\nSkipping line 3756: expected 1 fields, saw 2\\nSkipping line 3757: expected 1 fields, saw 5\\nSkipping line 3758: expected 1 fields, saw 4\\nSkipping line 3770: expected 1 fields, saw 4\\nSkipping line 3773: expected 1 fields, saw 2\\nSkipping line 3781: expected 1 fields, saw 2\\nSkipping line 3784: expected 1 fields, saw 2\\nSkipping line 3790: expected 1 fields, saw 5\\nSkipping line 3794: expected 1 fields, saw 2\\nSkipping line 3795: expected 1 fields, saw 3\\nSkipping line 3796: expected 1 fields, saw 2\\nSkipping line 3798: expected 1 fields, saw 3\\nSkipping line 3800: expected 1 fields, saw 3\\nSkipping line 3806: expected 1 fields, saw 3\\nSkipping line 3814: expected 1 fields, saw 2\\nSkipping line 3815: expected 1 fields, saw 2\\nSkipping line 3816: expected 1 fields, saw 2\\nSkipping line 3820: expected 1 fields, saw 2\\nSkipping line 3821: expected 1 fields, saw 2\\nSkipping line 3826: expected 1 fields, saw 2\\nSkipping line 3828: expected 1 fields, saw 3\\nSkipping line 3830: expected 1 fields, saw 2\\nSkipping line 3831: expected 1 fields, saw 2\\nSkipping line 3832: expected 1 fields, saw 6\\nSkipping line 3837: expected 1 fields, saw 3\\nSkipping line 3838: expected 1 fields, saw 2\\nSkipping line 3840: expected 1 fields, saw 3\\nSkipping line 3846: expected 1 fields, saw 2\\nSkipping line 3851: expected 1 fields, saw 2\\nSkipping line 3852: expected 1 fields, saw 2\\nSkipping line 3856: expected 1 fields, saw 2\\nSkipping line 3858: expected 1 fields, saw 2\\nSkipping line 3859: expected 1 fields, saw 2\\nSkipping line 3861: expected 1 fields, saw 2\\nSkipping line 3863: expected 1 fields, saw 2\\nSkipping line 3865: expected 1 fields, saw 2\\nSkipping line 3871: expected 1 fields, saw 3\\nSkipping line 3874: expected 1 fields, saw 2\\nSkipping line 3876: expected 1 fields, saw 2\\nSkipping line 3878: expected 1 fields, saw 4\\nSkipping line 3879: expected 1 fields, saw 2\\nSkipping line 3887: expected 1 fields, saw 3\\nSkipping line 3890: expected 1 fields, saw 3\\nSkipping line 3892: expected 1 fields, saw 2\\nSkipping line 3893: expected 1 fields, saw 3\\nSkipping line 3894: expected 1 fields, saw 2\\nSkipping line 3900: expected 1 fields, saw 2\\nSkipping line 3901: expected 1 fields, saw 2\\nSkipping line 3902: expected 1 fields, saw 2\\nSkipping line 3908: expected 1 fields, saw 2\\nSkipping line 3918: expected 1 fields, saw 3\\nSkipping line 3921: expected 1 fields, saw 3\\nSkipping line 3926: expected 1 fields, saw 7\\nSkipping line 3932: expected 1 fields, saw 2\\nSkipping line 3939: expected 1 fields, saw 4\\nSkipping line 3945: expected 1 fields, saw 2\\nSkipping line 3948: expected 1 fields, saw 3\\nSkipping line 3950: expected 1 fields, saw 5\\nSkipping line 3951: expected 1 fields, saw 3\\nSkipping line 3955: expected 1 fields, saw 4\\nSkipping line 3957: expected 1 fields, saw 2\\nSkipping line 3959: expected 1 fields, saw 2\\nSkipping line 3964: expected 1 fields, saw 2\\nSkipping line 3969: expected 1 fields, saw 2\\nSkipping line 3970: expected 1 fields, saw 4\\nSkipping line 3971: expected 1 fields, saw 2\\nSkipping line 3972: expected 1 fields, saw 2\\nSkipping line 3980: expected 1 fields, saw 2\\nSkipping line 3981: expected 1 fields, saw 3\\nSkipping line 3982: expected 1 fields, saw 2\\nSkipping line 3983: expected 1 fields, saw 2\\nSkipping line 3984: expected 1 fields, saw 4\\nSkipping line 3985: expected 1 fields, saw 3\\nSkipping line 3988: expected 1 fields, saw 2\\nSkipping line 3991: expected 1 fields, saw 2\\nSkipping line 3992: expected 1 fields, saw 2\\nSkipping line 3993: expected 1 fields, saw 2\\nSkipping line 3994: expected 1 fields, saw 2\\nSkipping line 3995: expected 1 fields, saw 2\\nSkipping line 3998: expected 1 fields, saw 3\\nSkipping line 3999: expected 1 fields, saw 2\\nSkipping line 4000: expected 1 fields, saw 2\\nSkipping line 4001: expected 1 fields, saw 2\\nSkipping line 4009: expected 1 fields, saw 2\\nSkipping line 4014: expected 1 fields, saw 2\\nSkipping line 4020: expected 1 fields, saw 6\\nSkipping line 4021: expected 1 fields, saw 2\\nSkipping line 4023: expected 1 fields, saw 2\\nSkipping line 4025: expected 1 fields, saw 4\\nSkipping line 4029: expected 1 fields, saw 2\\nSkipping line 4031: expected 1 fields, saw 2\\nSkipping line 4042: expected 1 fields, saw 3\\nSkipping line 4043: expected 1 fields, saw 2\\nSkipping line 4046: expected 1 fields, saw 3\\nSkipping line 4054: expected 1 fields, saw 2\\nSkipping line 4056: expected 1 fields, saw 3\\nSkipping line 4057: expected 1 fields, saw 3\\nSkipping line 4058: expected 1 fields, saw 4\\nSkipping line 4060: expected 1 fields, saw 2\\nSkipping line 4061: expected 1 fields, saw 6\\nSkipping line 4067: expected 1 fields, saw 5\\nSkipping line 4074: expected 1 fields, saw 3\\nSkipping line 4078: expected 1 fields, saw 2\\nSkipping line 4080: expected 1 fields, saw 4\\nSkipping line 4081: expected 1 fields, saw 2\\nSkipping line 4087: expected 1 fields, saw 3\\nSkipping line 4092: expected 1 fields, saw 3\\nSkipping line 4094: expected 1 fields, saw 2\\nSkipping line 4095: expected 1 fields, saw 2\\nSkipping line 4097: expected 1 fields, saw 2\\nSkipping line 4105: expected 1 fields, saw 2\\nSkipping line 4108: expected 1 fields, saw 3\\nSkipping line 4110: expected 1 fields, saw 3\\nSkipping line 4111: expected 1 fields, saw 2\\nSkipping line 4117: expected 1 fields, saw 4\\nSkipping line 4122: expected 1 fields, saw 3\\nSkipping line 4127: expected 1 fields, saw 2\\nSkipping line 4133: expected 1 fields, saw 3\\nSkipping line 4135: expected 1 fields, saw 5\\nSkipping line 4136: expected 1 fields, saw 2\\nSkipping line 4138: expected 1 fields, saw 2\\nSkipping line 4141: expected 1 fields, saw 2\\nSkipping line 4142: expected 1 fields, saw 5\\nSkipping line 4148: expected 1 fields, saw 2\\nSkipping line 4151: expected 1 fields, saw 2\\nSkipping line 4156: expected 1 fields, saw 2\\nSkipping line 4159: expected 1 fields, saw 2\\nSkipping line 4161: expected 1 fields, saw 3\\nSkipping line 4167: expected 1 fields, saw 2\\nSkipping line 4174: expected 1 fields, saw 6\\nSkipping line 4179: expected 1 fields, saw 2\\nSkipping line 4182: expected 1 fields, saw 2\\nSkipping line 4188: expected 1 fields, saw 3\\nSkipping line 4189: expected 1 fields, saw 2\\nSkipping line 4193: expected 1 fields, saw 2\\nSkipping line 4198: expected 1 fields, saw 3\\nSkipping line 4210: expected 1 fields, saw 2\\nSkipping line 4214: expected 1 fields, saw 4\\nSkipping line 4224: expected 1 fields, saw 2\\nSkipping line 4225: expected 1 fields, saw 2\\nSkipping line 4229: expected 1 fields, saw 3\\nSkipping line 4230: expected 1 fields, saw 5\\nSkipping line 4231: expected 1 fields, saw 3\\nSkipping line 4238: expected 1 fields, saw 4\\nSkipping line 4239: expected 1 fields, saw 2\\nSkipping line 4240: expected 1 fields, saw 4\\nSkipping line 4244: expected 1 fields, saw 2\\nSkipping line 4255: expected 1 fields, saw 2\\nSkipping line 4257: expected 1 fields, saw 2\\nSkipping line 4260: expected 1 fields, saw 2\\nSkipping line 4261: expected 1 fields, saw 5\\nSkipping line 4265: expected 1 fields, saw 2\\nSkipping line 4272: expected 1 fields, saw 2\\nSkipping line 4276: expected 1 fields, saw 4\\nSkipping line 4280: expected 1 fields, saw 2\\nSkipping line 4281: expected 1 fields, saw 2\\nSkipping line 4282: expected 1 fields, saw 2\\nSkipping line 4285: expected 1 fields, saw 4\\nSkipping line 4287: expected 1 fields, saw 3\\nSkipping line 4291: expected 1 fields, saw 2\\nSkipping line 4292: expected 1 fields, saw 2\\nSkipping line 4293: expected 1 fields, saw 4\\nSkipping line 4297: expected 1 fields, saw 4\\nSkipping line 4308: expected 1 fields, saw 2\\nSkipping line 4310: expected 1 fields, saw 2\\nSkipping line 4312: expected 1 fields, saw 3\\nSkipping line 4326: expected 1 fields, saw 2\\nSkipping line 4327: expected 1 fields, saw 2\\nSkipping line 4328: expected 1 fields, saw 3\\nSkipping line 4334: expected 1 fields, saw 2\\nSkipping line 4335: expected 1 fields, saw 2\\nSkipping line 4343: expected 1 fields, saw 2\\nSkipping line 4344: expected 1 fields, saw 2\\nSkipping line 4348: expected 1 fields, saw 2\\nSkipping line 4351: expected 1 fields, saw 2\\nSkipping line 4354: expected 1 fields, saw 2\\nSkipping line 4356: expected 1 fields, saw 4\\nSkipping line 4357: expected 1 fields, saw 3\\nSkipping line 4362: expected 1 fields, saw 4\\nSkipping line 4366: expected 1 fields, saw 2\\nSkipping line 4368: expected 1 fields, saw 3\\nSkipping line 4370: expected 1 fields, saw 2\\nSkipping line 4371: expected 1 fields, saw 3\\nSkipping line 4374: expected 1 fields, saw 5\\nSkipping line 4375: expected 1 fields, saw 2\\nSkipping line 4376: expected 1 fields, saw 2\\nSkipping line 4379: expected 1 fields, saw 4\\nSkipping line 4380: expected 1 fields, saw 2\\nSkipping line 4382: expected 1 fields, saw 2\\nSkipping line 4386: expected 1 fields, saw 2\\nSkipping line 4388: expected 1 fields, saw 2\\nSkipping line 4393: expected 1 fields, saw 2\\nSkipping line 4396: expected 1 fields, saw 2\\nSkipping line 4398: expected 1 fields, saw 2\\nSkipping line 4400: expected 1 fields, saw 2\\nSkipping line 4404: expected 1 fields, saw 2\\nSkipping line 4405: expected 1 fields, saw 3\\nSkipping line 4406: expected 1 fields, saw 3\\nSkipping line 4409: expected 1 fields, saw 3\\nSkipping line 4418: expected 1 fields, saw 3\\nSkipping line 4420: expected 1 fields, saw 3\\nSkipping line 4422: expected 1 fields, saw 5\\nSkipping line 4424: expected 1 fields, saw 2\\nSkipping line 4426: expected 1 fields, saw 3\\nSkipping line 4428: expected 1 fields, saw 2\\nSkipping line 4430: expected 1 fields, saw 2\\nSkipping line 4431: expected 1 fields, saw 2\\nSkipping line 4435: expected 1 fields, saw 2\\nSkipping line 4437: expected 1 fields, saw 2\\nSkipping line 4439: expected 1 fields, saw 2\\nSkipping line 4440: expected 1 fields, saw 2\\nSkipping line 4441: expected 1 fields, saw 2\\nSkipping line 4446: expected 1 fields, saw 3\\nSkipping line 4449: expected 1 fields, saw 3\\nSkipping line 4451: expected 1 fields, saw 2\\nSkipping line 4452: expected 1 fields, saw 3\\nSkipping line 4455: expected 1 fields, saw 3\\nSkipping line 4457: expected 1 fields, saw 3\\nSkipping line 4460: expected 1 fields, saw 2\\nSkipping line 4464: expected 1 fields, saw 2\\nSkipping line 4469: expected 1 fields, saw 3\\nSkipping line 4472: expected 1 fields, saw 2\\nSkipping line 4478: expected 1 fields, saw 2\\nSkipping line 4482: expected 1 fields, saw 2\\nSkipping line 4485: expected 1 fields, saw 2\\nSkipping line 4488: expected 1 fields, saw 2\\nSkipping line 4492: expected 1 fields, saw 2\\nSkipping line 4494: expected 1 fields, saw 3\\nSkipping line 4496: expected 1 fields, saw 3\\nSkipping line 4503: expected 1 fields, saw 3\\nSkipping line 4504: expected 1 fields, saw 3\\nSkipping line 4506: expected 1 fields, saw 3\\nSkipping line 4517: expected 1 fields, saw 3\\nSkipping line 4518: expected 1 fields, saw 2\\nSkipping line 4519: expected 1 fields, saw 4\\nSkipping line 4520: expected 1 fields, saw 2\\nSkipping line 4522: expected 1 fields, saw 2\\nSkipping line 4523: expected 1 fields, saw 4\\nSkipping line 4534: expected 1 fields, saw 4\\nSkipping line 4541: expected 1 fields, saw 2\\nSkipping line 4543: expected 1 fields, saw 2\\nSkipping line 4545: expected 1 fields, saw 2\\nSkipping line 4551: expected 1 fields, saw 3\\nSkipping line 4553: expected 1 fields, saw 2\\nSkipping line 4554: expected 1 fields, saw 2\\nSkipping line 4557: expected 1 fields, saw 3\\nSkipping line 4564: expected 1 fields, saw 2\\nSkipping line 4565: expected 1 fields, saw 2\\nSkipping line 4574: expected 1 fields, saw 2\\nSkipping line 4576: expected 1 fields, saw 2\\nSkipping line 4578: expected 1 fields, saw 2\\nSkipping line 4579: expected 1 fields, saw 3\\nSkipping line 4581: expected 1 fields, saw 2\\nSkipping line 4584: expected 1 fields, saw 2\\nSkipping line 4588: expected 1 fields, saw 3\\nSkipping line 4594: expected 1 fields, saw 2\\nSkipping line 4595: expected 1 fields, saw 2\\nSkipping line 4596: expected 1 fields, saw 2\\nSkipping line 4597: expected 1 fields, saw 6\\nSkipping line 4598: expected 1 fields, saw 3\\nSkipping line 4601: expected 1 fields, saw 2\\nSkipping line 4603: expected 1 fields, saw 5\\nSkipping line 4605: expected 1 fields, saw 3\\nSkipping line 4606: expected 1 fields, saw 2\\nSkipping line 4609: expected 1 fields, saw 2\\nSkipping line 4611: expected 1 fields, saw 2\\nSkipping line 4612: expected 1 fields, saw 2\\nSkipping line 4615: expected 1 fields, saw 3\\nSkipping line 4616: expected 1 fields, saw 2\\nSkipping line 4619: expected 1 fields, saw 2\\nSkipping line 4620: expected 1 fields, saw 2\\nSkipping line 4621: expected 1 fields, saw 2\\nSkipping line 4622: expected 1 fields, saw 3\\nSkipping line 4626: expected 1 fields, saw 3\\nSkipping line 4627: expected 1 fields, saw 4\\nSkipping line 4630: expected 1 fields, saw 4\\nSkipping line 4634: expected 1 fields, saw 2\\nSkipping line 4636: expected 1 fields, saw 2\\nSkipping line 4640: expected 1 fields, saw 2\\nSkipping line 4641: expected 1 fields, saw 2\\nSkipping line 4654: expected 1 fields, saw 3\\nSkipping line 4656: expected 1 fields, saw 2\\nSkipping line 4667: expected 1 fields, saw 2\\nSkipping line 4668: expected 1 fields, saw 5\\nSkipping line 4673: expected 1 fields, saw 2\\nSkipping line 4674: expected 1 fields, saw 2\\nSkipping line 4679: expected 1 fields, saw 3\\nSkipping line 4681: expected 1 fields, saw 2\\nSkipping line 4684: expected 1 fields, saw 2\\nSkipping line 4685: expected 1 fields, saw 3\\nSkipping line 4686: expected 1 fields, saw 2\\nSkipping line 4689: expected 1 fields, saw 2\\nSkipping line 4697: expected 1 fields, saw 2\\nSkipping line 4703: expected 1 fields, saw 3\\nSkipping line 4705: expected 1 fields, saw 5\\nSkipping line 4706: expected 1 fields, saw 2\\nSkipping line 4711: expected 1 fields, saw 3\\nSkipping line 4713: expected 1 fields, saw 2\\nSkipping line 4715: expected 1 fields, saw 4\\nSkipping line 4721: expected 1 fields, saw 2\\nSkipping line 4728: expected 1 fields, saw 3\\nSkipping line 4735: expected 1 fields, saw 2\\nSkipping line 4739: expected 1 fields, saw 2\\nSkipping line 4741: expected 1 fields, saw 5\\nSkipping line 4743: expected 1 fields, saw 2\\nSkipping line 4745: expected 1 fields, saw 2\\nSkipping line 4748: expected 1 fields, saw 2\\nSkipping line 4749: expected 1 fields, saw 2\\nSkipping line 4752: expected 1 fields, saw 3\\nSkipping line 4754: expected 1 fields, saw 2\\nSkipping line 4755: expected 1 fields, saw 2\\nSkipping line 4761: expected 1 fields, saw 2\\nSkipping line 4763: expected 1 fields, saw 3\\nSkipping line 4765: expected 1 fields, saw 2\\nSkipping line 4767: expected 1 fields, saw 2\\nSkipping line 4771: expected 1 fields, saw 2\\nSkipping line 4777: expected 1 fields, saw 3\\nSkipping line 4778: expected 1 fields, saw 5\\nSkipping line 4779: expected 1 fields, saw 2\\nSkipping line 4783: expected 1 fields, saw 2\\nSkipping line 4785: expected 1 fields, saw 2\\nSkipping line 4791: expected 1 fields, saw 3\\nSkipping line 4804: expected 1 fields, saw 3\\nSkipping line 4807: expected 1 fields, saw 2\\nSkipping line 4814: expected 1 fields, saw 2\\nSkipping line 4815: expected 1 fields, saw 3\\nSkipping line 4824: expected 1 fields, saw 2\\nSkipping line 4827: expected 1 fields, saw 5\\nSkipping line 4830: expected 1 fields, saw 2\\nSkipping line 4833: expected 1 fields, saw 6\\nSkipping line 4839: expected 1 fields, saw 2\\nSkipping line 4841: expected 1 fields, saw 2\\nSkipping line 4854: expected 1 fields, saw 5\\nSkipping line 4857: expected 1 fields, saw 2\\nSkipping line 4859: expected 1 fields, saw 3\\nSkipping line 4861: expected 1 fields, saw 2\\nSkipping line 4862: expected 1 fields, saw 2\\nSkipping line 4863: expected 1 fields, saw 3\\nSkipping line 4874: expected 1 fields, saw 2\\nSkipping line 4876: expected 1 fields, saw 2\\nSkipping line 4879: expected 1 fields, saw 2\\nSkipping line 4883: expected 1 fields, saw 4\\nSkipping line 4886: expected 1 fields, saw 2\\nSkipping line 4887: expected 1 fields, saw 4\\nSkipping line 4890: expected 1 fields, saw 3\\nSkipping line 4896: expected 1 fields, saw 2\\nSkipping line 4903: expected 1 fields, saw 2\\nSkipping line 4905: expected 1 fields, saw 2\\nSkipping line 4913: expected 1 fields, saw 2\\nSkipping line 4917: expected 1 fields, saw 3\\nSkipping line 4918: expected 1 fields, saw 3\\nSkipping line 4922: expected 1 fields, saw 2\\nSkipping line 4926: expected 1 fields, saw 2\\nSkipping line 4930: expected 1 fields, saw 4\\nSkipping line 4931: expected 1 fields, saw 2\\nSkipping line 4932: expected 1 fields, saw 2\\nSkipping line 4944: expected 1 fields, saw 2\\nSkipping line 4949: expected 1 fields, saw 2\\nSkipping line 4950: expected 1 fields, saw 3\\nSkipping line 4954: expected 1 fields, saw 3\\nSkipping line 4959: expected 1 fields, saw 2\\nSkipping line 4969: expected 1 fields, saw 2\\nSkipping line 4971: expected 1 fields, saw 2\\nSkipping line 4973: expected 1 fields, saw 3\\nSkipping line 4995: expected 1 fields, saw 5\\nSkipping line 4997: expected 1 fields, saw 2\\nSkipping line 5004: expected 1 fields, saw 2\\nSkipping line 5005: expected 1 fields, saw 2\\nSkipping line 5007: expected 1 fields, saw 3\\nSkipping line 5013: expected 1 fields, saw 2\\nSkipping line 5018: expected 1 fields, saw 2\\nSkipping line 5025: expected 1 fields, saw 2\\nSkipping line 5026: expected 1 fields, saw 2\\nSkipping line 5028: expected 1 fields, saw 4\\nSkipping line 5029: expected 1 fields, saw 4\\nSkipping line 5030: expected 1 fields, saw 2\\nSkipping line 5041: expected 1 fields, saw 2\\nSkipping line 5044: expected 1 fields, saw 2\\nSkipping line 5046: expected 1 fields, saw 2\\nSkipping line 5047: expected 1 fields, saw 2\\nSkipping line 5052: expected 1 fields, saw 2\\nSkipping line 5054: expected 1 fields, saw 2\\nSkipping line 5055: expected 1 fields, saw 2\\nSkipping line 5061: expected 1 fields, saw 2\\nSkipping line 5069: expected 1 fields, saw 3\\nSkipping line 5074: expected 1 fields, saw 2\\nSkipping line 5081: expected 1 fields, saw 2\\nSkipping line 5084: expected 1 fields, saw 4\\nSkipping line 5085: expected 1 fields, saw 2\\nSkipping line 5087: expected 1 fields, saw 2\\nSkipping line 5090: expected 1 fields, saw 2\\nSkipping line 5092: expected 1 fields, saw 5\\nSkipping line 5095: expected 1 fields, saw 5\\nSkipping line 5097: expected 1 fields, saw 2\\nSkipping line 5101: expected 1 fields, saw 2\\nSkipping line 5107: expected 1 fields, saw 2\\nSkipping line 5109: expected 1 fields, saw 3\\nSkipping line 5110: expected 1 fields, saw 2\\nSkipping line 5111: expected 1 fields, saw 4\\nSkipping line 5112: expected 1 fields, saw 3\\nSkipping line 5114: expected 1 fields, saw 2\\nSkipping line 5116: expected 1 fields, saw 2\\nSkipping line 5119: expected 1 fields, saw 2\\nSkipping line 5121: expected 1 fields, saw 2\\nSkipping line 5123: expected 1 fields, saw 2\\nSkipping line 5126: expected 1 fields, saw 2\\nSkipping line 5128: expected 1 fields, saw 2\\nSkipping line 5129: expected 1 fields, saw 2\\nSkipping line 5130: expected 1 fields, saw 2\\nSkipping line 5131: expected 1 fields, saw 3\\nSkipping line 5137: expected 1 fields, saw 2\\nSkipping line 5138: expected 1 fields, saw 2\\nSkipping line 5141: expected 1 fields, saw 2\\nSkipping line 5149: expected 1 fields, saw 3\\nSkipping line 5152: expected 1 fields, saw 2\\nSkipping line 5154: expected 1 fields, saw 2\\nSkipping line 5155: expected 1 fields, saw 2\\nSkipping line 5156: expected 1 fields, saw 4\\nSkipping line 5157: expected 1 fields, saw 2\\nSkipping line 5160: expected 1 fields, saw 4\\nSkipping line 5164: expected 1 fields, saw 3\\nSkipping line 5167: expected 1 fields, saw 2\\nSkipping line 5168: expected 1 fields, saw 2\\nSkipping line 5171: expected 1 fields, saw 4\\nSkipping line 5172: expected 1 fields, saw 2\\nSkipping line 5174: expected 1 fields, saw 4\\nSkipping line 5181: expected 1 fields, saw 2\\nSkipping line 5182: expected 1 fields, saw 2\\nSkipping line 5183: expected 1 fields, saw 3\\nSkipping line 5193: expected 1 fields, saw 2\\nSkipping line 5195: expected 1 fields, saw 4\\nSkipping line 5206: expected 1 fields, saw 2\\nSkipping line 5209: expected 1 fields, saw 2\\nSkipping line 5219: expected 1 fields, saw 3\\nSkipping line 5220: expected 1 fields, saw 3\\nSkipping line 5224: expected 1 fields, saw 3\\nSkipping line 5225: expected 1 fields, saw 3\\nSkipping line 5226: expected 1 fields, saw 3\\nSkipping line 5229: expected 1 fields, saw 2\\nSkipping line 5234: expected 1 fields, saw 2\\nSkipping line 5236: expected 1 fields, saw 2\\nSkipping line 5239: expected 1 fields, saw 2\\nSkipping line 5242: expected 1 fields, saw 2\\nSkipping line 5243: expected 1 fields, saw 2\\nSkipping line 5245: expected 1 fields, saw 6\\nSkipping line 5246: expected 1 fields, saw 5\\nSkipping line 5247: expected 1 fields, saw 2\\nSkipping line 5253: expected 1 fields, saw 2\\nSkipping line 5254: expected 1 fields, saw 2\\nSkipping line 5255: expected 1 fields, saw 2\\nSkipping line 5256: expected 1 fields, saw 2\\nSkipping line 5258: expected 1 fields, saw 2\\nSkipping line 5261: expected 1 fields, saw 2\\nSkipping line 5262: expected 1 fields, saw 2\\nSkipping line 5264: expected 1 fields, saw 3\\nSkipping line 5269: expected 1 fields, saw 2\\nSkipping line 5271: expected 1 fields, saw 2\\nSkipping line 5272: expected 1 fields, saw 3\\nSkipping line 5275: expected 1 fields, saw 2\\nSkipping line 5276: expected 1 fields, saw 2\\nSkipping line 5277: expected 1 fields, saw 2\\nSkipping line 5279: expected 1 fields, saw 6\\nSkipping line 5280: expected 1 fields, saw 2\\nSkipping line 5283: expected 1 fields, saw 2\\nSkipping line 5287: expected 1 fields, saw 2\\nSkipping line 5288: expected 1 fields, saw 3\\nSkipping line 5291: expected 1 fields, saw 2\\nSkipping line 5295: expected 1 fields, saw 4\\nSkipping line 5297: expected 1 fields, saw 4\\nSkipping line 5302: expected 1 fields, saw 2\\nSkipping line 5305: expected 1 fields, saw 3\\nSkipping line 5309: expected 1 fields, saw 2\\nSkipping line 5313: expected 1 fields, saw 2\\nSkipping line 5314: expected 1 fields, saw 2\\nSkipping line 5315: expected 1 fields, saw 2\\nSkipping line 5316: expected 1 fields, saw 2\\nSkipping line 5322: expected 1 fields, saw 2\\nSkipping line 5323: expected 1 fields, saw 2\\nSkipping line 5325: expected 1 fields, saw 2\\nSkipping line 5330: expected 1 fields, saw 2\\nSkipping line 5332: expected 1 fields, saw 3\\nSkipping line 5338: expected 1 fields, saw 2\\nSkipping line 5340: expected 1 fields, saw 2\\nSkipping line 5341: expected 1 fields, saw 2\\nSkipping line 5343: expected 1 fields, saw 3\\nSkipping line 5346: expected 1 fields, saw 3\\nSkipping line 5351: expected 1 fields, saw 2\\nSkipping line 5354: expected 1 fields, saw 2\\nSkipping line 5356: expected 1 fields, saw 3\\nSkipping line 5357: expected 1 fields, saw 2\\nSkipping line 5360: expected 1 fields, saw 2\\nSkipping line 5362: expected 1 fields, saw 2\\nSkipping line 5366: expected 1 fields, saw 2\\nSkipping line 5367: expected 1 fields, saw 2\\nSkipping line 5368: expected 1 fields, saw 2\\nSkipping line 5371: expected 1 fields, saw 2\\nSkipping line 5373: expected 1 fields, saw 4\\nSkipping line 5374: expected 1 fields, saw 2\\nSkipping line 5376: expected 1 fields, saw 2\\nSkipping line 5380: expected 1 fields, saw 2\\nSkipping line 5384: expected 1 fields, saw 3\\nSkipping line 5387: expected 1 fields, saw 2\\nSkipping line 5390: expected 1 fields, saw 2\\nSkipping line 5391: expected 1 fields, saw 3\\nSkipping line 5392: expected 1 fields, saw 2\\nSkipping line 5394: expected 1 fields, saw 3\\nSkipping line 5398: expected 1 fields, saw 2\\nSkipping line 5400: expected 1 fields, saw 3\\nSkipping line 5406: expected 1 fields, saw 4\\nSkipping line 5407: expected 1 fields, saw 2\\nSkipping line 5410: expected 1 fields, saw 5\\nSkipping line 5411: expected 1 fields, saw 3\\nSkipping line 5414: expected 1 fields, saw 2\\nSkipping line 5418: expected 1 fields, saw 2\\nSkipping line 5421: expected 1 fields, saw 4\\nSkipping line 5424: expected 1 fields, saw 2\\nSkipping line 5427: expected 1 fields, saw 2\\nSkipping line 5428: expected 1 fields, saw 2\\nSkipping line 5430: expected 1 fields, saw 4\\nSkipping line 5436: expected 1 fields, saw 2\\nSkipping line 5437: expected 1 fields, saw 2\\nSkipping line 5439: expected 1 fields, saw 3\\nSkipping line 5447: expected 1 fields, saw 2\\nSkipping line 5448: expected 1 fields, saw 5\\nSkipping line 5450: expected 1 fields, saw 3\\nSkipping line 5454: expected 1 fields, saw 2\\nSkipping line 5460: expected 1 fields, saw 3\\nSkipping line 5461: expected 1 fields, saw 2\\nSkipping line 5462: expected 1 fields, saw 2\\nSkipping line 5474: expected 1 fields, saw 5\\nSkipping line 5477: expected 1 fields, saw 4\\nSkipping line 5483: expected 1 fields, saw 4\\nSkipping line 5484: expected 1 fields, saw 4\\nSkipping line 5490: expected 1 fields, saw 6\\nSkipping line 5491: expected 1 fields, saw 3\\nSkipping line 5495: expected 1 fields, saw 3\\nSkipping line 5498: expected 1 fields, saw 3\\nSkipping line 5502: expected 1 fields, saw 2\\nSkipping line 5503: expected 1 fields, saw 2\\nSkipping line 5504: expected 1 fields, saw 2\\nSkipping line 5505: expected 1 fields, saw 2\\nSkipping line 5506: expected 1 fields, saw 3\\nSkipping line 5507: expected 1 fields, saw 2\\nSkipping line 5509: expected 1 fields, saw 4\\nSkipping line 5512: expected 1 fields, saw 2\\nSkipping line 5514: expected 1 fields, saw 2\\nSkipping line 5515: expected 1 fields, saw 2\\nSkipping line 5516: expected 1 fields, saw 3\\nSkipping line 5526: expected 1 fields, saw 2\\nSkipping line 5527: expected 1 fields, saw 8\\nSkipping line 5529: expected 1 fields, saw 3\\nSkipping line 5530: expected 1 fields, saw 2\\nSkipping line 5532: expected 1 fields, saw 2\\nSkipping line 5535: expected 1 fields, saw 2\\nSkipping line 5540: expected 1 fields, saw 3\\nSkipping line 5542: expected 1 fields, saw 3\\nSkipping line 5544: expected 1 fields, saw 2\\nSkipping line 5547: expected 1 fields, saw 2\\nSkipping line 5549: expected 1 fields, saw 2\\nSkipping line 5561: expected 1 fields, saw 2\\nSkipping line 5562: expected 1 fields, saw 2\\nSkipping line 5565: expected 1 fields, saw 2\\nSkipping line 5566: expected 1 fields, saw 2\\nSkipping line 5569: expected 1 fields, saw 3\\nSkipping line 5570: expected 1 fields, saw 4\\nSkipping line 5577: expected 1 fields, saw 2\\nSkipping line 5579: expected 1 fields, saw 2\\nSkipping line 5580: expected 1 fields, saw 3\\nSkipping line 5584: expected 1 fields, saw 2\\nSkipping line 5585: expected 1 fields, saw 4\\nSkipping line 5587: expected 1 fields, saw 3\\nSkipping line 5589: expected 1 fields, saw 2\\nSkipping line 5591: expected 1 fields, saw 2\\nSkipping line 5592: expected 1 fields, saw 3\\nSkipping line 5594: expected 1 fields, saw 3\\nSkipping line 5596: expected 1 fields, saw 2\\nSkipping line 5598: expected 1 fields, saw 4\\nSkipping line 5603: expected 1 fields, saw 2\\nSkipping line 5605: expected 1 fields, saw 3\\nSkipping line 5611: expected 1 fields, saw 3\\nSkipping line 5612: expected 1 fields, saw 2\\nSkipping line 5613: expected 1 fields, saw 2\\nSkipping line 5615: expected 1 fields, saw 2\\nSkipping line 5618: expected 1 fields, saw 2\\nSkipping line 5620: expected 1 fields, saw 5\\nSkipping line 5624: expected 1 fields, saw 4\\nSkipping line 5629: expected 1 fields, saw 3\\nSkipping line 5631: expected 1 fields, saw 2\\nSkipping line 5633: expected 1 fields, saw 2\\nSkipping line 5641: expected 1 fields, saw 2\\nSkipping line 5651: expected 1 fields, saw 2\\nSkipping line 5654: expected 1 fields, saw 2\\nSkipping line 5656: expected 1 fields, saw 2\\nSkipping line 5658: expected 1 fields, saw 3\\nSkipping line 5664: expected 1 fields, saw 3\\nSkipping line 5666: expected 1 fields, saw 4\\nSkipping line 5671: expected 1 fields, saw 2\\nSkipping line 5675: expected 1 fields, saw 2\\nSkipping line 5683: expected 1 fields, saw 3\\nSkipping line 5684: expected 1 fields, saw 2\\nSkipping line 5685: expected 1 fields, saw 3\\nSkipping line 5686: expected 1 fields, saw 2\\nSkipping line 5697: expected 1 fields, saw 4\\nSkipping line 5698: expected 1 fields, saw 4\\nSkipping line 5699: expected 1 fields, saw 2\\nSkipping line 5704: expected 1 fields, saw 2\\nSkipping line 5706: expected 1 fields, saw 3\\nSkipping line 5708: expected 1 fields, saw 3\\nSkipping line 5711: expected 1 fields, saw 2\\nSkipping line 5722: expected 1 fields, saw 4\\nSkipping line 5724: expected 1 fields, saw 2\\nSkipping line 5726: expected 1 fields, saw 2\\nSkipping line 5727: expected 1 fields, saw 3\\nSkipping line 5731: expected 1 fields, saw 3\\nSkipping line 5733: expected 1 fields, saw 4\\nSkipping line 5735: expected 1 fields, saw 4\\nSkipping line 5739: expected 1 fields, saw 4\\nSkipping line 5740: expected 1 fields, saw 2\\nSkipping line 5743: expected 1 fields, saw 4\\nSkipping line 5747: expected 1 fields, saw 3\\nSkipping line 5748: expected 1 fields, saw 3\\nSkipping line 5751: expected 1 fields, saw 2\\nSkipping line 5754: expected 1 fields, saw 2\\nSkipping line 5757: expected 1 fields, saw 2\\nSkipping line 5760: expected 1 fields, saw 6\\nSkipping line 5766: expected 1 fields, saw 2\\nSkipping line 5770: expected 1 fields, saw 2\\nSkipping line 5772: expected 1 fields, saw 2\\nSkipping line 5777: expected 1 fields, saw 2\\nSkipping line 5778: expected 1 fields, saw 3\\nSkipping line 5780: expected 1 fields, saw 2\\nSkipping line 5784: expected 1 fields, saw 3\\nSkipping line 5785: expected 1 fields, saw 2\\nSkipping line 5786: expected 1 fields, saw 4\\nSkipping line 5788: expected 1 fields, saw 2\\nSkipping line 5794: expected 1 fields, saw 3\\nSkipping line 5798: expected 1 fields, saw 2\\nSkipping line 5803: expected 1 fields, saw 4\\nSkipping line 5806: expected 1 fields, saw 2\\nSkipping line 5808: expected 1 fields, saw 2\\nSkipping line 5810: expected 1 fields, saw 3\\nSkipping line 5813: expected 1 fields, saw 2\\nSkipping line 5815: expected 1 fields, saw 2\\nSkipping line 5816: expected 1 fields, saw 5\\nSkipping line 5818: expected 1 fields, saw 2\\nSkipping line 5824: expected 1 fields, saw 2\\nSkipping line 5835: expected 1 fields, saw 2\\nSkipping line 5844: expected 1 fields, saw 2\\nSkipping line 5849: expected 1 fields, saw 2\\nSkipping line 5855: expected 1 fields, saw 2\\nSkipping line 5858: expected 1 fields, saw 4\\nSkipping line 5860: expected 1 fields, saw 2\\nSkipping line 5863: expected 1 fields, saw 4\\nSkipping line 5870: expected 1 fields, saw 2\\nSkipping line 5875: expected 1 fields, saw 2\\nSkipping line 5883: expected 1 fields, saw 3\\nSkipping line 5884: expected 1 fields, saw 2\\nSkipping line 5887: expected 1 fields, saw 2\\nSkipping line 5888: expected 1 fields, saw 2\\nSkipping line 5889: expected 1 fields, saw 4\\nSkipping line 5890: expected 1 fields, saw 2\\nSkipping line 5892: expected 1 fields, saw 3\\nSkipping line 5896: expected 1 fields, saw 2\\nSkipping line 5898: expected 1 fields, saw 4\\nSkipping line 5903: expected 1 fields, saw 2\\nSkipping line 5905: expected 1 fields, saw 2\\nSkipping line 5908: expected 1 fields, saw 2\\nSkipping line 5909: expected 1 fields, saw 4\\nSkipping line 5911: expected 1 fields, saw 2\\nSkipping line 5919: expected 1 fields, saw 2\\nSkipping line 5920: expected 1 fields, saw 3\\nSkipping line 5921: expected 1 fields, saw 2\\nSkipping line 5926: expected 1 fields, saw 3\\nSkipping line 5932: expected 1 fields, saw 3\\nSkipping line 5937: expected 1 fields, saw 2\\nSkipping line 5944: expected 1 fields, saw 2\\nSkipping line 5945: expected 1 fields, saw 2\\nSkipping line 5951: expected 1 fields, saw 2\\nSkipping line 5954: expected 1 fields, saw 4\\nSkipping line 5955: expected 1 fields, saw 6\\nSkipping line 5956: expected 1 fields, saw 5\\nSkipping line 5961: expected 1 fields, saw 3\\nSkipping line 5966: expected 1 fields, saw 2\\nSkipping line 5968: expected 1 fields, saw 3\\nSkipping line 5973: expected 1 fields, saw 2\\nSkipping line 5976: expected 1 fields, saw 2\\nSkipping line 5980: expected 1 fields, saw 2\\nSkipping line 5982: expected 1 fields, saw 3\\nSkipping line 5998: expected 1 fields, saw 3\\nSkipping line 6002: expected 1 fields, saw 3\\nSkipping line 6005: expected 1 fields, saw 2\\nSkipping line 6008: expected 1 fields, saw 3\\nSkipping line 6009: expected 1 fields, saw 3\\nSkipping line 6012: expected 1 fields, saw 2\\nSkipping line 6021: expected 1 fields, saw 2\\nSkipping line 6022: expected 1 fields, saw 4\\nSkipping line 6023: expected 1 fields, saw 5\\nSkipping line 6025: expected 1 fields, saw 2\\nSkipping line 6026: expected 1 fields, saw 3\\nSkipping line 6034: expected 1 fields, saw 2\\nSkipping line 6035: expected 1 fields, saw 2\\nSkipping line 6038: expected 1 fields, saw 3\\nSkipping line 6039: expected 1 fields, saw 2\\nSkipping line 6041: expected 1 fields, saw 2\\nSkipping line 6042: expected 1 fields, saw 2\\nSkipping line 6050: expected 1 fields, saw 3\\nSkipping line 6057: expected 1 fields, saw 2\\nSkipping line 6063: expected 1 fields, saw 3\\nSkipping line 6064: expected 1 fields, saw 2\\nSkipping line 6078: expected 1 fields, saw 2\\nSkipping line 6082: expected 1 fields, saw 2\\nSkipping line 6083: expected 1 fields, saw 5\\nSkipping line 6086: expected 1 fields, saw 2\\nSkipping line 6087: expected 1 fields, saw 2\\nSkipping line 6095: expected 1 fields, saw 2\\nSkipping line 6098: expected 1 fields, saw 5\\nSkipping line 6100: expected 1 fields, saw 5\\nSkipping line 6102: expected 1 fields, saw 3\\nSkipping line 6115: expected 1 fields, saw 4\\nSkipping line 6119: expected 1 fields, saw 3\\nSkipping line 6121: expected 1 fields, saw 2\\nSkipping line 6123: expected 1 fields, saw 6\\nSkipping line 6126: expected 1 fields, saw 2\\nSkipping line 6128: expected 1 fields, saw 3\\nSkipping line 6133: expected 1 fields, saw 2\\nSkipping line 6136: expected 1 fields, saw 2\\nSkipping line 6146: expected 1 fields, saw 5\\nSkipping line 6147: expected 1 fields, saw 2\\nSkipping line 6148: expected 1 fields, saw 2\\nSkipping line 6150: expected 1 fields, saw 2\\nSkipping line 6151: expected 1 fields, saw 2\\nSkipping line 6158: expected 1 fields, saw 2\\nSkipping line 6162: expected 1 fields, saw 2\\nSkipping line 6166: expected 1 fields, saw 2\\nSkipping line 6168: expected 1 fields, saw 2\\nSkipping line 6169: expected 1 fields, saw 3\\nSkipping line 6175: expected 1 fields, saw 2\\nSkipping line 6176: expected 1 fields, saw 3\\nSkipping line 6179: expected 1 fields, saw 2\\nSkipping line 6180: expected 1 fields, saw 2\\nSkipping line 6183: expected 1 fields, saw 2\\nSkipping line 6192: expected 1 fields, saw 2\\nSkipping line 6199: expected 1 fields, saw 2\\nSkipping line 6202: expected 1 fields, saw 2\\nSkipping line 6204: expected 1 fields, saw 2\\nSkipping line 6209: expected 1 fields, saw 2\\nSkipping line 6214: expected 1 fields, saw 2\\nSkipping line 6217: expected 1 fields, saw 2\\nSkipping line 6221: expected 1 fields, saw 2\\nSkipping line 6226: expected 1 fields, saw 2\\nSkipping line 6228: expected 1 fields, saw 3\\nSkipping line 6230: expected 1 fields, saw 2\\nSkipping line 6232: expected 1 fields, saw 2\\nSkipping line 6233: expected 1 fields, saw 4\\nSkipping line 6235: expected 1 fields, saw 3\\nSkipping line 6236: expected 1 fields, saw 3\\nSkipping line 6237: expected 1 fields, saw 2\\nSkipping line 6242: expected 1 fields, saw 3\\nSkipping line 6243: expected 1 fields, saw 4\\nSkipping line 6245: expected 1 fields, saw 2\\nSkipping line 6247: expected 1 fields, saw 2\\nSkipping line 6258: expected 1 fields, saw 3\\nSkipping line 6262: expected 1 fields, saw 2\\nSkipping line 6265: expected 1 fields, saw 2\\nSkipping line 6269: expected 1 fields, saw 4\\nSkipping line 6270: expected 1 fields, saw 2\\nSkipping line 6273: expected 1 fields, saw 2\\nSkipping line 6276: expected 1 fields, saw 2\\nSkipping line 6279: expected 1 fields, saw 2\\nSkipping line 6281: expected 1 fields, saw 2\\nSkipping line 6286: expected 1 fields, saw 2\\nSkipping line 6290: expected 1 fields, saw 9\\nSkipping line 6292: expected 1 fields, saw 2\\nSkipping line 6297: expected 1 fields, saw 2\\nSkipping line 6303: expected 1 fields, saw 2\\nSkipping line 6308: expected 1 fields, saw 3\\nSkipping line 6310: expected 1 fields, saw 2\\nSkipping line 6312: expected 1 fields, saw 2\\nSkipping line 6316: expected 1 fields, saw 2\\nSkipping line 6320: expected 1 fields, saw 2\\nSkipping line 6322: expected 1 fields, saw 2\\nSkipping line 6324: expected 1 fields, saw 2\\nSkipping line 6325: expected 1 fields, saw 2\\nSkipping line 6326: expected 1 fields, saw 5\\nSkipping line 6329: expected 1 fields, saw 2\\nSkipping line 6330: expected 1 fields, saw 2\\nSkipping line 6334: expected 1 fields, saw 3\\nSkipping line 6336: expected 1 fields, saw 2\\nSkipping line 6339: expected 1 fields, saw 2\\nSkipping line 6341: expected 1 fields, saw 2\\nSkipping line 6343: expected 1 fields, saw 2\\nSkipping line 6345: expected 1 fields, saw 3\\nSkipping line 6347: expected 1 fields, saw 2\\nSkipping line 6350: expected 1 fields, saw 3\\nSkipping line 6352: expected 1 fields, saw 2\\nSkipping line 6353: expected 1 fields, saw 2\\nSkipping line 6359: expected 1 fields, saw 2\\nSkipping line 6360: expected 1 fields, saw 2\\nSkipping line 6361: expected 1 fields, saw 4\\nSkipping line 6362: expected 1 fields, saw 2\\nSkipping line 6363: expected 1 fields, saw 2\\nSkipping line 6368: expected 1 fields, saw 3\\nSkipping line 6374: expected 1 fields, saw 3\\nSkipping line 6378: expected 1 fields, saw 3\\nSkipping line 6382: expected 1 fields, saw 2\\nSkipping line 6385: expected 1 fields, saw 5\\nSkipping line 6386: expected 1 fields, saw 2\\nSkipping line 6389: expected 1 fields, saw 3\\nSkipping line 6393: expected 1 fields, saw 2\\nSkipping line 6394: expected 1 fields, saw 2\\nSkipping line 6398: expected 1 fields, saw 2\\nSkipping line 6400: expected 1 fields, saw 4\\nSkipping line 6402: expected 1 fields, saw 2\\nSkipping line 6405: expected 1 fields, saw 2\\nSkipping line 6406: expected 1 fields, saw 2\\nSkipping line 6407: expected 1 fields, saw 2\\nSkipping line 6408: expected 1 fields, saw 4\\nSkipping line 6412: expected 1 fields, saw 2\\nSkipping line 6414: expected 1 fields, saw 2\\nSkipping line 6425: expected 1 fields, saw 3\\nSkipping line 6428: expected 1 fields, saw 2\\nSkipping line 6429: expected 1 fields, saw 3\\nSkipping line 6430: expected 1 fields, saw 2\\nSkipping line 6431: expected 1 fields, saw 2\\nSkipping line 6435: expected 1 fields, saw 2\\nSkipping line 6443: expected 1 fields, saw 2\\nSkipping line 6447: expected 1 fields, saw 2\\nSkipping line 6449: expected 1 fields, saw 2\\nSkipping line 6452: expected 1 fields, saw 3\\nSkipping line 6454: expected 1 fields, saw 2\\nSkipping line 6460: expected 1 fields, saw 3\\nSkipping line 6467: expected 1 fields, saw 3\\nSkipping line 6469: expected 1 fields, saw 2\\nSkipping line 6472: expected 1 fields, saw 2\\nSkipping line 6479: expected 1 fields, saw 2\\nSkipping line 6481: expected 1 fields, saw 3\\nSkipping line 6482: expected 1 fields, saw 2\\nSkipping line 6485: expected 1 fields, saw 2\\nSkipping line 6486: expected 1 fields, saw 2\\nSkipping line 6488: expected 1 fields, saw 2\\nSkipping line 6489: expected 1 fields, saw 2\\nSkipping line 6490: expected 1 fields, saw 2\\nSkipping line 6496: expected 1 fields, saw 2\\nSkipping line 6497: expected 1 fields, saw 2\\nSkipping line 6502: expected 1 fields, saw 5\\nSkipping line 6504: expected 1 fields, saw 3\\nSkipping line 6506: expected 1 fields, saw 2\\nSkipping line 6511: expected 1 fields, saw 2\\nSkipping line 6513: expected 1 fields, saw 2\\nSkipping line 6515: expected 1 fields, saw 2\\nSkipping line 6519: expected 1 fields, saw 2\\nSkipping line 6520: expected 1 fields, saw 2\\nSkipping line 6524: expected 1 fields, saw 2\\nSkipping line 6528: expected 1 fields, saw 2\\nSkipping line 6532: expected 1 fields, saw 2\\nSkipping line 6533: expected 1 fields, saw 2\\nSkipping line 6535: expected 1 fields, saw 4\\nSkipping line 6536: expected 1 fields, saw 2\\nSkipping line 6540: expected 1 fields, saw 3\\nSkipping line 6541: expected 1 fields, saw 2\\nSkipping line 6542: expected 1 fields, saw 3\\nSkipping line 6549: expected 1 fields, saw 4\\nSkipping line 6562: expected 1 fields, saw 2\\nSkipping line 6573: expected 1 fields, saw 2\\nSkipping line 6574: expected 1 fields, saw 2\\nSkipping line 6582: expected 1 fields, saw 2\\nSkipping line 6583: expected 1 fields, saw 3\\nSkipping line 6590: expected 1 fields, saw 2\\nSkipping line 6594: expected 1 fields, saw 2\\nSkipping line 6596: expected 1 fields, saw 2\\nSkipping line 6598: expected 1 fields, saw 2\\nSkipping line 6604: expected 1 fields, saw 2\\nSkipping line 6613: expected 1 fields, saw 5\\nSkipping line 6615: expected 1 fields, saw 2\\nSkipping line 6616: expected 1 fields, saw 2\\nSkipping line 6619: expected 1 fields, saw 3\\nSkipping line 6627: expected 1 fields, saw 4\\nSkipping line 6629: expected 1 fields, saw 2\\nSkipping line 6633: expected 1 fields, saw 2\\nSkipping line 6634: expected 1 fields, saw 2\\nSkipping line 6636: expected 1 fields, saw 3\\nSkipping line 6645: expected 1 fields, saw 2\\nSkipping line 6651: expected 1 fields, saw 2\\nSkipping line 6652: expected 1 fields, saw 3\\nSkipping line 6653: expected 1 fields, saw 2\\nSkipping line 6656: expected 1 fields, saw 2\\nSkipping line 6659: expected 1 fields, saw 2\\nSkipping line 6660: expected 1 fields, saw 3\\nSkipping line 6663: expected 1 fields, saw 2\\nSkipping line 6664: expected 1 fields, saw 4\\nSkipping line 6665: expected 1 fields, saw 2\\nSkipping line 6668: expected 1 fields, saw 4\\nSkipping line 6671: expected 1 fields, saw 3\\nSkipping line 6676: expected 1 fields, saw 3\\nSkipping line 6682: expected 1 fields, saw 4\\nSkipping line 6683: expected 1 fields, saw 3\\nSkipping line 6685: expected 1 fields, saw 2\\nSkipping line 6687: expected 1 fields, saw 2\\nSkipping line 6689: expected 1 fields, saw 3\\nSkipping line 6690: expected 1 fields, saw 2\\nSkipping line 6692: expected 1 fields, saw 2\\nSkipping line 6693: expected 1 fields, saw 3\\nSkipping line 6696: expected 1 fields, saw 2\\nSkipping line 6698: expected 1 fields, saw 2\\nSkipping line 6701: expected 1 fields, saw 3\\nSkipping line 6705: expected 1 fields, saw 2\\nSkipping line 6714: expected 1 fields, saw 2\\nSkipping line 6721: expected 1 fields, saw 2\\nSkipping line 6722: expected 1 fields, saw 2\\nSkipping line 6723: expected 1 fields, saw 3\\nSkipping line 6725: expected 1 fields, saw 3\\nSkipping line 6730: expected 1 fields, saw 2\\nSkipping line 6732: expected 1 fields, saw 2\\nSkipping line 6737: expected 1 fields, saw 2\\nSkipping line 6738: expected 1 fields, saw 2\\nSkipping line 6739: expected 1 fields, saw 2\\nSkipping line 6743: expected 1 fields, saw 2\\nSkipping line 6747: expected 1 fields, saw 4\\nSkipping line 6749: expected 1 fields, saw 3\\nSkipping line 6754: expected 1 fields, saw 2\\nSkipping line 6757: expected 1 fields, saw 2\\nSkipping line 6758: expected 1 fields, saw 2\\nSkipping line 6762: expected 1 fields, saw 5\\nSkipping line 6764: expected 1 fields, saw 2\\nSkipping line 6766: expected 1 fields, saw 6\\nSkipping line 6768: expected 1 fields, saw 2\\nSkipping line 6769: expected 1 fields, saw 2\\nSkipping line 6772: expected 1 fields, saw 3\\nSkipping line 6779: expected 1 fields, saw 2\\nSkipping line 6782: expected 1 fields, saw 2\\nSkipping line 6784: expected 1 fields, saw 2\\nSkipping line 6785: expected 1 fields, saw 4\\nSkipping line 6790: expected 1 fields, saw 2\\nSkipping line 6791: expected 1 fields, saw 2\\nSkipping line 6792: expected 1 fields, saw 3\\nSkipping line 6795: expected 1 fields, saw 3\\nSkipping line 6798: expected 1 fields, saw 2\\nSkipping line 6799: expected 1 fields, saw 2\\nSkipping line 6801: expected 1 fields, saw 2\\nSkipping line 6804: expected 1 fields, saw 7\\nSkipping line 6805: expected 1 fields, saw 2\\nSkipping line 6806: expected 1 fields, saw 2\\nSkipping line 6807: expected 1 fields, saw 4\\nSkipping line 6810: expected 1 fields, saw 4\\nSkipping line 6813: expected 1 fields, saw 3\\nSkipping line 6815: expected 1 fields, saw 3\\nSkipping line 6817: expected 1 fields, saw 2\\nSkipping line 6823: expected 1 fields, saw 2\\nSkipping line 6825: expected 1 fields, saw 5\\nSkipping line 6828: expected 1 fields, saw 3\\nSkipping line 6832: expected 1 fields, saw 2\\nSkipping line 6840: expected 1 fields, saw 2\\nSkipping line 6841: expected 1 fields, saw 4\\nSkipping line 6845: expected 1 fields, saw 8\\nSkipping line 6847: expected 1 fields, saw 5\\nSkipping line 6848: expected 1 fields, saw 2\\nSkipping line 6849: expected 1 fields, saw 2\\nSkipping line 6850: expected 1 fields, saw 2\\nSkipping line 6851: expected 1 fields, saw 3\\nSkipping line 6853: expected 1 fields, saw 2\\nSkipping line 6864: expected 1 fields, saw 2\\nSkipping line 6869: expected 1 fields, saw 2\\nSkipping line 6879: expected 1 fields, saw 8\\nSkipping line 6880: expected 1 fields, saw 2\\nSkipping line 6886: expected 1 fields, saw 3\\nSkipping line 6887: expected 1 fields, saw 2\\nSkipping line 6888: expected 1 fields, saw 2\\nSkipping line 6892: expected 1 fields, saw 2\\nSkipping line 6894: expected 1 fields, saw 2\\nSkipping line 6900: expected 1 fields, saw 2\\nSkipping line 6903: expected 1 fields, saw 2\\nSkipping line 6904: expected 1 fields, saw 2\\nSkipping line 6905: expected 1 fields, saw 2\\nSkipping line 6906: expected 1 fields, saw 2\\nSkipping line 6910: expected 1 fields, saw 2\\nSkipping line 6911: expected 1 fields, saw 2\\nSkipping line 6916: expected 1 fields, saw 3\\nSkipping line 6918: expected 1 fields, saw 2\\nSkipping line 6930: expected 1 fields, saw 5\\nSkipping line 6932: expected 1 fields, saw 2\\nSkipping line 6935: expected 1 fields, saw 3\\nSkipping line 6937: expected 1 fields, saw 3\\nSkipping line 6939: expected 1 fields, saw 3\\nSkipping line 6940: expected 1 fields, saw 3\\nSkipping line 6941: expected 1 fields, saw 2\\nSkipping line 6946: expected 1 fields, saw 2\\nSkipping line 6949: expected 1 fields, saw 2\\nSkipping line 6951: expected 1 fields, saw 2\\nSkipping line 6957: expected 1 fields, saw 2\\nSkipping line 6958: expected 1 fields, saw 3\\nSkipping line 6960: expected 1 fields, saw 3\\nSkipping line 6967: expected 1 fields, saw 3\\nSkipping line 6968: expected 1 fields, saw 2\\nSkipping line 6971: expected 1 fields, saw 3\\nSkipping line 6976: expected 1 fields, saw 2\\nSkipping line 6978: expected 1 fields, saw 2\\nSkipping line 6981: expected 1 fields, saw 2\\nSkipping line 6982: expected 1 fields, saw 2\\nSkipping line 6986: expected 1 fields, saw 2\\nSkipping line 6992: expected 1 fields, saw 2\\nSkipping line 7000: expected 1 fields, saw 2\\nSkipping line 7009: expected 1 fields, saw 3\\nSkipping line 7011: expected 1 fields, saw 2\\nSkipping line 7015: expected 1 fields, saw 3\\nSkipping line 7021: expected 1 fields, saw 3\\nSkipping line 7025: expected 1 fields, saw 3\\nSkipping line 7030: expected 1 fields, saw 2\\nSkipping line 7038: expected 1 fields, saw 6\\nSkipping line 7039: expected 1 fields, saw 2\\nSkipping line 7043: expected 1 fields, saw 3\\nSkipping line 7046: expected 1 fields, saw 2\\nSkipping line 7048: expected 1 fields, saw 2\\nSkipping line 7055: expected 1 fields, saw 3\\nSkipping line 7060: expected 1 fields, saw 2\\nSkipping line 7063: expected 1 fields, saw 2\\nSkipping line 7067: expected 1 fields, saw 2\\nSkipping line 7077: expected 1 fields, saw 3\\nSkipping line 7091: expected 1 fields, saw 2\\nSkipping line 7094: expected 1 fields, saw 3\\nSkipping line 7096: expected 1 fields, saw 5\\nSkipping line 7097: expected 1 fields, saw 3\\nSkipping line 7107: expected 1 fields, saw 3\\nSkipping line 7109: expected 1 fields, saw 3\\nSkipping line 7112: expected 1 fields, saw 3\\nSkipping line 7115: expected 1 fields, saw 3\\nSkipping line 7117: expected 1 fields, saw 2\\nSkipping line 7124: expected 1 fields, saw 3\\nSkipping line 7128: expected 1 fields, saw 3\\nSkipping line 7129: expected 1 fields, saw 2\\nSkipping line 7131: expected 1 fields, saw 2\\nSkipping line 7137: expected 1 fields, saw 4\\nSkipping line 7139: expected 1 fields, saw 4\\nSkipping line 7140: expected 1 fields, saw 11\\nSkipping line 7141: expected 1 fields, saw 2\\nSkipping line 7142: expected 1 fields, saw 2\\nSkipping line 7149: expected 1 fields, saw 3\\nSkipping line 7151: expected 1 fields, saw 4\\nSkipping line 7160: expected 1 fields, saw 3\\nSkipping line 7162: expected 1 fields, saw 2\\nSkipping line 7165: expected 1 fields, saw 2\\nSkipping line 7172: expected 1 fields, saw 2\\nSkipping line 7174: expected 1 fields, saw 2\\nSkipping line 7176: expected 1 fields, saw 2\\nSkipping line 7177: expected 1 fields, saw 2\\nSkipping line 7178: expected 1 fields, saw 2\\nSkipping line 7181: expected 1 fields, saw 2\\nSkipping line 7182: expected 1 fields, saw 2\\nSkipping line 7183: expected 1 fields, saw 2\\nSkipping line 7192: expected 1 fields, saw 5\\nSkipping line 7194: expected 1 fields, saw 2\\nSkipping line 7202: expected 1 fields, saw 2\\nSkipping line 7203: expected 1 fields, saw 2\\nSkipping line 7204: expected 1 fields, saw 2\\nSkipping line 7209: expected 1 fields, saw 3\\nSkipping line 7210: expected 1 fields, saw 3\\nSkipping line 7218: expected 1 fields, saw 3\\nSkipping line 7219: expected 1 fields, saw 2\\nSkipping line 7222: expected 1 fields, saw 2\\nSkipping line 7229: expected 1 fields, saw 2\\nSkipping line 7232: expected 1 fields, saw 2\\nSkipping line 7234: expected 1 fields, saw 3\\nSkipping line 7235: expected 1 fields, saw 2\\nSkipping line 7237: expected 1 fields, saw 3\\nSkipping line 7238: expected 1 fields, saw 6\\nSkipping line 7242: expected 1 fields, saw 5\\nSkipping line 7245: expected 1 fields, saw 2\\nSkipping line 7251: expected 1 fields, saw 2\\nSkipping line 7252: expected 1 fields, saw 2\\nSkipping line 7261: expected 1 fields, saw 4\\nSkipping line 7263: expected 1 fields, saw 3\\nSkipping line 7265: expected 1 fields, saw 3\\nSkipping line 7270: expected 1 fields, saw 2\\nSkipping line 7273: expected 1 fields, saw 2\\nSkipping line 7281: expected 1 fields, saw 6\\nSkipping line 7282: expected 1 fields, saw 2\\nSkipping line 7289: expected 1 fields, saw 2\\nSkipping line 7296: expected 1 fields, saw 2\\nSkipping line 7298: expected 1 fields, saw 5\\nSkipping line 7303: expected 1 fields, saw 2\\nSkipping line 7307: expected 1 fields, saw 2\\nSkipping line 7308: expected 1 fields, saw 3\\nSkipping line 7309: expected 1 fields, saw 2\\nSkipping line 7318: expected 1 fields, saw 2\\nSkipping line 7321: expected 1 fields, saw 2\\nSkipping line 7322: expected 1 fields, saw 2\\nSkipping line 7324: expected 1 fields, saw 3\\nSkipping line 7327: expected 1 fields, saw 2\\nSkipping line 7328: expected 1 fields, saw 2\\nSkipping line 7331: expected 1 fields, saw 2\\nSkipping line 7334: expected 1 fields, saw 3\\nSkipping line 7337: expected 1 fields, saw 2\\nSkipping line 7338: expected 1 fields, saw 4\\nSkipping line 7340: expected 1 fields, saw 2\\nSkipping line 7341: expected 1 fields, saw 2\\nSkipping line 7346: expected 1 fields, saw 3\\nSkipping line 7347: expected 1 fields, saw 2\\nSkipping line 7348: expected 1 fields, saw 2\\nSkipping line 7349: expected 1 fields, saw 2\\nSkipping line 7351: expected 1 fields, saw 3\\nSkipping line 7352: expected 1 fields, saw 2\\nSkipping line 7356: expected 1 fields, saw 4\\nSkipping line 7357: expected 1 fields, saw 2\\nSkipping line 7364: expected 1 fields, saw 3\\nSkipping line 7367: expected 1 fields, saw 4\\nSkipping line 7368: expected 1 fields, saw 2\\nSkipping line 7372: expected 1 fields, saw 2\\nSkipping line 7373: expected 1 fields, saw 2\\nSkipping line 7379: expected 1 fields, saw 2\\nSkipping line 7380: expected 1 fields, saw 3\\nSkipping line 7382: expected 1 fields, saw 3\\nSkipping line 7383: expected 1 fields, saw 2\\nSkipping line 7394: expected 1 fields, saw 4\\nSkipping line 7398: expected 1 fields, saw 2\\nSkipping line 7402: expected 1 fields, saw 2\\nSkipping line 7404: expected 1 fields, saw 2\\nSkipping line 7407: expected 1 fields, saw 2\\nSkipping line 7416: expected 1 fields, saw 2\\nSkipping line 7422: expected 1 fields, saw 2\\nSkipping line 7424: expected 1 fields, saw 3\\nSkipping line 7425: expected 1 fields, saw 3\\nSkipping line 7431: expected 1 fields, saw 2\\nSkipping line 7434: expected 1 fields, saw 4\\nSkipping line 7436: expected 1 fields, saw 2\\nSkipping line 7437: expected 1 fields, saw 2\\nSkipping line 7440: expected 1 fields, saw 2\\nSkipping line 7442: expected 1 fields, saw 3\\nSkipping line 7446: expected 1 fields, saw 3\\nSkipping line 7447: expected 1 fields, saw 2\\nSkipping line 7448: expected 1 fields, saw 2\\nSkipping line 7450: expected 1 fields, saw 2\\nSkipping line 7454: expected 1 fields, saw 3\\nSkipping line 7455: expected 1 fields, saw 2\\nSkipping line 7456: expected 1 fields, saw 2\\nSkipping line 7460: expected 1 fields, saw 2\\nSkipping line 7461: expected 1 fields, saw 2\\nSkipping line 7463: expected 1 fields, saw 4\\nSkipping line 7464: expected 1 fields, saw 2\\nSkipping line 7473: expected 1 fields, saw 2\\nSkipping line 7475: expected 1 fields, saw 2\\nSkipping line 7476: expected 1 fields, saw 3\\nSkipping line 7477: expected 1 fields, saw 3\\nSkipping line 7479: expected 1 fields, saw 2\\nSkipping line 7481: expected 1 fields, saw 2\\nSkipping line 7483: expected 1 fields, saw 2\\nSkipping line 7485: expected 1 fields, saw 2\\nSkipping line 7488: expected 1 fields, saw 3\\nSkipping line 7491: expected 1 fields, saw 3\\nSkipping line 7492: expected 1 fields, saw 3\\nSkipping line 7494: expected 1 fields, saw 2\\nSkipping line 7496: expected 1 fields, saw 2\\nSkipping line 7498: expected 1 fields, saw 2\\nSkipping line 7499: expected 1 fields, saw 2\\nSkipping line 7501: expected 1 fields, saw 3\\nSkipping line 7510: expected 1 fields, saw 2\\nSkipping line 7511: expected 1 fields, saw 2\\nSkipping line 7517: expected 1 fields, saw 2\\nSkipping line 7519: expected 1 fields, saw 2\\nSkipping line 7521: expected 1 fields, saw 4\\nSkipping line 7526: expected 1 fields, saw 2\\nSkipping line 7538: expected 1 fields, saw 2\\nSkipping line 7539: expected 1 fields, saw 3\\nSkipping line 7540: expected 1 fields, saw 2\\nSkipping line 7542: expected 1 fields, saw 3\\nSkipping line 7544: expected 1 fields, saw 3\\nSkipping line 7545: expected 1 fields, saw 2\\nSkipping line 7548: expected 1 fields, saw 2\\nSkipping line 7550: expected 1 fields, saw 2\\nSkipping line 7551: expected 1 fields, saw 2\\nSkipping line 7553: expected 1 fields, saw 2\\nSkipping line 7555: expected 1 fields, saw 2\\nSkipping line 7557: expected 1 fields, saw 2\\nSkipping line 7560: expected 1 fields, saw 4\\nSkipping line 7561: expected 1 fields, saw 2\\nSkipping line 7564: expected 1 fields, saw 2\\nSkipping line 7565: expected 1 fields, saw 6\\nSkipping line 7570: expected 1 fields, saw 2\\nSkipping line 7574: expected 1 fields, saw 2\\nSkipping line 7579: expected 1 fields, saw 7\\nSkipping line 7580: expected 1 fields, saw 2\\nSkipping line 7584: expected 1 fields, saw 2\\nSkipping line 7585: expected 1 fields, saw 4\\nSkipping line 7587: expected 1 fields, saw 2\\nSkipping line 7590: expected 1 fields, saw 3\\nSkipping line 7593: expected 1 fields, saw 2\\nSkipping line 7594: expected 1 fields, saw 2\\nSkipping line 7597: expected 1 fields, saw 2\\nSkipping line 7599: expected 1 fields, saw 2\\nSkipping line 7603: expected 1 fields, saw 2\\nSkipping line 7604: expected 1 fields, saw 5\\nSkipping line 7606: expected 1 fields, saw 2\\nSkipping line 7607: expected 1 fields, saw 3\\nSkipping line 7611: expected 1 fields, saw 3\\nSkipping line 7612: expected 1 fields, saw 2\\nSkipping line 7615: expected 1 fields, saw 2\\nSkipping line 7618: expected 1 fields, saw 3\\nSkipping line 7627: expected 1 fields, saw 3\\nSkipping line 7633: expected 1 fields, saw 2\\nSkipping line 7634: expected 1 fields, saw 2\\nSkipping line 7635: expected 1 fields, saw 3\\nSkipping line 7636: expected 1 fields, saw 2\\nSkipping line 7638: expected 1 fields, saw 2\\nSkipping line 7639: expected 1 fields, saw 3\\nSkipping line 7647: expected 1 fields, saw 2\\nSkipping line 7648: expected 1 fields, saw 2\\nSkipping line 7649: expected 1 fields, saw 2\\nSkipping line 7651: expected 1 fields, saw 2\\nSkipping line 7653: expected 1 fields, saw 2\\nSkipping line 7655: expected 1 fields, saw 2\\nSkipping line 7658: expected 1 fields, saw 4\\nSkipping line 7665: expected 1 fields, saw 2\\nSkipping line 7669: expected 1 fields, saw 2\\nSkipping line 7670: expected 1 fields, saw 2\\nSkipping line 7674: expected 1 fields, saw 4\\nSkipping line 7677: expected 1 fields, saw 3\\nSkipping line 7681: expected 1 fields, saw 4\\nSkipping line 7682: expected 1 fields, saw 5\\nSkipping line 7685: expected 1 fields, saw 2\\nSkipping line 7687: expected 1 fields, saw 2\\nSkipping line 7688: expected 1 fields, saw 6\\nSkipping line 7693: expected 1 fields, saw 2\\nSkipping line 7701: expected 1 fields, saw 3\\nSkipping line 7706: expected 1 fields, saw 4\\nSkipping line 7717: expected 1 fields, saw 3\\nSkipping line 7724: expected 1 fields, saw 4\\nSkipping line 7734: expected 1 fields, saw 2\\nSkipping line 7735: expected 1 fields, saw 4\\nSkipping line 7736: expected 1 fields, saw 2\\nSkipping line 7738: expected 1 fields, saw 4\\nSkipping line 7739: expected 1 fields, saw 5\\nSkipping line 7742: expected 1 fields, saw 2\\nSkipping line 7745: expected 1 fields, saw 2\\nSkipping line 7754: expected 1 fields, saw 2\\nSkipping line 7759: expected 1 fields, saw 5\\nSkipping line 7764: expected 1 fields, saw 2\\nSkipping line 7767: expected 1 fields, saw 4\\nSkipping line 7774: expected 1 fields, saw 3\\nSkipping line 7780: expected 1 fields, saw 4\\nSkipping line 7782: expected 1 fields, saw 3\\nSkipping line 7785: expected 1 fields, saw 2\\nSkipping line 7786: expected 1 fields, saw 2\\nSkipping line 7789: expected 1 fields, saw 2\\nSkipping line 7792: expected 1 fields, saw 2\\nSkipping line 7793: expected 1 fields, saw 2\\nSkipping line 7801: expected 1 fields, saw 3\\nSkipping line 7802: expected 1 fields, saw 2\\nSkipping line 7807: expected 1 fields, saw 2\\nSkipping line 7810: expected 1 fields, saw 3\\nSkipping line 7813: expected 1 fields, saw 2\\nSkipping line 7814: expected 1 fields, saw 4\\nSkipping line 7816: expected 1 fields, saw 2\\nSkipping line 7818: expected 1 fields, saw 2\\nSkipping line 7819: expected 1 fields, saw 2\\nSkipping line 7824: expected 1 fields, saw 2\\nSkipping line 7826: expected 1 fields, saw 3\\nSkipping line 7827: expected 1 fields, saw 2\\nSkipping line 7830: expected 1 fields, saw 3\\nSkipping line 7836: expected 1 fields, saw 4\\nSkipping line 7840: expected 1 fields, saw 3\\nSkipping line 7847: expected 1 fields, saw 2\\nSkipping line 7848: expected 1 fields, saw 3\\nSkipping line 7850: expected 1 fields, saw 2\\nSkipping line 7853: expected 1 fields, saw 2\\nSkipping line 7854: expected 1 fields, saw 2\\nSkipping line 7857: expected 1 fields, saw 4\\nSkipping line 7868: expected 1 fields, saw 4\\nSkipping line 7870: expected 1 fields, saw 4\\nSkipping line 7872: expected 1 fields, saw 5\\nSkipping line 7874: expected 1 fields, saw 2\\nSkipping line 7875: expected 1 fields, saw 2\\nSkipping line 7876: expected 1 fields, saw 4\\nSkipping line 7878: expected 1 fields, saw 2\\nSkipping line 7884: expected 1 fields, saw 2\\nSkipping line 7889: expected 1 fields, saw 4\\nSkipping line 7890: expected 1 fields, saw 2\\nSkipping line 7894: expected 1 fields, saw 2\\nSkipping line 7895: expected 1 fields, saw 2\\nSkipping line 7902: expected 1 fields, saw 2\\nSkipping line 7904: expected 1 fields, saw 4\\nSkipping line 7905: expected 1 fields, saw 2\\nSkipping line 7906: expected 1 fields, saw 2\\nSkipping line 7909: expected 1 fields, saw 3\\nSkipping line 7917: expected 1 fields, saw 2\\nSkipping line 7923: expected 1 fields, saw 2\\nSkipping line 7925: expected 1 fields, saw 5\\nSkipping line 7930: expected 1 fields, saw 3\\nSkipping line 7932: expected 1 fields, saw 3\\nSkipping line 7933: expected 1 fields, saw 3\\nSkipping line 7934: expected 1 fields, saw 4\\nSkipping line 7945: expected 1 fields, saw 2\\nSkipping line 7949: expected 1 fields, saw 4\\nSkipping line 7954: expected 1 fields, saw 3\\nSkipping line 7955: expected 1 fields, saw 3\\nSkipping line 7958: expected 1 fields, saw 2\\nSkipping line 7966: expected 1 fields, saw 2\\nSkipping line 7971: expected 1 fields, saw 3\\nSkipping line 7977: expected 1 fields, saw 2\\nSkipping line 7981: expected 1 fields, saw 2\\nSkipping line 7991: expected 1 fields, saw 2\\nSkipping line 7996: expected 1 fields, saw 2\\nSkipping line 7998: expected 1 fields, saw 3\\nSkipping line 8000: expected 1 fields, saw 2\\nSkipping line 8005: expected 1 fields, saw 5\\nSkipping line 8006: expected 1 fields, saw 2\\nSkipping line 8012: expected 1 fields, saw 3\\nSkipping line 8013: expected 1 fields, saw 2\\nSkipping line 8014: expected 1 fields, saw 2\\nSkipping line 8018: expected 1 fields, saw 3\\nSkipping line 8020: expected 1 fields, saw 3\\nSkipping line 8022: expected 1 fields, saw 2\\nSkipping line 8024: expected 1 fields, saw 3\\nSkipping line 8025: expected 1 fields, saw 2\\nSkipping line 8027: expected 1 fields, saw 3\\nSkipping line 8029: expected 1 fields, saw 2\\nSkipping line 8032: expected 1 fields, saw 2\\nSkipping line 8038: expected 1 fields, saw 4\\nSkipping line 8040: expected 1 fields, saw 2\\nSkipping line 8041: expected 1 fields, saw 2\\nSkipping line 8043: expected 1 fields, saw 2\\nSkipping line 8044: expected 1 fields, saw 2\\nSkipping line 8050: expected 1 fields, saw 2\\nSkipping line 8052: expected 1 fields, saw 4\\nSkipping line 8056: expected 1 fields, saw 2\\nSkipping line 8070: expected 1 fields, saw 2\\nSkipping line 8072: expected 1 fields, saw 2\\nSkipping line 8077: expected 1 fields, saw 3\\nSkipping line 8078: expected 1 fields, saw 2\\nSkipping line 8079: expected 1 fields, saw 2\\nSkipping line 8089: expected 1 fields, saw 4\\nSkipping line 8090: expected 1 fields, saw 3\\nSkipping line 8096: expected 1 fields, saw 2\\nSkipping line 8098: expected 1 fields, saw 2\\nSkipping line 8100: expected 1 fields, saw 2\\nSkipping line 8101: expected 1 fields, saw 2\\nSkipping line 8102: expected 1 fields, saw 2\\nSkipping line 8108: expected 1 fields, saw 2\\nSkipping line 8114: expected 1 fields, saw 2\\nSkipping line 8115: expected 1 fields, saw 4\\nSkipping line 8116: expected 1 fields, saw 2\\nSkipping line 8119: expected 1 fields, saw 2\\nSkipping line 8123: expected 1 fields, saw 2\\nSkipping line 8124: expected 1 fields, saw 2\\nSkipping line 8126: expected 1 fields, saw 2\\nSkipping line 8135: expected 1 fields, saw 2\\nSkipping line 8139: expected 1 fields, saw 2\\nSkipping line 8145: expected 1 fields, saw 2\\nSkipping line 8153: expected 1 fields, saw 3\\nSkipping line 8155: expected 1 fields, saw 2\\nSkipping line 8157: expected 1 fields, saw 3\\nSkipping line 8158: expected 1 fields, saw 2\\nSkipping line 8163: expected 1 fields, saw 2\\nSkipping line 8164: expected 1 fields, saw 3\\nSkipping line 8171: expected 1 fields, saw 3\\nSkipping line 8173: expected 1 fields, saw 2\\nSkipping line 8176: expected 1 fields, saw 2\\nSkipping line 8178: expected 1 fields, saw 2\\nSkipping line 8180: expected 1 fields, saw 2\\nSkipping line 8184: expected 1 fields, saw 3\\nSkipping line 8185: expected 1 fields, saw 3\\nSkipping line 8190: expected 1 fields, saw 5\\nSkipping line 8192: expected 1 fields, saw 3\\nSkipping line 8193: expected 1 fields, saw 2\\nSkipping line 8194: expected 1 fields, saw 3\\nSkipping line 8195: expected 1 fields, saw 2\\nSkipping line 8196: expected 1 fields, saw 2\\nSkipping line 8199: expected 1 fields, saw 4\\nSkipping line 8200: expected 1 fields, saw 2\\nSkipping line 8202: expected 1 fields, saw 6\\nSkipping line 8203: expected 1 fields, saw 2\\nSkipping line 8204: expected 1 fields, saw 3\\nSkipping line 8205: expected 1 fields, saw 4\\nSkipping line 8207: expected 1 fields, saw 4\\nSkipping line 8208: expected 1 fields, saw 3\\nSkipping line 8209: expected 1 fields, saw 4\\nSkipping line 8211: expected 1 fields, saw 2\\nSkipping line 8214: expected 1 fields, saw 3\\nSkipping line 8215: expected 1 fields, saw 2\\nSkipping line 8219: expected 1 fields, saw 3\\nSkipping line 8220: expected 1 fields, saw 2\\nSkipping line 8223: expected 1 fields, saw 2\\nSkipping line 8227: expected 1 fields, saw 4\\nSkipping line 8231: expected 1 fields, saw 2\\nSkipping line 8232: expected 1 fields, saw 2\\nSkipping line 8233: expected 1 fields, saw 3\\nSkipping line 8234: expected 1 fields, saw 2\\nSkipping line 8239: expected 1 fields, saw 2\\nSkipping line 8241: expected 1 fields, saw 4\\nSkipping line 8244: expected 1 fields, saw 2\\nSkipping line 8247: expected 1 fields, saw 2\\nSkipping line 8248: expected 1 fields, saw 2\\nSkipping line 8253: expected 1 fields, saw 2\\nSkipping line 8256: expected 1 fields, saw 2\\nSkipping line 8259: expected 1 fields, saw 2\\nSkipping line 8261: expected 1 fields, saw 2\\nSkipping line 8262: expected 1 fields, saw 2\\nSkipping line 8270: expected 1 fields, saw 2\\nSkipping line 8272: expected 1 fields, saw 2\\nSkipping line 8274: expected 1 fields, saw 2\\nSkipping line 8276: expected 1 fields, saw 3\\nSkipping line 8280: expected 1 fields, saw 2\\nSkipping line 8281: expected 1 fields, saw 4\\nSkipping line 8282: expected 1 fields, saw 2\\nSkipping line 8283: expected 1 fields, saw 2\\nSkipping line 8285: expected 1 fields, saw 2\\nSkipping line 8287: expected 1 fields, saw 3\\nSkipping line 8290: expected 1 fields, saw 2\\nSkipping line 8291: expected 1 fields, saw 2\\nSkipping line 8292: expected 1 fields, saw 2\\nSkipping line 8293: expected 1 fields, saw 2\\nSkipping line 8298: expected 1 fields, saw 5\\nSkipping line 8299: expected 1 fields, saw 2\\nSkipping line 8306: expected 1 fields, saw 2\\nSkipping line 8307: expected 1 fields, saw 5\\nSkipping line 8312: expected 1 fields, saw 2\\nSkipping line 8313: expected 1 fields, saw 2\\nSkipping line 8315: expected 1 fields, saw 2\\nSkipping line 8317: expected 1 fields, saw 2\\nSkipping line 8319: expected 1 fields, saw 2\\nSkipping line 8321: expected 1 fields, saw 2\\nSkipping line 8327: expected 1 fields, saw 4\\nSkipping line 8328: expected 1 fields, saw 2\\nSkipping line 8332: expected 1 fields, saw 2\\nSkipping line 8335: expected 1 fields, saw 2\\nSkipping line 8343: expected 1 fields, saw 2\\nSkipping line 8351: expected 1 fields, saw 2\\nSkipping line 8353: expected 1 fields, saw 2\\nSkipping line 8354: expected 1 fields, saw 2\\nSkipping line 8359: expected 1 fields, saw 2\\nSkipping line 8365: expected 1 fields, saw 3\\nSkipping line 8366: expected 1 fields, saw 6\\nSkipping line 8372: expected 1 fields, saw 2\\nSkipping line 8380: expected 1 fields, saw 3\\nSkipping line 8391: expected 1 fields, saw 2\\nSkipping line 8400: expected 1 fields, saw 4\\nSkipping line 8402: expected 1 fields, saw 2\\nSkipping line 8403: expected 1 fields, saw 2\\nSkipping line 8405: expected 1 fields, saw 4\\nSkipping line 8407: expected 1 fields, saw 2\\nSkipping line 8410: expected 1 fields, saw 2\\nSkipping line 8411: expected 1 fields, saw 3\\nSkipping line 8414: expected 1 fields, saw 2\\nSkipping line 8424: expected 1 fields, saw 2\\nSkipping line 8426: expected 1 fields, saw 5\\nSkipping line 8434: expected 1 fields, saw 3\\nSkipping line 8435: expected 1 fields, saw 2\\nSkipping line 8443: expected 1 fields, saw 3\\nSkipping line 8448: expected 1 fields, saw 2\\nSkipping line 8454: expected 1 fields, saw 2\\nSkipping line 8455: expected 1 fields, saw 2\\nSkipping line 8460: expected 1 fields, saw 2\\nSkipping line 8461: expected 1 fields, saw 5\\nSkipping line 8468: expected 1 fields, saw 2\\nSkipping line 8472: expected 1 fields, saw 2\\nSkipping line 8474: expected 1 fields, saw 2\\nSkipping line 8476: expected 1 fields, saw 2\\nSkipping line 8480: expected 1 fields, saw 2\\nSkipping line 8484: expected 1 fields, saw 4\\nSkipping line 8497: expected 1 fields, saw 2\\nSkipping line 8518: expected 1 fields, saw 2\\nSkipping line 8527: expected 1 fields, saw 2\\nSkipping line 8529: expected 1 fields, saw 2\\nSkipping line 8530: expected 1 fields, saw 2\\nSkipping line 8533: expected 1 fields, saw 4\\nSkipping line 8539: expected 1 fields, saw 3\\nSkipping line 8545: expected 1 fields, saw 2\\nSkipping line 8548: expected 1 fields, saw 3\\nSkipping line 8550: expected 1 fields, saw 6\\nSkipping line 8552: expected 1 fields, saw 2\\nSkipping line 8553: expected 1 fields, saw 2\\nSkipping line 8555: expected 1 fields, saw 2\\nSkipping line 8561: expected 1 fields, saw 3\\nSkipping line 8562: expected 1 fields, saw 2\\nSkipping line 8567: expected 1 fields, saw 2\\nSkipping line 8570: expected 1 fields, saw 2\\nSkipping line 8571: expected 1 fields, saw 2\\nSkipping line 8578: expected 1 fields, saw 2\\nSkipping line 8579: expected 1 fields, saw 6\\nSkipping line 8580: expected 1 fields, saw 2\\nSkipping line 8584: expected 1 fields, saw 2\\nSkipping line 8585: expected 1 fields, saw 2\\nSkipping line 8588: expected 1 fields, saw 2\\nSkipping line 8590: expected 1 fields, saw 4\\nSkipping line 8591: expected 1 fields, saw 2\\nSkipping line 8595: expected 1 fields, saw 3\\nSkipping line 8603: expected 1 fields, saw 2\\nSkipping line 8604: expected 1 fields, saw 2\\nSkipping line 8607: expected 1 fields, saw 2\\nSkipping line 8610: expected 1 fields, saw 3\\nSkipping line 8612: expected 1 fields, saw 4\\nSkipping line 8616: expected 1 fields, saw 2\\nSkipping line 8617: expected 1 fields, saw 2\\nSkipping line 8619: expected 1 fields, saw 2\\nSkipping line 8620: expected 1 fields, saw 2\\nSkipping line 8623: expected 1 fields, saw 4\\nSkipping line 8624: expected 1 fields, saw 3\\nSkipping line 8625: expected 1 fields, saw 2\\nSkipping line 8635: expected 1 fields, saw 2\\nSkipping line 8636: expected 1 fields, saw 3\\nSkipping line 8641: expected 1 fields, saw 2\\nSkipping line 8642: expected 1 fields, saw 2\\nSkipping line 8645: expected 1 fields, saw 2\\nSkipping line 8646: expected 1 fields, saw 2\\nSkipping line 8649: expected 1 fields, saw 2\\nSkipping line 8653: expected 1 fields, saw 4\\nSkipping line 8654: expected 1 fields, saw 2\\nSkipping line 8655: expected 1 fields, saw 2\\nSkipping line 8656: expected 1 fields, saw 4\\nSkipping line 8657: expected 1 fields, saw 5\\nSkipping line 8661: expected 1 fields, saw 2\\nSkipping line 8662: expected 1 fields, saw 5\\nSkipping line 8663: expected 1 fields, saw 2\\nSkipping line 8664: expected 1 fields, saw 2\\nSkipping line 8668: expected 1 fields, saw 2\\nSkipping line 8669: expected 1 fields, saw 3\\nSkipping line 8673: expected 1 fields, saw 2\\nSkipping line 8675: expected 1 fields, saw 3\\nSkipping line 8681: expected 1 fields, saw 2\\nSkipping line 8683: expected 1 fields, saw 2\\nSkipping line 8687: expected 1 fields, saw 3\\nSkipping line 8690: expected 1 fields, saw 2\\nSkipping line 8695: expected 1 fields, saw 2\\nSkipping line 8697: expected 1 fields, saw 4\\nSkipping line 8700: expected 1 fields, saw 4\\nSkipping line 8704: expected 1 fields, saw 2\\nSkipping line 8705: expected 1 fields, saw 3\\nSkipping line 8711: expected 1 fields, saw 3\\nSkipping line 8712: expected 1 fields, saw 2\\nSkipping line 8714: expected 1 fields, saw 4\\nSkipping line 8715: expected 1 fields, saw 2\\nSkipping line 8716: expected 1 fields, saw 3\\nSkipping line 8720: expected 1 fields, saw 2\\nSkipping line 8724: expected 1 fields, saw 2\\nSkipping line 8725: expected 1 fields, saw 2\\nSkipping line 8726: expected 1 fields, saw 2\\nSkipping line 8730: expected 1 fields, saw 2\\nSkipping line 8732: expected 1 fields, saw 2\\nSkipping line 8738: expected 1 fields, saw 2\\nSkipping line 8739: expected 1 fields, saw 2\\nSkipping line 8743: expected 1 fields, saw 2\\nSkipping line 8746: expected 1 fields, saw 2\\nSkipping line 8748: expected 1 fields, saw 2\\nSkipping line 8750: expected 1 fields, saw 2\\nSkipping line 8752: expected 1 fields, saw 4\\nSkipping line 8757: expected 1 fields, saw 2\\nSkipping line 8758: expected 1 fields, saw 3\\nSkipping line 8763: expected 1 fields, saw 2\\nSkipping line 8765: expected 1 fields, saw 2\\nSkipping line 8767: expected 1 fields, saw 2\\nSkipping line 8771: expected 1 fields, saw 3\\nSkipping line 8774: expected 1 fields, saw 2\\nSkipping line 8779: expected 1 fields, saw 2\\nSkipping line 8781: expected 1 fields, saw 2\\nSkipping line 8784: expected 1 fields, saw 2\\nSkipping line 8785: expected 1 fields, saw 2\\nSkipping line 8787: expected 1 fields, saw 2\\nSkipping line 8793: expected 1 fields, saw 2\\nSkipping line 8797: expected 1 fields, saw 2\\nSkipping line 8798: expected 1 fields, saw 2\\nSkipping line 8799: expected 1 fields, saw 3\\nSkipping line 8801: expected 1 fields, saw 3\\nSkipping line 8802: expected 1 fields, saw 3\\nSkipping line 8804: expected 1 fields, saw 3\\nSkipping line 8807: expected 1 fields, saw 3\\nSkipping line 8810: expected 1 fields, saw 3\\nSkipping line 8817: expected 1 fields, saw 2\\nSkipping line 8818: expected 1 fields, saw 2\\nSkipping line 8821: expected 1 fields, saw 4\\nSkipping line 8822: expected 1 fields, saw 3\\nSkipping line 8826: expected 1 fields, saw 2\\nSkipping line 8830: expected 1 fields, saw 2\\nSkipping line 8832: expected 1 fields, saw 2\\nSkipping line 8835: expected 1 fields, saw 2\\nSkipping line 8836: expected 1 fields, saw 2\\nSkipping line 8838: expected 1 fields, saw 3\\n'\n"
          ],
          "name": "stderr"
        },
        {
          "output_type": "execute_result",
          "data": {
            "text/html": [
              "<div>\n",
              "<style scoped>\n",
              "    .dataframe tbody tr th:only-of-type {\n",
              "        vertical-align: middle;\n",
              "    }\n",
              "\n",
              "    .dataframe tbody tr th {\n",
              "        vertical-align: top;\n",
              "    }\n",
              "\n",
              "    .dataframe thead th {\n",
              "        text-align: right;\n",
              "    }\n",
              "</style>\n",
              "<table border=\"1\" class=\"dataframe\">\n",
              "  <thead>\n",
              "    <tr style=\"text-align: right;\">\n",
              "      <th></th>\n",
              "      <th>@user nice new signage. Are you not concerned by Beatlemania -style hysterical crowds crongregating on you…</th>\n",
              "    </tr>\n",
              "  </thead>\n",
              "  <tbody>\n",
              "    <tr>\n",
              "      <th>0</th>\n",
              "      <td>A woman who you fucked multiple times saying y...</td>\n",
              "    </tr>\n",
              "    <tr>\n",
              "      <th>1</th>\n",
              "      <td>@user @user real talk do you have eyes or were...</td>\n",
              "    </tr>\n",
              "    <tr>\n",
              "      <th>2</th>\n",
              "      <td>your girlfriend lookin at me like a groupie in...</td>\n",
              "    </tr>\n",
              "    <tr>\n",
              "      <th>3</th>\n",
              "      <td>Hysterical woman like @user</td>\n",
              "    </tr>\n",
              "    <tr>\n",
              "      <th>4</th>\n",
              "      <td>Me flirting- So tell me about your father...</td>\n",
              "    </tr>\n",
              "  </tbody>\n",
              "</table>\n",
              "</div>"
            ],
            "text/plain": [
              "  @user nice new signage. Are you not concerned by Beatlemania -style hysterical crowds crongregating on you… \n",
              "0  A woman who you fucked multiple times saying y...                                                          \n",
              "1  @user @user real talk do you have eyes or were...                                                          \n",
              "2  your girlfriend lookin at me like a groupie in...                                                          \n",
              "3                       Hysterical woman like @user                                                           \n",
              "4      Me flirting- So tell me about your father...                                                           "
            ]
          },
          "metadata": {
            "tags": []
          },
          "execution_count": 48
        }
      ]
    },
    {
      "cell_type": "code",
      "metadata": {
        "colab": {
          "base_uri": "https://localhost:8080/",
          "height": 402
        },
        "id": "1vPKJU3fyKot",
        "outputId": "37cee50c-5459-4a32-924e-263afca4bf1f"
      },
      "source": [
        "hate_train.columns = ['tweet']\r\n",
        "hate_train"
      ],
      "execution_count": 49,
      "outputs": [
        {
          "output_type": "execute_result",
          "data": {
            "text/html": [
              "<div>\n",
              "<style scoped>\n",
              "    .dataframe tbody tr th:only-of-type {\n",
              "        vertical-align: middle;\n",
              "    }\n",
              "\n",
              "    .dataframe tbody tr th {\n",
              "        vertical-align: top;\n",
              "    }\n",
              "\n",
              "    .dataframe thead th {\n",
              "        text-align: right;\n",
              "    }\n",
              "</style>\n",
              "<table border=\"1\" class=\"dataframe\">\n",
              "  <thead>\n",
              "    <tr style=\"text-align: right;\">\n",
              "      <th></th>\n",
              "      <th>tweet</th>\n",
              "    </tr>\n",
              "  </thead>\n",
              "  <tbody>\n",
              "    <tr>\n",
              "      <th>0</th>\n",
              "      <td>A woman who you fucked multiple times saying y...</td>\n",
              "    </tr>\n",
              "    <tr>\n",
              "      <th>1</th>\n",
              "      <td>@user @user real talk do you have eyes or were...</td>\n",
              "    </tr>\n",
              "    <tr>\n",
              "      <th>2</th>\n",
              "      <td>your girlfriend lookin at me like a groupie in...</td>\n",
              "    </tr>\n",
              "    <tr>\n",
              "      <th>3</th>\n",
              "      <td>Hysterical woman like @user</td>\n",
              "    </tr>\n",
              "    <tr>\n",
              "      <th>4</th>\n",
              "      <td>Me flirting- So tell me about your father...</td>\n",
              "    </tr>\n",
              "    <tr>\n",
              "      <th>...</th>\n",
              "      <td>...</td>\n",
              "    </tr>\n",
              "    <tr>\n",
              "      <th>6100</th>\n",
              "      <td>Oooohhhh bitch didn't even listen to the dead ...</td>\n",
              "    </tr>\n",
              "    <tr>\n",
              "      <th>6101</th>\n",
              "      <td>@user Good Luck @user More Americans #WalkAway...</td>\n",
              "    </tr>\n",
              "    <tr>\n",
              "      <th>6102</th>\n",
              "      <td>Bitch you can't keep up so stop trying</td>\n",
              "    </tr>\n",
              "    <tr>\n",
              "      <th>6103</th>\n",
              "      <td>@user @user @user @user @user @user Japan is a...</td>\n",
              "    </tr>\n",
              "    <tr>\n",
              "      <th>6104</th>\n",
              "      <td>@user hi Best l see someone fucking girl comme...</td>\n",
              "    </tr>\n",
              "  </tbody>\n",
              "</table>\n",
              "<p>6105 rows × 1 columns</p>\n",
              "</div>"
            ],
            "text/plain": [
              "                                                  tweet\n",
              "0     A woman who you fucked multiple times saying y...\n",
              "1     @user @user real talk do you have eyes or were...\n",
              "2     your girlfriend lookin at me like a groupie in...\n",
              "3                          Hysterical woman like @user \n",
              "4         Me flirting- So tell me about your father... \n",
              "...                                                 ...\n",
              "6100  Oooohhhh bitch didn't even listen to the dead ...\n",
              "6101  @user Good Luck @user More Americans #WalkAway...\n",
              "6102            Bitch you can't keep up so stop trying \n",
              "6103  @user @user @user @user @user @user Japan is a...\n",
              "6104  @user hi Best l see someone fucking girl comme...\n",
              "\n",
              "[6105 rows x 1 columns]"
            ]
          },
          "metadata": {
            "tags": []
          },
          "execution_count": 49
        }
      ]
    },
    {
      "cell_type": "code",
      "metadata": {
        "colab": {
          "base_uri": "https://localhost:8080/"
        },
        "id": "IqA45W-5yX4M",
        "outputId": "942c835c-9165-46de-f36f-511f6fc435d5"
      },
      "source": [
        "hate_train.isnull().sum()"
      ],
      "execution_count": 40,
      "outputs": [
        {
          "output_type": "execute_result",
          "data": {
            "text/plain": [
              "tweet    0\n",
              "dtype: int64"
            ]
          },
          "metadata": {
            "tags": []
          },
          "execution_count": 40
        }
      ]
    },
    {
      "cell_type": "code",
      "metadata": {
        "id": "ij7SbX52kqxV"
      },
      "source": [
        "#loading the train data set and dropping the null values."
      ],
      "execution_count": null,
      "outputs": []
    },
    {
      "cell_type": "code",
      "metadata": {
        "colab": {
          "base_uri": "https://localhost:8080/",
          "height": 606
        },
        "id": "Clndug7kY3vE",
        "outputId": "0d79645b-8ffb-4c5e-e2d4-9d16ae57d662"
      },
      "source": [
        "hate_test = pd.read_csv('test_text.txt',error_bad_lines=False)\r\n",
        "hate_test\r\n",
        "hate_test.dropna()\r\n"
      ],
      "execution_count": 50,
      "outputs": [
        {
          "output_type": "stream",
          "text": [
            "b'Skipping line 8: expected 3 fields, saw 4\\nSkipping line 13: expected 3 fields, saw 5\\nSkipping line 31: expected 3 fields, saw 6\\nSkipping line 149: expected 3 fields, saw 4\\nSkipping line 156: expected 3 fields, saw 4\\nSkipping line 233: expected 3 fields, saw 12\\nSkipping line 262: expected 3 fields, saw 4\\nSkipping line 278: expected 3 fields, saw 4\\nSkipping line 292: expected 3 fields, saw 5\\nSkipping line 356: expected 3 fields, saw 4\\nSkipping line 384: expected 3 fields, saw 8\\nSkipping line 398: expected 3 fields, saw 4\\nSkipping line 401: expected 3 fields, saw 4\\nSkipping line 423: expected 3 fields, saw 10\\nSkipping line 437: expected 3 fields, saw 4\\nSkipping line 442: expected 3 fields, saw 4\\nSkipping line 484: expected 3 fields, saw 4\\nSkipping line 502: expected 3 fields, saw 6\\nSkipping line 549: expected 3 fields, saw 6\\nSkipping line 597: expected 3 fields, saw 4\\nSkipping line 599: expected 3 fields, saw 5\\nSkipping line 609: expected 3 fields, saw 6\\nSkipping line 633: expected 3 fields, saw 4\\nSkipping line 679: expected 3 fields, saw 4\\nSkipping line 707: expected 3 fields, saw 4\\nSkipping line 708: expected 3 fields, saw 4\\nSkipping line 759: expected 3 fields, saw 5\\nSkipping line 814: expected 3 fields, saw 9\\nSkipping line 861: expected 3 fields, saw 5\\nSkipping line 883: expected 3 fields, saw 6\\nSkipping line 962: expected 3 fields, saw 4\\nSkipping line 1027: expected 3 fields, saw 5\\nSkipping line 1048: expected 3 fields, saw 4\\nSkipping line 1061: expected 3 fields, saw 4\\nSkipping line 1108: expected 3 fields, saw 6\\nSkipping line 1109: expected 3 fields, saw 9\\nSkipping line 1112: expected 3 fields, saw 7\\nSkipping line 1129: expected 3 fields, saw 7\\nSkipping line 1133: expected 3 fields, saw 5\\nSkipping line 1144: expected 3 fields, saw 5\\nSkipping line 1151: expected 3 fields, saw 4\\nSkipping line 1227: expected 3 fields, saw 6\\nSkipping line 1229: expected 3 fields, saw 4\\nSkipping line 1235: expected 3 fields, saw 4\\nSkipping line 1264: expected 3 fields, saw 4\\nSkipping line 1282: expected 3 fields, saw 4\\nSkipping line 1350: expected 3 fields, saw 4\\nSkipping line 1391: expected 3 fields, saw 5\\nSkipping line 1400: expected 3 fields, saw 5\\nSkipping line 1427: expected 3 fields, saw 4\\nSkipping line 1436: expected 3 fields, saw 5\\nSkipping line 1446: expected 3 fields, saw 4\\nSkipping line 1451: expected 3 fields, saw 4\\nSkipping line 1496: expected 3 fields, saw 4\\nSkipping line 1511: expected 3 fields, saw 6\\nSkipping line 1516: expected 3 fields, saw 6\\nSkipping line 1527: expected 3 fields, saw 9\\nSkipping line 1553: expected 3 fields, saw 5\\nSkipping line 1563: expected 3 fields, saw 6\\nSkipping line 1570: expected 3 fields, saw 6\\nSkipping line 1676: expected 3 fields, saw 4\\nSkipping line 1684: expected 3 fields, saw 4\\nSkipping line 1704: expected 3 fields, saw 5\\nSkipping line 1723: expected 3 fields, saw 4\\nSkipping line 1752: expected 3 fields, saw 4\\nSkipping line 1766: expected 3 fields, saw 4\\nSkipping line 1769: expected 3 fields, saw 4\\nSkipping line 1778: expected 3 fields, saw 4\\nSkipping line 1785: expected 3 fields, saw 4\\nSkipping line 1787: expected 3 fields, saw 4\\nSkipping line 1796: expected 3 fields, saw 4\\nSkipping line 1806: expected 3 fields, saw 4\\nSkipping line 1821: expected 3 fields, saw 4\\nSkipping line 1827: expected 3 fields, saw 6\\nSkipping line 1835: expected 3 fields, saw 4\\nSkipping line 1844: expected 3 fields, saw 5\\nSkipping line 1882: expected 3 fields, saw 12\\nSkipping line 1943: expected 3 fields, saw 4\\nSkipping line 1967: expected 3 fields, saw 4\\nSkipping line 2013: expected 3 fields, saw 4\\nSkipping line 2046: expected 3 fields, saw 4\\nSkipping line 2107: expected 3 fields, saw 4\\nSkipping line 2128: expected 3 fields, saw 5\\nSkipping line 2136: expected 3 fields, saw 5\\nSkipping line 2158: expected 3 fields, saw 9\\nSkipping line 2197: expected 3 fields, saw 6\\nSkipping line 2252: expected 3 fields, saw 6\\nSkipping line 2272: expected 3 fields, saw 4\\nSkipping line 2295: expected 3 fields, saw 4\\nSkipping line 2307: expected 3 fields, saw 4\\nSkipping line 2345: expected 3 fields, saw 5\\nSkipping line 2362: expected 3 fields, saw 4\\nSkipping line 2384: expected 3 fields, saw 4\\nSkipping line 2429: expected 3 fields, saw 4\\nSkipping line 2466: expected 3 fields, saw 4\\nSkipping line 2498: expected 3 fields, saw 4\\nSkipping line 2515: expected 3 fields, saw 5\\nSkipping line 2526: expected 3 fields, saw 5\\nSkipping line 2539: expected 3 fields, saw 4\\nSkipping line 2567: expected 3 fields, saw 6\\nSkipping line 2581: expected 3 fields, saw 4\\nSkipping line 2608: expected 3 fields, saw 5\\nSkipping line 2630: expected 3 fields, saw 5\\nSkipping line 2633: expected 3 fields, saw 7\\nSkipping line 2661: expected 3 fields, saw 7\\nSkipping line 2686: expected 3 fields, saw 14\\nSkipping line 2754: expected 3 fields, saw 6\\nSkipping line 2816: expected 3 fields, saw 4\\nSkipping line 2831: expected 3 fields, saw 6\\nSkipping line 2879: expected 3 fields, saw 4\\nSkipping line 2886: expected 3 fields, saw 4\\n'\n"
          ],
          "name": "stderr"
        },
        {
          "output_type": "execute_result",
          "data": {
            "text/html": [
              "<div>\n",
              "<style scoped>\n",
              "    .dataframe tbody tr th:only-of-type {\n",
              "        vertical-align: middle;\n",
              "    }\n",
              "\n",
              "    .dataframe tbody tr th {\n",
              "        vertical-align: top;\n",
              "    }\n",
              "\n",
              "    .dataframe thead th {\n",
              "        text-align: right;\n",
              "    }\n",
              "</style>\n",
              "<table border=\"1\" class=\"dataframe\">\n",
              "  <thead>\n",
              "    <tr style=\"text-align: right;\">\n",
              "      <th></th>\n",
              "      <th>@user</th>\n",
              "      <th>you are correct that Reid certainly is a weasel. Sadly</th>\n",
              "      <th>we've got our own weasels; @user Sen McConnell &amp; @user .The corrupt Mueller investigation w/be STOPPED if those 3 did their jobs.#MAGA #KAG #POTUS #Trump #NEWS #VoteRed #NoDACA #USA</th>\n",
              "    </tr>\n",
              "  </thead>\n",
              "  <tbody>\n",
              "    <tr>\n",
              "      <th>29</th>\n",
              "      <td>So that they can hide their lies from the publ...</td>\n",
              "      <td>all belong in prison for life</td>\n",
              "      <td>they know it and public will know as well ver...</td>\n",
              "    </tr>\n",
              "    <tr>\n",
              "      <th>44</th>\n",
              "      <td>Do you know how many bullets I would take for ...</td>\n",
              "      <td>Camila</td>\n",
              "      <td>the whole cast of riverdale and ari? Bitch sh...</td>\n",
              "    </tr>\n",
              "    <tr>\n",
              "      <th>46</th>\n",
              "      <td>Parental neglect of migrant children ignored b...</td>\n",
              "      <td>urine</td>\n",
              "      <td>flooding &amp; abuse of Staff! #DeportThemAll Ing...</td>\n",
              "    </tr>\n",
              "    <tr>\n",
              "      <th>48</th>\n",
              "      <td>@user Brazil is a sh*thole. This is the same p...</td>\n",
              "      <td>then proceeded to cut his body to pieces. IN ...</td>\n",
              "      <td>yet the Left says if we don't have open borde...</td>\n",
              "    </tr>\n",
              "    <tr>\n",
              "      <th>75</th>\n",
              "      <td>How can some of ya worry about how the next ni...</td>\n",
              "      <td>or they out here hoein. It aint YOU</td>\n",
              "      <td>is it??</td>\n",
              "    </tr>\n",
              "    <tr>\n",
              "      <th>...</th>\n",
              "      <td>...</td>\n",
              "      <td>...</td>\n",
              "      <td>...</td>\n",
              "    </tr>\n",
              "    <tr>\n",
              "      <th>2751</th>\n",
              "      <td>@user In the choir</td>\n",
              "      <td>whores and liars</td>\n",
              "      <td>scumbags in the dirt bitch</td>\n",
              "    </tr>\n",
              "    <tr>\n",
              "      <th>2764</th>\n",
              "      <td>I wouldn't suggest that Obama was a wimpy Prez</td>\n",
              "      <td>but when he said we should bring a gun to a k...</td>\n",
              "      <td>I pictured him w/a butter knife.The Code Pink...</td>\n",
              "    </tr>\n",
              "    <tr>\n",
              "      <th>2789</th>\n",
              "      <td>Funny how my whole middle school bullied me bu...</td>\n",
              "      <td>fat</td>\n",
              "      <td>or ugly lmao my bitch karma dont know how to...</td>\n",
              "    </tr>\n",
              "    <tr>\n",
              "      <th>2793</th>\n",
              "      <td>@user As long as you are not a knife migrant o...</td>\n",
              "      <td>and have assimilated into German society</td>\n",
              "      <td>you will be safe. Anything else is radical le...</td>\n",
              "    </tr>\n",
              "    <tr>\n",
              "      <th>2794</th>\n",
              "      <td>@user @user cnn the CORRUPT NEWS NETWORK #1 in...</td>\n",
              "      <td>enemy of the people</td>\n",
              "      <td>lowest in ratings and falling. Pathetic. #MAG...</td>\n",
              "    </tr>\n",
              "  </tbody>\n",
              "</table>\n",
              "<p>153 rows × 3 columns</p>\n",
              "</div>"
            ],
            "text/plain": [
              "                                                 @user   ...  we've got our own weasels; @user Sen McConnell & @user .The corrupt Mueller investigation w/be STOPPED if those 3 did their jobs.#MAGA #KAG #POTUS #Trump #NEWS #VoteRed #NoDACA #USA \n",
              "29    So that they can hide their lies from the publ...  ...   they know it and public will know as well ver...                                                                                                                                     \n",
              "44    Do you know how many bullets I would take for ...  ...   the whole cast of riverdale and ari? Bitch sh...                                                                                                                                     \n",
              "46    Parental neglect of migrant children ignored b...  ...   flooding & abuse of Staff! #DeportThemAll Ing...                                                                                                                                     \n",
              "48    @user Brazil is a sh*thole. This is the same p...  ...   yet the Left says if we don't have open borde...                                                                                                                                     \n",
              "75    How can some of ya worry about how the next ni...  ...                                           is it??                                                                                                                                      \n",
              "...                                                 ...  ...                                                ...                                                                                                                                     \n",
              "2751                                 @user In the choir  ...                        scumbags in the dirt bitch                                                                                                                                      \n",
              "2764     I wouldn't suggest that Obama was a wimpy Prez  ...   I pictured him w/a butter knife.The Code Pink...                                                                                                                                     \n",
              "2789  Funny how my whole middle school bullied me bu...  ...    or ugly lmao my bitch karma dont know how to...                                                                                                                                     \n",
              "2793  @user As long as you are not a knife migrant o...  ...   you will be safe. Anything else is radical le...                                                                                                                                     \n",
              "2794  @user @user cnn the CORRUPT NEWS NETWORK #1 in...  ...   lowest in ratings and falling. Pathetic. #MAG...                                                                                                                                     \n",
              "\n",
              "[153 rows x 3 columns]"
            ]
          },
          "metadata": {
            "tags": []
          },
          "execution_count": 50
        }
      ]
    },
    {
      "cell_type": "code",
      "metadata": {
        "id": "oYaoo-onkweI"
      },
      "source": [
        "#assinging column names"
      ],
      "execution_count": null,
      "outputs": []
    },
    {
      "cell_type": "code",
      "metadata": {
        "colab": {
          "base_uri": "https://localhost:8080/",
          "height": 296
        },
        "id": "pUZqOFm5ZEaF",
        "outputId": "bd23066c-1fe3-4c81-817d-52bd8b78fcbc"
      },
      "source": [
        "hate_test.columns = ['tweet','tweet2','tweet3']\r\n",
        "hate_test\r\n",
        "df1 = hate_test[[\"tweet\"]]\r\n",
        "df1[\"tweet\"] = hate_test[\"tweet\"].astype(str)\r\n",
        "hate_test.head()"
      ],
      "execution_count": 51,
      "outputs": [
        {
          "output_type": "stream",
          "text": [
            "/usr/local/lib/python3.7/dist-packages/ipykernel_launcher.py:4: SettingWithCopyWarning: \n",
            "A value is trying to be set on a copy of a slice from a DataFrame.\n",
            "Try using .loc[row_indexer,col_indexer] = value instead\n",
            "\n",
            "See the caveats in the documentation: https://pandas.pydata.org/pandas-docs/stable/user_guide/indexing.html#returning-a-view-versus-a-copy\n",
            "  after removing the cwd from sys.path.\n"
          ],
          "name": "stderr"
        },
        {
          "output_type": "execute_result",
          "data": {
            "text/html": [
              "<div>\n",
              "<style scoped>\n",
              "    .dataframe tbody tr th:only-of-type {\n",
              "        vertical-align: middle;\n",
              "    }\n",
              "\n",
              "    .dataframe tbody tr th {\n",
              "        vertical-align: top;\n",
              "    }\n",
              "\n",
              "    .dataframe thead th {\n",
              "        text-align: right;\n",
              "    }\n",
              "</style>\n",
              "<table border=\"1\" class=\"dataframe\">\n",
              "  <thead>\n",
              "    <tr style=\"text-align: right;\">\n",
              "      <th></th>\n",
              "      <th>tweet</th>\n",
              "      <th>tweet2</th>\n",
              "      <th>tweet3</th>\n",
              "    </tr>\n",
              "  </thead>\n",
              "  <tbody>\n",
              "    <tr>\n",
              "      <th>0</th>\n",
              "      <td>Whoever just unfollowed me you a bitch</td>\n",
              "      <td>NaN</td>\n",
              "      <td>NaN</td>\n",
              "    </tr>\n",
              "    <tr>\n",
              "      <th>1</th>\n",
              "      <td>@user @user Those People Invaded Us!!! They DO...</td>\n",
              "      <td>NaN</td>\n",
              "      <td>NaN</td>\n",
              "    </tr>\n",
              "    <tr>\n",
              "      <th>2</th>\n",
              "      <td>stop JUDGING bitches by there cover</td>\n",
              "      <td>jus cuz she bad don't mean she's a catch shaw...</td>\n",
              "      <td>NaN</td>\n",
              "    </tr>\n",
              "    <tr>\n",
              "      <th>3</th>\n",
              "      <td>how about i knock heads off and send them gift...</td>\n",
              "      <td>NaN</td>\n",
              "      <td>NaN</td>\n",
              "    </tr>\n",
              "    <tr>\n",
              "      <th>4</th>\n",
              "      <td>@user @user @user Always #NoDACA.I AM BORN IN ...</td>\n",
              "      <td>NaN</td>\n",
              "      <td>NaN</td>\n",
              "    </tr>\n",
              "  </tbody>\n",
              "</table>\n",
              "</div>"
            ],
            "text/plain": [
              "                                               tweet  ... tweet3\n",
              "0            Whoever just unfollowed me you a bitch   ...    NaN\n",
              "1  @user @user Those People Invaded Us!!! They DO...  ...    NaN\n",
              "2                stop JUDGING bitches by there cover  ...    NaN\n",
              "3  how about i knock heads off and send them gift...  ...    NaN\n",
              "4  @user @user @user Always #NoDACA.I AM BORN IN ...  ...    NaN\n",
              "\n",
              "[5 rows x 3 columns]"
            ]
          },
          "metadata": {
            "tags": []
          },
          "execution_count": 51
        }
      ]
    },
    {
      "cell_type": "code",
      "metadata": {
        "id": "bEgZ844hk3kJ"
      },
      "source": [
        "#loading the test dataset"
      ],
      "execution_count": null,
      "outputs": []
    },
    {
      "cell_type": "code",
      "metadata": {
        "colab": {
          "base_uri": "https://localhost:8080/",
          "height": 402
        },
        "id": "DevowV0dZbwp",
        "outputId": "923c682d-f6dd-4582-ef9f-6d8cf68e0352"
      },
      "source": [
        "hate_testlabel = pd.read_csv('test_labels.txt')\r\n",
        "hate_testlabel"
      ],
      "execution_count": 11,
      "outputs": [
        {
          "output_type": "execute_result",
          "data": {
            "text/html": [
              "<div>\n",
              "<style scoped>\n",
              "    .dataframe tbody tr th:only-of-type {\n",
              "        vertical-align: middle;\n",
              "    }\n",
              "\n",
              "    .dataframe tbody tr th {\n",
              "        vertical-align: top;\n",
              "    }\n",
              "\n",
              "    .dataframe thead th {\n",
              "        text-align: right;\n",
              "    }\n",
              "</style>\n",
              "<table border=\"1\" class=\"dataframe\">\n",
              "  <thead>\n",
              "    <tr style=\"text-align: right;\">\n",
              "      <th></th>\n",
              "      <th>0</th>\n",
              "    </tr>\n",
              "  </thead>\n",
              "  <tbody>\n",
              "    <tr>\n",
              "      <th>0</th>\n",
              "      <td>1</td>\n",
              "    </tr>\n",
              "    <tr>\n",
              "      <th>1</th>\n",
              "      <td>1</td>\n",
              "    </tr>\n",
              "    <tr>\n",
              "      <th>2</th>\n",
              "      <td>1</td>\n",
              "    </tr>\n",
              "    <tr>\n",
              "      <th>3</th>\n",
              "      <td>1</td>\n",
              "    </tr>\n",
              "    <tr>\n",
              "      <th>4</th>\n",
              "      <td>0</td>\n",
              "    </tr>\n",
              "    <tr>\n",
              "      <th>...</th>\n",
              "      <td>...</td>\n",
              "    </tr>\n",
              "    <tr>\n",
              "      <th>2964</th>\n",
              "      <td>0</td>\n",
              "    </tr>\n",
              "    <tr>\n",
              "      <th>2965</th>\n",
              "      <td>0</td>\n",
              "    </tr>\n",
              "    <tr>\n",
              "      <th>2966</th>\n",
              "      <td>0</td>\n",
              "    </tr>\n",
              "    <tr>\n",
              "      <th>2967</th>\n",
              "      <td>1</td>\n",
              "    </tr>\n",
              "    <tr>\n",
              "      <th>2968</th>\n",
              "      <td>1</td>\n",
              "    </tr>\n",
              "  </tbody>\n",
              "</table>\n",
              "<p>2969 rows × 1 columns</p>\n",
              "</div>"
            ],
            "text/plain": [
              "      0\n",
              "0     1\n",
              "1     1\n",
              "2     1\n",
              "3     1\n",
              "4     0\n",
              "...  ..\n",
              "2964  0\n",
              "2965  0\n",
              "2966  0\n",
              "2967  1\n",
              "2968  1\n",
              "\n",
              "[2969 rows x 1 columns]"
            ]
          },
          "metadata": {
            "tags": []
          },
          "execution_count": 11
        }
      ]
    },
    {
      "cell_type": "code",
      "metadata": {
        "id": "2gr_bwxjk-mG"
      },
      "source": [
        "#assigning the columns names to label test data"
      ],
      "execution_count": null,
      "outputs": []
    },
    {
      "cell_type": "code",
      "metadata": {
        "colab": {
          "base_uri": "https://localhost:8080/",
          "height": 402
        },
        "id": "NdsWH8tAZuf5",
        "outputId": "5add99ea-d7d7-47e6-e8c4-8efce28a8dfc"
      },
      "source": [
        "hate_testlabel.columns = ['label']\r\n",
        "hate_testlabel"
      ],
      "execution_count": 52,
      "outputs": [
        {
          "output_type": "execute_result",
          "data": {
            "text/html": [
              "<div>\n",
              "<style scoped>\n",
              "    .dataframe tbody tr th:only-of-type {\n",
              "        vertical-align: middle;\n",
              "    }\n",
              "\n",
              "    .dataframe tbody tr th {\n",
              "        vertical-align: top;\n",
              "    }\n",
              "\n",
              "    .dataframe thead th {\n",
              "        text-align: right;\n",
              "    }\n",
              "</style>\n",
              "<table border=\"1\" class=\"dataframe\">\n",
              "  <thead>\n",
              "    <tr style=\"text-align: right;\">\n",
              "      <th></th>\n",
              "      <th>label</th>\n",
              "    </tr>\n",
              "  </thead>\n",
              "  <tbody>\n",
              "    <tr>\n",
              "      <th>0</th>\n",
              "      <td>1</td>\n",
              "    </tr>\n",
              "    <tr>\n",
              "      <th>1</th>\n",
              "      <td>1</td>\n",
              "    </tr>\n",
              "    <tr>\n",
              "      <th>2</th>\n",
              "      <td>1</td>\n",
              "    </tr>\n",
              "    <tr>\n",
              "      <th>3</th>\n",
              "      <td>1</td>\n",
              "    </tr>\n",
              "    <tr>\n",
              "      <th>4</th>\n",
              "      <td>0</td>\n",
              "    </tr>\n",
              "    <tr>\n",
              "      <th>...</th>\n",
              "      <td>...</td>\n",
              "    </tr>\n",
              "    <tr>\n",
              "      <th>2964</th>\n",
              "      <td>0</td>\n",
              "    </tr>\n",
              "    <tr>\n",
              "      <th>2965</th>\n",
              "      <td>0</td>\n",
              "    </tr>\n",
              "    <tr>\n",
              "      <th>2966</th>\n",
              "      <td>0</td>\n",
              "    </tr>\n",
              "    <tr>\n",
              "      <th>2967</th>\n",
              "      <td>1</td>\n",
              "    </tr>\n",
              "    <tr>\n",
              "      <th>2968</th>\n",
              "      <td>1</td>\n",
              "    </tr>\n",
              "  </tbody>\n",
              "</table>\n",
              "<p>2969 rows × 1 columns</p>\n",
              "</div>"
            ],
            "text/plain": [
              "      label\n",
              "0         1\n",
              "1         1\n",
              "2         1\n",
              "3         1\n",
              "4         0\n",
              "...     ...\n",
              "2964      0\n",
              "2965      0\n",
              "2966      0\n",
              "2967      1\n",
              "2968      1\n",
              "\n",
              "[2969 rows x 1 columns]"
            ]
          },
          "metadata": {
            "tags": []
          },
          "execution_count": 52
        }
      ]
    },
    {
      "cell_type": "code",
      "metadata": {
        "id": "TjJWscLDlF_1"
      },
      "source": [
        "# using the concat function we are combining the train data and label data, so when using the model it will be easier to predict"
      ],
      "execution_count": null,
      "outputs": []
    },
    {
      "cell_type": "code",
      "metadata": {
        "colab": {
          "base_uri": "https://localhost:8080/",
          "height": 402
        },
        "id": "6FzL4GcNdaeL",
        "outputId": "f5fbf786-4bc8-4dde-df3c-4089d77c76a5"
      },
      "source": [
        "df = pd.concat([hate,hate_train],axis=1)\r\n",
        "df.dropna()"
      ],
      "execution_count": 53,
      "outputs": [
        {
          "output_type": "execute_result",
          "data": {
            "text/html": [
              "<div>\n",
              "<style scoped>\n",
              "    .dataframe tbody tr th:only-of-type {\n",
              "        vertical-align: middle;\n",
              "    }\n",
              "\n",
              "    .dataframe tbody tr th {\n",
              "        vertical-align: top;\n",
              "    }\n",
              "\n",
              "    .dataframe thead th {\n",
              "        text-align: right;\n",
              "    }\n",
              "</style>\n",
              "<table border=\"1\" class=\"dataframe\">\n",
              "  <thead>\n",
              "    <tr style=\"text-align: right;\">\n",
              "      <th></th>\n",
              "      <th>label</th>\n",
              "      <th>tweet</th>\n",
              "    </tr>\n",
              "  </thead>\n",
              "  <tbody>\n",
              "    <tr>\n",
              "      <th>0</th>\n",
              "      <td>1</td>\n",
              "      <td>A woman who you fucked multiple times saying y...</td>\n",
              "    </tr>\n",
              "    <tr>\n",
              "      <th>1</th>\n",
              "      <td>1</td>\n",
              "      <td>@user @user real talk do you have eyes or were...</td>\n",
              "    </tr>\n",
              "    <tr>\n",
              "      <th>2</th>\n",
              "      <td>1</td>\n",
              "      <td>your girlfriend lookin at me like a groupie in...</td>\n",
              "    </tr>\n",
              "    <tr>\n",
              "      <th>3</th>\n",
              "      <td>0</td>\n",
              "      <td>Hysterical woman like @user</td>\n",
              "    </tr>\n",
              "    <tr>\n",
              "      <th>4</th>\n",
              "      <td>0</td>\n",
              "      <td>Me flirting- So tell me about your father...</td>\n",
              "    </tr>\n",
              "    <tr>\n",
              "      <th>...</th>\n",
              "      <td>...</td>\n",
              "      <td>...</td>\n",
              "    </tr>\n",
              "    <tr>\n",
              "      <th>6100</th>\n",
              "      <td>1</td>\n",
              "      <td>Oooohhhh bitch didn't even listen to the dead ...</td>\n",
              "    </tr>\n",
              "    <tr>\n",
              "      <th>6101</th>\n",
              "      <td>0</td>\n",
              "      <td>@user Good Luck @user More Americans #WalkAway...</td>\n",
              "    </tr>\n",
              "    <tr>\n",
              "      <th>6102</th>\n",
              "      <td>0</td>\n",
              "      <td>Bitch you can't keep up so stop trying</td>\n",
              "    </tr>\n",
              "    <tr>\n",
              "      <th>6103</th>\n",
              "      <td>0</td>\n",
              "      <td>@user @user @user @user @user @user Japan is a...</td>\n",
              "    </tr>\n",
              "    <tr>\n",
              "      <th>6104</th>\n",
              "      <td>1</td>\n",
              "      <td>@user hi Best l see someone fucking girl comme...</td>\n",
              "    </tr>\n",
              "  </tbody>\n",
              "</table>\n",
              "<p>6105 rows × 2 columns</p>\n",
              "</div>"
            ],
            "text/plain": [
              "      label                                              tweet\n",
              "0         1  A woman who you fucked multiple times saying y...\n",
              "1         1  @user @user real talk do you have eyes or were...\n",
              "2         1  your girlfriend lookin at me like a groupie in...\n",
              "3         0                       Hysterical woman like @user \n",
              "4         0      Me flirting- So tell me about your father... \n",
              "...     ...                                                ...\n",
              "6100      1  Oooohhhh bitch didn't even listen to the dead ...\n",
              "6101      0  @user Good Luck @user More Americans #WalkAway...\n",
              "6102      0            Bitch you can't keep up so stop trying \n",
              "6103      0  @user @user @user @user @user @user Japan is a...\n",
              "6104      1  @user hi Best l see someone fucking girl comme...\n",
              "\n",
              "[6105 rows x 2 columns]"
            ]
          },
          "metadata": {
            "tags": []
          },
          "execution_count": 53
        }
      ]
    },
    {
      "cell_type": "code",
      "metadata": {
        "id": "2hVuOKDKlW8J"
      },
      "source": [
        "# using the concat function we are combining the test data and label data, so when using the model it will be easier to predict"
      ],
      "execution_count": null,
      "outputs": []
    },
    {
      "cell_type": "code",
      "metadata": {
        "colab": {
          "base_uri": "https://localhost:8080/",
          "height": 402
        },
        "id": "L9I446zFw7KX",
        "outputId": "7fa354a8-844e-41c0-d528-981d85fd8bb1"
      },
      "source": [
        "test = pd.concat([hate_test,hate_testlabel])\r\n",
        "test"
      ],
      "execution_count": 54,
      "outputs": [
        {
          "output_type": "execute_result",
          "data": {
            "text/html": [
              "<div>\n",
              "<style scoped>\n",
              "    .dataframe tbody tr th:only-of-type {\n",
              "        vertical-align: middle;\n",
              "    }\n",
              "\n",
              "    .dataframe tbody tr th {\n",
              "        vertical-align: top;\n",
              "    }\n",
              "\n",
              "    .dataframe thead th {\n",
              "        text-align: right;\n",
              "    }\n",
              "</style>\n",
              "<table border=\"1\" class=\"dataframe\">\n",
              "  <thead>\n",
              "    <tr style=\"text-align: right;\">\n",
              "      <th></th>\n",
              "      <th>tweet</th>\n",
              "      <th>tweet2</th>\n",
              "      <th>tweet3</th>\n",
              "      <th>label</th>\n",
              "    </tr>\n",
              "  </thead>\n",
              "  <tbody>\n",
              "    <tr>\n",
              "      <th>0</th>\n",
              "      <td>Whoever just unfollowed me you a bitch</td>\n",
              "      <td>NaN</td>\n",
              "      <td>NaN</td>\n",
              "      <td>NaN</td>\n",
              "    </tr>\n",
              "    <tr>\n",
              "      <th>1</th>\n",
              "      <td>@user @user Those People Invaded Us!!! They DO...</td>\n",
              "      <td>NaN</td>\n",
              "      <td>NaN</td>\n",
              "      <td>NaN</td>\n",
              "    </tr>\n",
              "    <tr>\n",
              "      <th>2</th>\n",
              "      <td>stop JUDGING bitches by there cover</td>\n",
              "      <td>jus cuz she bad don't mean she's a catch shaw...</td>\n",
              "      <td>NaN</td>\n",
              "      <td>NaN</td>\n",
              "    </tr>\n",
              "    <tr>\n",
              "      <th>3</th>\n",
              "      <td>how about i knock heads off and send them gift...</td>\n",
              "      <td>NaN</td>\n",
              "      <td>NaN</td>\n",
              "      <td>NaN</td>\n",
              "    </tr>\n",
              "    <tr>\n",
              "      <th>4</th>\n",
              "      <td>@user @user @user Always #NoDACA.I AM BORN IN ...</td>\n",
              "      <td>NaN</td>\n",
              "      <td>NaN</td>\n",
              "      <td>NaN</td>\n",
              "    </tr>\n",
              "    <tr>\n",
              "      <th>...</th>\n",
              "      <td>...</td>\n",
              "      <td>...</td>\n",
              "      <td>...</td>\n",
              "      <td>...</td>\n",
              "    </tr>\n",
              "    <tr>\n",
              "      <th>2964</th>\n",
              "      <td>NaN</td>\n",
              "      <td>NaN</td>\n",
              "      <td>NaN</td>\n",
              "      <td>0.0</td>\n",
              "    </tr>\n",
              "    <tr>\n",
              "      <th>2965</th>\n",
              "      <td>NaN</td>\n",
              "      <td>NaN</td>\n",
              "      <td>NaN</td>\n",
              "      <td>0.0</td>\n",
              "    </tr>\n",
              "    <tr>\n",
              "      <th>2966</th>\n",
              "      <td>NaN</td>\n",
              "      <td>NaN</td>\n",
              "      <td>NaN</td>\n",
              "      <td>0.0</td>\n",
              "    </tr>\n",
              "    <tr>\n",
              "      <th>2967</th>\n",
              "      <td>NaN</td>\n",
              "      <td>NaN</td>\n",
              "      <td>NaN</td>\n",
              "      <td>1.0</td>\n",
              "    </tr>\n",
              "    <tr>\n",
              "      <th>2968</th>\n",
              "      <td>NaN</td>\n",
              "      <td>NaN</td>\n",
              "      <td>NaN</td>\n",
              "      <td>1.0</td>\n",
              "    </tr>\n",
              "  </tbody>\n",
              "</table>\n",
              "<p>5781 rows × 4 columns</p>\n",
              "</div>"
            ],
            "text/plain": [
              "                                                  tweet  ... label\n",
              "0               Whoever just unfollowed me you a bitch   ...   NaN\n",
              "1     @user @user Those People Invaded Us!!! They DO...  ...   NaN\n",
              "2                   stop JUDGING bitches by there cover  ...   NaN\n",
              "3     how about i knock heads off and send them gift...  ...   NaN\n",
              "4     @user @user @user Always #NoDACA.I AM BORN IN ...  ...   NaN\n",
              "...                                                 ...  ...   ...\n",
              "2964                                                NaN  ...   0.0\n",
              "2965                                                NaN  ...   0.0\n",
              "2966                                                NaN  ...   0.0\n",
              "2967                                                NaN  ...   1.0\n",
              "2968                                                NaN  ...   1.0\n",
              "\n",
              "[5781 rows x 4 columns]"
            ]
          },
          "metadata": {
            "tags": []
          },
          "execution_count": 54
        }
      ]
    },
    {
      "cell_type": "code",
      "metadata": {
        "id": "gg8HoRQRlbf3"
      },
      "source": [
        "# we are using lower function to convert our text data to lower case"
      ],
      "execution_count": null,
      "outputs": []
    },
    {
      "cell_type": "code",
      "metadata": {
        "colab": {
          "base_uri": "https://localhost:8080/",
          "height": 402
        },
        "id": "2M1ll32r0Z6p",
        "outputId": "832d3e16-0e0e-4d6c-b19a-5ec2bf67fad0"
      },
      "source": [
        "df[\"tweet_lower\"] = df[\"tweet\"].str.lower()\r\n",
        "df"
      ],
      "execution_count": 55,
      "outputs": [
        {
          "output_type": "execute_result",
          "data": {
            "text/html": [
              "<div>\n",
              "<style scoped>\n",
              "    .dataframe tbody tr th:only-of-type {\n",
              "        vertical-align: middle;\n",
              "    }\n",
              "\n",
              "    .dataframe tbody tr th {\n",
              "        vertical-align: top;\n",
              "    }\n",
              "\n",
              "    .dataframe thead th {\n",
              "        text-align: right;\n",
              "    }\n",
              "</style>\n",
              "<table border=\"1\" class=\"dataframe\">\n",
              "  <thead>\n",
              "    <tr style=\"text-align: right;\">\n",
              "      <th></th>\n",
              "      <th>label</th>\n",
              "      <th>tweet</th>\n",
              "      <th>tweet_lower</th>\n",
              "    </tr>\n",
              "  </thead>\n",
              "  <tbody>\n",
              "    <tr>\n",
              "      <th>0</th>\n",
              "      <td>1</td>\n",
              "      <td>A woman who you fucked multiple times saying y...</td>\n",
              "      <td>a woman who you fucked multiple times saying y...</td>\n",
              "    </tr>\n",
              "    <tr>\n",
              "      <th>1</th>\n",
              "      <td>1</td>\n",
              "      <td>@user @user real talk do you have eyes or were...</td>\n",
              "      <td>@user @user real talk do you have eyes or were...</td>\n",
              "    </tr>\n",
              "    <tr>\n",
              "      <th>2</th>\n",
              "      <td>1</td>\n",
              "      <td>your girlfriend lookin at me like a groupie in...</td>\n",
              "      <td>your girlfriend lookin at me like a groupie in...</td>\n",
              "    </tr>\n",
              "    <tr>\n",
              "      <th>3</th>\n",
              "      <td>0</td>\n",
              "      <td>Hysterical woman like @user</td>\n",
              "      <td>hysterical woman like @user</td>\n",
              "    </tr>\n",
              "    <tr>\n",
              "      <th>4</th>\n",
              "      <td>0</td>\n",
              "      <td>Me flirting- So tell me about your father...</td>\n",
              "      <td>me flirting- so tell me about your father...</td>\n",
              "    </tr>\n",
              "    <tr>\n",
              "      <th>...</th>\n",
              "      <td>...</td>\n",
              "      <td>...</td>\n",
              "      <td>...</td>\n",
              "    </tr>\n",
              "    <tr>\n",
              "      <th>8994</th>\n",
              "      <td>0</td>\n",
              "      <td>NaN</td>\n",
              "      <td>NaN</td>\n",
              "    </tr>\n",
              "    <tr>\n",
              "      <th>8995</th>\n",
              "      <td>0</td>\n",
              "      <td>NaN</td>\n",
              "      <td>NaN</td>\n",
              "    </tr>\n",
              "    <tr>\n",
              "      <th>8996</th>\n",
              "      <td>1</td>\n",
              "      <td>NaN</td>\n",
              "      <td>NaN</td>\n",
              "    </tr>\n",
              "    <tr>\n",
              "      <th>8997</th>\n",
              "      <td>0</td>\n",
              "      <td>NaN</td>\n",
              "      <td>NaN</td>\n",
              "    </tr>\n",
              "    <tr>\n",
              "      <th>8998</th>\n",
              "      <td>1</td>\n",
              "      <td>NaN</td>\n",
              "      <td>NaN</td>\n",
              "    </tr>\n",
              "  </tbody>\n",
              "</table>\n",
              "<p>8999 rows × 3 columns</p>\n",
              "</div>"
            ],
            "text/plain": [
              "      label  ...                                        tweet_lower\n",
              "0         1  ...  a woman who you fucked multiple times saying y...\n",
              "1         1  ...  @user @user real talk do you have eyes or were...\n",
              "2         1  ...  your girlfriend lookin at me like a groupie in...\n",
              "3         0  ...                       hysterical woman like @user \n",
              "4         0  ...      me flirting- so tell me about your father... \n",
              "...     ...  ...                                                ...\n",
              "8994      0  ...                                                NaN\n",
              "8995      0  ...                                                NaN\n",
              "8996      1  ...                                                NaN\n",
              "8997      0  ...                                                NaN\n",
              "8998      1  ...                                                NaN\n",
              "\n",
              "[8999 rows x 3 columns]"
            ]
          },
          "metadata": {
            "tags": []
          },
          "execution_count": 55
        }
      ]
    },
    {
      "cell_type": "code",
      "metadata": {
        "id": "qdjHtnnNxYTt"
      },
      "source": [
        "#converting to type string\r\n",
        "df[\"tweet\"] = df[\"tweet\"].astype(str)"
      ],
      "execution_count": 56,
      "outputs": []
    },
    {
      "cell_type": "code",
      "metadata": {
        "colab": {
          "base_uri": "https://localhost:8080/",
          "height": 195
        },
        "id": "2fyqRbOK2mbP",
        "outputId": "9d808023-789a-4e99-ec52-40b696707338"
      },
      "source": [
        " #We are using punctuation function to remove punctuation values\r\n",
        "PUNCT_TO_REMOVE = string.punctuation\r\n",
        "def remove_punctuation(text):\r\n",
        "    \"\"\"custom function to remove the punctuation\"\"\"\r\n",
        "    return text.translate(str.maketrans('', '', PUNCT_TO_REMOVE))\r\n",
        "\r\n",
        "df[\"text_wo_punct\"] = df[\"tweet\"].apply(lambda text: remove_punctuation(text))\r\n",
        "df.head()\r\n"
      ],
      "execution_count": 57,
      "outputs": [
        {
          "output_type": "execute_result",
          "data": {
            "text/html": [
              "<div>\n",
              "<style scoped>\n",
              "    .dataframe tbody tr th:only-of-type {\n",
              "        vertical-align: middle;\n",
              "    }\n",
              "\n",
              "    .dataframe tbody tr th {\n",
              "        vertical-align: top;\n",
              "    }\n",
              "\n",
              "    .dataframe thead th {\n",
              "        text-align: right;\n",
              "    }\n",
              "</style>\n",
              "<table border=\"1\" class=\"dataframe\">\n",
              "  <thead>\n",
              "    <tr style=\"text-align: right;\">\n",
              "      <th></th>\n",
              "      <th>label</th>\n",
              "      <th>tweet</th>\n",
              "      <th>tweet_lower</th>\n",
              "      <th>text_wo_punct</th>\n",
              "    </tr>\n",
              "  </thead>\n",
              "  <tbody>\n",
              "    <tr>\n",
              "      <th>0</th>\n",
              "      <td>1</td>\n",
              "      <td>A woman who you fucked multiple times saying y...</td>\n",
              "      <td>a woman who you fucked multiple times saying y...</td>\n",
              "      <td>A woman who you fucked multiple times saying y...</td>\n",
              "    </tr>\n",
              "    <tr>\n",
              "      <th>1</th>\n",
              "      <td>1</td>\n",
              "      <td>@user @user real talk do you have eyes or were...</td>\n",
              "      <td>@user @user real talk do you have eyes or were...</td>\n",
              "      <td>user user real talk do you have eyes or were t...</td>\n",
              "    </tr>\n",
              "    <tr>\n",
              "      <th>2</th>\n",
              "      <td>1</td>\n",
              "      <td>your girlfriend lookin at me like a groupie in...</td>\n",
              "      <td>your girlfriend lookin at me like a groupie in...</td>\n",
              "      <td>your girlfriend lookin at me like a groupie in...</td>\n",
              "    </tr>\n",
              "    <tr>\n",
              "      <th>3</th>\n",
              "      <td>0</td>\n",
              "      <td>Hysterical woman like @user</td>\n",
              "      <td>hysterical woman like @user</td>\n",
              "      <td>Hysterical woman like user</td>\n",
              "    </tr>\n",
              "    <tr>\n",
              "      <th>4</th>\n",
              "      <td>0</td>\n",
              "      <td>Me flirting- So tell me about your father...</td>\n",
              "      <td>me flirting- so tell me about your father...</td>\n",
              "      <td>Me flirting So tell me about your father</td>\n",
              "    </tr>\n",
              "  </tbody>\n",
              "</table>\n",
              "</div>"
            ],
            "text/plain": [
              "   label  ...                                      text_wo_punct\n",
              "0      1  ...  A woman who you fucked multiple times saying y...\n",
              "1      1  ...  user user real talk do you have eyes or were t...\n",
              "2      1  ...  your girlfriend lookin at me like a groupie in...\n",
              "3      0  ...                        Hysterical woman like user \n",
              "4      0  ...          Me flirting So tell me about your father \n",
              "\n",
              "[5 rows x 4 columns]"
            ]
          },
          "metadata": {
            "tags": []
          },
          "execution_count": 57
        }
      ]
    },
    {
      "cell_type": "code",
      "metadata": {
        "colab": {
          "base_uri": "https://localhost:8080/",
          "height": 195
        },
        "id": "-Fga1_JN3mO_",
        "outputId": "1754c06b-5d03-4845-9ee3-d9ea3f22e8f0"
      },
      "source": [
        "#we are importing the stopwords \r\n",
        "from nltk.corpus import stopwords\r\n",
        "\", \".join(stopwords.words('english'))\r\n",
        "\r\n",
        "#we are using the stopword function to remove stopwords\r\n",
        "STOPWORDS = set(stopwords.words('english'))\r\n",
        "def remove_stopwords(text):\r\n",
        "    \"\"\"custom function to remove the stopwords\"\"\"\r\n",
        "    return \" \".join([word for word in str(text).split() if word not in STOPWORDS])\r\n",
        "\r\n",
        "df[\"text_wo_stop\"] = df[\"text_wo_punct\"].apply(lambda text: remove_stopwords(text))\r\n",
        "df.head()"
      ],
      "execution_count": 58,
      "outputs": [
        {
          "output_type": "execute_result",
          "data": {
            "text/html": [
              "<div>\n",
              "<style scoped>\n",
              "    .dataframe tbody tr th:only-of-type {\n",
              "        vertical-align: middle;\n",
              "    }\n",
              "\n",
              "    .dataframe tbody tr th {\n",
              "        vertical-align: top;\n",
              "    }\n",
              "\n",
              "    .dataframe thead th {\n",
              "        text-align: right;\n",
              "    }\n",
              "</style>\n",
              "<table border=\"1\" class=\"dataframe\">\n",
              "  <thead>\n",
              "    <tr style=\"text-align: right;\">\n",
              "      <th></th>\n",
              "      <th>label</th>\n",
              "      <th>tweet</th>\n",
              "      <th>tweet_lower</th>\n",
              "      <th>text_wo_punct</th>\n",
              "      <th>text_wo_stop</th>\n",
              "    </tr>\n",
              "  </thead>\n",
              "  <tbody>\n",
              "    <tr>\n",
              "      <th>0</th>\n",
              "      <td>1</td>\n",
              "      <td>A woman who you fucked multiple times saying y...</td>\n",
              "      <td>a woman who you fucked multiple times saying y...</td>\n",
              "      <td>A woman who you fucked multiple times saying y...</td>\n",
              "      <td>A woman fucked multiple times saying yo dick s...</td>\n",
              "    </tr>\n",
              "    <tr>\n",
              "      <th>1</th>\n",
              "      <td>1</td>\n",
              "      <td>@user @user real talk do you have eyes or were...</td>\n",
              "      <td>@user @user real talk do you have eyes or were...</td>\n",
              "      <td>user user real talk do you have eyes or were t...</td>\n",
              "      <td>user user real talk eyes gouged rapefugee</td>\n",
              "    </tr>\n",
              "    <tr>\n",
              "      <th>2</th>\n",
              "      <td>1</td>\n",
              "      <td>your girlfriend lookin at me like a groupie in...</td>\n",
              "      <td>your girlfriend lookin at me like a groupie in...</td>\n",
              "      <td>your girlfriend lookin at me like a groupie in...</td>\n",
              "      <td>girlfriend lookin like groupie bitch</td>\n",
              "    </tr>\n",
              "    <tr>\n",
              "      <th>3</th>\n",
              "      <td>0</td>\n",
              "      <td>Hysterical woman like @user</td>\n",
              "      <td>hysterical woman like @user</td>\n",
              "      <td>Hysterical woman like user</td>\n",
              "      <td>Hysterical woman like user</td>\n",
              "    </tr>\n",
              "    <tr>\n",
              "      <th>4</th>\n",
              "      <td>0</td>\n",
              "      <td>Me flirting- So tell me about your father...</td>\n",
              "      <td>me flirting- so tell me about your father...</td>\n",
              "      <td>Me flirting So tell me about your father</td>\n",
              "      <td>Me flirting So tell father</td>\n",
              "    </tr>\n",
              "  </tbody>\n",
              "</table>\n",
              "</div>"
            ],
            "text/plain": [
              "   label  ...                                       text_wo_stop\n",
              "0      1  ...  A woman fucked multiple times saying yo dick s...\n",
              "1      1  ...          user user real talk eyes gouged rapefugee\n",
              "2      1  ...               girlfriend lookin like groupie bitch\n",
              "3      0  ...                         Hysterical woman like user\n",
              "4      0  ...                         Me flirting So tell father\n",
              "\n",
              "[5 rows x 5 columns]"
            ]
          },
          "metadata": {
            "tags": []
          },
          "execution_count": 58
        }
      ]
    },
    {
      "cell_type": "code",
      "metadata": {
        "colab": {
          "base_uri": "https://localhost:8080/",
          "height": 246
        },
        "id": "Jpn9k4ZS4L2m",
        "outputId": "c99dc820-2c2c-4b4f-cfd0-558190ed5f0a"
      },
      "source": [
        "from nltk.stem.porter import PorterStemmer\r\n",
        "\r\n",
        "# we are using stemword function to stem our text data \r\n",
        "\r\n",
        "stemmer = PorterStemmer()\r\n",
        "def stem_words(text):\r\n",
        "    return \" \".join([stemmer.stem(word) for word in text.split()])\r\n",
        "\r\n",
        "df[\"text_stemmed\"] = df[\"tweet\"].apply(lambda text: stem_words(text))\r\n",
        "df.head()"
      ],
      "execution_count": 59,
      "outputs": [
        {
          "output_type": "execute_result",
          "data": {
            "text/html": [
              "<div>\n",
              "<style scoped>\n",
              "    .dataframe tbody tr th:only-of-type {\n",
              "        vertical-align: middle;\n",
              "    }\n",
              "\n",
              "    .dataframe tbody tr th {\n",
              "        vertical-align: top;\n",
              "    }\n",
              "\n",
              "    .dataframe thead th {\n",
              "        text-align: right;\n",
              "    }\n",
              "</style>\n",
              "<table border=\"1\" class=\"dataframe\">\n",
              "  <thead>\n",
              "    <tr style=\"text-align: right;\">\n",
              "      <th></th>\n",
              "      <th>label</th>\n",
              "      <th>tweet</th>\n",
              "      <th>tweet_lower</th>\n",
              "      <th>text_wo_punct</th>\n",
              "      <th>text_wo_stop</th>\n",
              "      <th>text_stemmed</th>\n",
              "    </tr>\n",
              "  </thead>\n",
              "  <tbody>\n",
              "    <tr>\n",
              "      <th>0</th>\n",
              "      <td>1</td>\n",
              "      <td>A woman who you fucked multiple times saying y...</td>\n",
              "      <td>a woman who you fucked multiple times saying y...</td>\n",
              "      <td>A woman who you fucked multiple times saying y...</td>\n",
              "      <td>A woman fucked multiple times saying yo dick s...</td>\n",
              "      <td>A woman who you fuck multipl time say yo dick ...</td>\n",
              "    </tr>\n",
              "    <tr>\n",
              "      <th>1</th>\n",
              "      <td>1</td>\n",
              "      <td>@user @user real talk do you have eyes or were...</td>\n",
              "      <td>@user @user real talk do you have eyes or were...</td>\n",
              "      <td>user user real talk do you have eyes or were t...</td>\n",
              "      <td>user user real talk eyes gouged rapefugee</td>\n",
              "      <td>@user @user real talk do you have eye or were ...</td>\n",
              "    </tr>\n",
              "    <tr>\n",
              "      <th>2</th>\n",
              "      <td>1</td>\n",
              "      <td>your girlfriend lookin at me like a groupie in...</td>\n",
              "      <td>your girlfriend lookin at me like a groupie in...</td>\n",
              "      <td>your girlfriend lookin at me like a groupie in...</td>\n",
              "      <td>girlfriend lookin like groupie bitch</td>\n",
              "      <td>your girlfriend lookin at me like a groupi in ...</td>\n",
              "    </tr>\n",
              "    <tr>\n",
              "      <th>3</th>\n",
              "      <td>0</td>\n",
              "      <td>Hysterical woman like @user</td>\n",
              "      <td>hysterical woman like @user</td>\n",
              "      <td>Hysterical woman like user</td>\n",
              "      <td>Hysterical woman like user</td>\n",
              "      <td>hyster woman like @user</td>\n",
              "    </tr>\n",
              "    <tr>\n",
              "      <th>4</th>\n",
              "      <td>0</td>\n",
              "      <td>Me flirting- So tell me about your father...</td>\n",
              "      <td>me flirting- so tell me about your father...</td>\n",
              "      <td>Me flirting So tell me about your father</td>\n",
              "      <td>Me flirting So tell father</td>\n",
              "      <td>Me flirting- So tell me about your father...</td>\n",
              "    </tr>\n",
              "  </tbody>\n",
              "</table>\n",
              "</div>"
            ],
            "text/plain": [
              "   label  ...                                       text_stemmed\n",
              "0      1  ...  A woman who you fuck multipl time say yo dick ...\n",
              "1      1  ...  @user @user real talk do you have eye or were ...\n",
              "2      1  ...  your girlfriend lookin at me like a groupi in ...\n",
              "3      0  ...                            hyster woman like @user\n",
              "4      0  ...       Me flirting- So tell me about your father...\n",
              "\n",
              "[5 rows x 6 columns]"
            ]
          },
          "metadata": {
            "tags": []
          },
          "execution_count": 59
        }
      ]
    },
    {
      "cell_type": "code",
      "metadata": {
        "colab": {
          "base_uri": "https://localhost:8080/",
          "height": 262
        },
        "id": "iiJs-lAG4xtY",
        "outputId": "64271963-a42d-4144-d149-18b33e649eea"
      },
      "source": [
        "from nltk.stem import WordNetLemmatizer\r\n",
        "\r\n",
        "#we are using lemmatizer\r\n",
        "lemmatizer = WordNetLemmatizer()\r\n",
        "def lemmatize_words(text):\r\n",
        "    return \" \".join([lemmatizer.lemmatize(word) for word in text.split()])\r\n",
        "\r\n",
        "df[\"text_lemmatized\"] = df[\"tweet\"].apply(lambda text: lemmatize_words(text))\r\n",
        "df.head()"
      ],
      "execution_count": 60,
      "outputs": [
        {
          "output_type": "execute_result",
          "data": {
            "text/html": [
              "<div>\n",
              "<style scoped>\n",
              "    .dataframe tbody tr th:only-of-type {\n",
              "        vertical-align: middle;\n",
              "    }\n",
              "\n",
              "    .dataframe tbody tr th {\n",
              "        vertical-align: top;\n",
              "    }\n",
              "\n",
              "    .dataframe thead th {\n",
              "        text-align: right;\n",
              "    }\n",
              "</style>\n",
              "<table border=\"1\" class=\"dataframe\">\n",
              "  <thead>\n",
              "    <tr style=\"text-align: right;\">\n",
              "      <th></th>\n",
              "      <th>label</th>\n",
              "      <th>tweet</th>\n",
              "      <th>tweet_lower</th>\n",
              "      <th>text_wo_punct</th>\n",
              "      <th>text_wo_stop</th>\n",
              "      <th>text_stemmed</th>\n",
              "      <th>text_lemmatized</th>\n",
              "    </tr>\n",
              "  </thead>\n",
              "  <tbody>\n",
              "    <tr>\n",
              "      <th>0</th>\n",
              "      <td>1</td>\n",
              "      <td>A woman who you fucked multiple times saying y...</td>\n",
              "      <td>a woman who you fucked multiple times saying y...</td>\n",
              "      <td>A woman who you fucked multiple times saying y...</td>\n",
              "      <td>A woman fucked multiple times saying yo dick s...</td>\n",
              "      <td>A woman who you fuck multipl time say yo dick ...</td>\n",
              "      <td>A woman who you fucked multiple time saying yo...</td>\n",
              "    </tr>\n",
              "    <tr>\n",
              "      <th>1</th>\n",
              "      <td>1</td>\n",
              "      <td>@user @user real talk do you have eyes or were...</td>\n",
              "      <td>@user @user real talk do you have eyes or were...</td>\n",
              "      <td>user user real talk do you have eyes or were t...</td>\n",
              "      <td>user user real talk eyes gouged rapefugee</td>\n",
              "      <td>@user @user real talk do you have eye or were ...</td>\n",
              "      <td>@user @user real talk do you have eye or were ...</td>\n",
              "    </tr>\n",
              "    <tr>\n",
              "      <th>2</th>\n",
              "      <td>1</td>\n",
              "      <td>your girlfriend lookin at me like a groupie in...</td>\n",
              "      <td>your girlfriend lookin at me like a groupie in...</td>\n",
              "      <td>your girlfriend lookin at me like a groupie in...</td>\n",
              "      <td>girlfriend lookin like groupie bitch</td>\n",
              "      <td>your girlfriend lookin at me like a groupi in ...</td>\n",
              "      <td>your girlfriend lookin at me like a groupie in...</td>\n",
              "    </tr>\n",
              "    <tr>\n",
              "      <th>3</th>\n",
              "      <td>0</td>\n",
              "      <td>Hysterical woman like @user</td>\n",
              "      <td>hysterical woman like @user</td>\n",
              "      <td>Hysterical woman like user</td>\n",
              "      <td>Hysterical woman like user</td>\n",
              "      <td>hyster woman like @user</td>\n",
              "      <td>Hysterical woman like @user</td>\n",
              "    </tr>\n",
              "    <tr>\n",
              "      <th>4</th>\n",
              "      <td>0</td>\n",
              "      <td>Me flirting- So tell me about your father...</td>\n",
              "      <td>me flirting- so tell me about your father...</td>\n",
              "      <td>Me flirting So tell me about your father</td>\n",
              "      <td>Me flirting So tell father</td>\n",
              "      <td>Me flirting- So tell me about your father...</td>\n",
              "      <td>Me flirting- So tell me about your father...</td>\n",
              "    </tr>\n",
              "  </tbody>\n",
              "</table>\n",
              "</div>"
            ],
            "text/plain": [
              "   label  ...                                    text_lemmatized\n",
              "0      1  ...  A woman who you fucked multiple time saying yo...\n",
              "1      1  ...  @user @user real talk do you have eye or were ...\n",
              "2      1  ...  your girlfriend lookin at me like a groupie in...\n",
              "3      0  ...                        Hysterical woman like @user\n",
              "4      0  ...       Me flirting- So tell me about your father...\n",
              "\n",
              "[5 rows x 7 columns]"
            ]
          },
          "metadata": {
            "tags": []
          },
          "execution_count": 60
        }
      ]
    },
    {
      "cell_type": "code",
      "metadata": {
        "id": "dC5bcT7p5bx8"
      },
      "source": [
        "#we are using remove_url, function to remove any URL in our tweet\r\n",
        "def remove_urls(text):\r\n",
        "    url_pattern = re.compile(r'https?://\\S+|www\\.\\S+')\r\n",
        "    return url_pattern.sub(r'', text)"
      ],
      "execution_count": 33,
      "outputs": []
    },
    {
      "cell_type": "code",
      "metadata": {
        "id": "PG9cvQLW5t2U"
      },
      "source": [
        "# we are importing the libraries and dependencies \r\n",
        "from sklearn.feature_extraction.text import TfidfVectorizer\r\n",
        "from sklearn.pipeline import Pipeline\r\n",
        "from sklearn.feature_extraction.text import CountVectorizer\r\n",
        "from sklearn.feature_extraction.text import TfidfTransformer"
      ],
      "execution_count": 62,
      "outputs": []
    },
    {
      "cell_type": "code",
      "metadata": {
        "id": "1fKF1s756J7a"
      },
      "source": [
        "#Support vector machine\r\n",
        "from sklearn.svm import SVC\r\n",
        "pipeline_svc = Pipeline([('vect', CountVectorizer()),('tfidf',  TfidfTransformer()),('n', SVC(C=1.0, kernel='linear',random_state=123))])"
      ],
      "execution_count": 63,
      "outputs": []
    },
    {
      "cell_type": "code",
      "metadata": {
        "id": "CtgdMEIlylBZ"
      },
      "source": [
        "#TRAINING THE MODEl\r\n",
        "from sklearn.model_selection import train_test_split\r\n",
        "X_train,X_test,y_train,y_test = train_test_split(train['tweet'],train['label'],random_state=0,test_size=0.2)\r\n"
      ],
      "execution_count": 64,
      "outputs": []
    }
  ]
}