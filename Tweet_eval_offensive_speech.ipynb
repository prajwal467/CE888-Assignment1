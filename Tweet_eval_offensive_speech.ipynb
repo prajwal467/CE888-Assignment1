{
  "nbformat": 4,
  "nbformat_minor": 0,
  "metadata": {
    "colab": {
      "name": "Tweet-eval offensive speech.ipynb",
      "provenance": [],
      "authorship_tag": "ABX9TyMQs1IwVQENZb5mw3LY1azN",
      "include_colab_link": true
    },
    "kernelspec": {
      "name": "python3",
      "display_name": "Python 3"
    }
  },
  "cells": [
    {
      "cell_type": "markdown",
      "metadata": {
        "id": "view-in-github",
        "colab_type": "text"
      },
      "source": [
        "<a href=\"https://colab.research.google.com/github/prajwal467/CE888-Assignment1/blob/main/Tweet_eval_offensive_speech.ipynb\" target=\"_parent\"><img src=\"https://colab.research.google.com/assets/colab-badge.svg\" alt=\"Open In Colab\"/></a>"
      ]
    },
    {
      "cell_type": "markdown",
      "metadata": {
        "id": "_tUc-X5HsIKR"
      },
      "source": [
        "Loading the necessary files required for our project"
      ]
    },
    {
      "cell_type": "code",
      "metadata": {
        "colab": {
          "resources": {
            "http://localhost:8080/nbextensions/google.colab/files.js": {
              "data": "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",
              "ok": true,
              "headers": [
                [
                  "content-type",
                  "application/javascript"
                ]
              ],
              "status": 200,
              "status_text": ""
            }
          },
          "base_uri": "https://localhost:8080/",
          "height": 274
        },
        "id": "xODvSJpBteJw",
        "outputId": "43ffca49-06c5-4c6b-c98e-4e2b27a37a40"
      },
      "source": [
        "from google.colab import files \r\n",
        "uploaded = files.upload()"
      ],
      "execution_count": 3,
      "outputs": [
        {
          "output_type": "display_data",
          "data": {
            "text/html": [
              "\n",
              "     <input type=\"file\" id=\"files-db7901ad-625b-494a-94c6-27c5246272d7\" name=\"files[]\" multiple disabled\n",
              "        style=\"border:none\" />\n",
              "     <output id=\"result-db7901ad-625b-494a-94c6-27c5246272d7\">\n",
              "      Upload widget is only available when the cell has been executed in the\n",
              "      current browser session. Please rerun this cell to enable.\n",
              "      </output>\n",
              "      <script src=\"/nbextensions/google.colab/files.js\"></script> "
            ],
            "text/plain": [
              "<IPython.core.display.HTML object>"
            ]
          },
          "metadata": {
            "tags": []
          }
        },
        {
          "output_type": "stream",
          "text": [
            "Saving mapping.txt to mapping.txt\n",
            "Saving test_labels.txt to test_labels.txt\n",
            "Saving test_text.txt to test_text.txt\n",
            "Saving train_labels.txt to train_labels.txt\n",
            "Saving train_text.txt to train_text.txt\n",
            "Saving val_labels.txt to val_labels.txt\n",
            "Saving val_text.txt to val_text.txt\n"
          ],
          "name": "stdout"
        }
      ]
    },
    {
      "cell_type": "code",
      "metadata": {
        "id": "StpH3NBBsO_1"
      },
      "source": [
        "#importing necessary libraries and dependencies"
      ],
      "execution_count": 22,
      "outputs": []
    },
    {
      "cell_type": "code",
      "metadata": {
        "id": "OTFizOyCMCMA",
        "colab": {
          "base_uri": "https://localhost:8080/"
        },
        "outputId": "1ef945a0-d7dd-4493-e79f-50e9a134dbc4"
      },
      "source": [
        "import pandas as pd\r\n",
        "import re\r\n",
        "import nltk\r\n",
        "nltk.download('stopwords')\r\n",
        "nltk.download('wordnet')\r\n",
        "nltk.download('averaged_perceptron_tagger')\r\n",
        "import spacy\r\n",
        "import string\r\n",
        "import numpy as np\r\n",
        "\r\n"
      ],
      "execution_count": 23,
      "outputs": [
        {
          "output_type": "stream",
          "text": [
            "[nltk_data] Downloading package stopwords to /root/nltk_data...\n",
            "[nltk_data]   Package stopwords is already up-to-date!\n",
            "[nltk_data] Downloading package wordnet to /root/nltk_data...\n",
            "[nltk_data]   Package wordnet is already up-to-date!\n",
            "[nltk_data] Downloading package averaged_perceptron_tagger to\n",
            "[nltk_data]     /root/nltk_data...\n",
            "[nltk_data]   Package averaged_perceptron_tagger is already up-to-\n",
            "[nltk_data]       date!\n"
          ],
          "name": "stdout"
        }
      ]
    },
    {
      "cell_type": "code",
      "metadata": {
        "id": "yu_AP0nGsVa4"
      },
      "source": [
        "#Loading the data and renaming the column tweet"
      ],
      "execution_count": null,
      "outputs": []
    },
    {
      "cell_type": "code",
      "metadata": {
        "colab": {
          "base_uri": "https://localhost:8080/",
          "height": 232
        },
        "id": "UVnThv-Eb9_I",
        "outputId": "d02f0763-918d-4f68-a0f5-66b8cab4e0a1"
      },
      "source": [
        "df = pd.read_csv('train_text.txt',error_bad_lines=False)\r\n",
        "df.columns = ['tweet']\r\n",
        "df.head()"
      ],
      "execution_count": 24,
      "outputs": [
        {
          "output_type": "stream",
          "text": [
            "b'Skipping line 6: expected 1 fields, saw 2\\nSkipping line 12: expected 1 fields, saw 3\\nSkipping line 18: expected 1 fields, saw 3\\nSkipping line 120: expected 1 fields, saw 4\\nSkipping line 125: expected 1 fields, saw 3\\nSkipping line 127: expected 1 fields, saw 3\\nSkipping line 135: expected 1 fields, saw 2\\nSkipping line 159: expected 1 fields, saw 3\\nSkipping line 177: expected 1 fields, saw 3\\nSkipping line 204: expected 1 fields, saw 3\\nSkipping line 220: expected 1 fields, saw 3\\nSkipping line 226: expected 1 fields, saw 2\\nSkipping line 247: expected 1 fields, saw 2\\nSkipping line 258: expected 1 fields, saw 2\\nSkipping line 291: expected 1 fields, saw 2\\nSkipping line 332: expected 1 fields, saw 2\\nSkipping line 349: expected 1 fields, saw 2\\nSkipping line 380: expected 1 fields, saw 2\\nSkipping line 395: expected 1 fields, saw 6\\nSkipping line 411: expected 1 fields, saw 4\\nSkipping line 455: expected 1 fields, saw 2\\nSkipping line 493: expected 1 fields, saw 2\\nSkipping line 544: expected 1 fields, saw 5\\nSkipping line 604: expected 1 fields, saw 4\\nSkipping line 620: expected 1 fields, saw 2\\nSkipping line 644: expected 1 fields, saw 2\\nSkipping line 712: expected 1 fields, saw 3\\nSkipping line 728: expected 1 fields, saw 5\\nSkipping line 748: expected 1 fields, saw 3\\nSkipping line 766: expected 1 fields, saw 2\\nSkipping line 777: expected 1 fields, saw 2\\nSkipping line 788: expected 1 fields, saw 2\\nSkipping line 814: expected 1 fields, saw 2\\nSkipping line 848: expected 1 fields, saw 2\\nSkipping line 885: expected 1 fields, saw 4\\nSkipping line 891: expected 1 fields, saw 2\\nSkipping line 894: expected 1 fields, saw 2\\nSkipping line 901: expected 1 fields, saw 4\\nSkipping line 914: expected 1 fields, saw 2\\nSkipping line 930: expected 1 fields, saw 2\\nSkipping line 962: expected 1 fields, saw 8\\nSkipping line 994: expected 1 fields, saw 2\\nSkipping line 1016: expected 1 fields, saw 2\\nSkipping line 1023: expected 1 fields, saw 3\\nSkipping line 1034: expected 1 fields, saw 5\\nSkipping line 1072: expected 1 fields, saw 2\\nSkipping line 1105: expected 1 fields, saw 4\\nSkipping line 1121: expected 1 fields, saw 2\\nSkipping line 1140: expected 1 fields, saw 3\\nSkipping line 1175: expected 1 fields, saw 3\\nSkipping line 1187: expected 1 fields, saw 4\\nSkipping line 1195: expected 1 fields, saw 3\\nSkipping line 1208: expected 1 fields, saw 4\\nSkipping line 1223: expected 1 fields, saw 3\\nSkipping line 1235: expected 1 fields, saw 3\\nSkipping line 1259: expected 1 fields, saw 3\\nSkipping line 1275: expected 1 fields, saw 3\\nSkipping line 1311: expected 1 fields, saw 2\\nSkipping line 1319: expected 1 fields, saw 3\\nSkipping line 1337: expected 1 fields, saw 3\\nSkipping line 1338: expected 1 fields, saw 2\\nSkipping line 1340: expected 1 fields, saw 2\\nSkipping line 1356: expected 1 fields, saw 2\\nSkipping line 1357: expected 1 fields, saw 2\\nSkipping line 1362: expected 1 fields, saw 3\\nSkipping line 1372: expected 1 fields, saw 3\\nSkipping line 1385: expected 1 fields, saw 2\\nSkipping line 1390: expected 1 fields, saw 3\\nSkipping line 1396: expected 1 fields, saw 4\\nSkipping line 1402: expected 1 fields, saw 5\\nSkipping line 1411: expected 1 fields, saw 4\\nSkipping line 1456: expected 1 fields, saw 4\\nSkipping line 1501: expected 1 fields, saw 4\\nSkipping line 1503: expected 1 fields, saw 2\\nSkipping line 1516: expected 1 fields, saw 3\\nSkipping line 1529: expected 1 fields, saw 9\\nSkipping line 1567: expected 1 fields, saw 5\\nSkipping line 1606: expected 1 fields, saw 3\\nSkipping line 1610: expected 1 fields, saw 2\\nSkipping line 1615: expected 1 fields, saw 2\\nSkipping line 1625: expected 1 fields, saw 5\\nSkipping line 1673: expected 1 fields, saw 9\\nSkipping line 1674: expected 1 fields, saw 2\\nSkipping line 1693: expected 1 fields, saw 3\\nSkipping line 1698: expected 1 fields, saw 2\\nSkipping line 1734: expected 1 fields, saw 2\\nSkipping line 1744: expected 1 fields, saw 2\\nSkipping line 1767: expected 1 fields, saw 6\\nSkipping line 1769: expected 1 fields, saw 2\\nSkipping line 1785: expected 1 fields, saw 4\\nSkipping line 1792: expected 1 fields, saw 6\\nSkipping line 1794: expected 1 fields, saw 2\\nSkipping line 1805: expected 1 fields, saw 2\\nSkipping line 1825: expected 1 fields, saw 7\\nSkipping line 1843: expected 1 fields, saw 2\\nSkipping line 1854: expected 1 fields, saw 4\\nSkipping line 1856: expected 1 fields, saw 4\\nSkipping line 1865: expected 1 fields, saw 4\\nSkipping line 1910: expected 1 fields, saw 2\\nSkipping line 1927: expected 1 fields, saw 2\\nSkipping line 1935: expected 1 fields, saw 4\\nSkipping line 1976: expected 1 fields, saw 2\\nSkipping line 2071: expected 1 fields, saw 2\\nSkipping line 2093: expected 1 fields, saw 2\\nSkipping line 2096: expected 1 fields, saw 2\\nSkipping line 2116: expected 1 fields, saw 2\\nSkipping line 2147: expected 1 fields, saw 3\\nSkipping line 2164: expected 1 fields, saw 6\\nSkipping line 2256: expected 1 fields, saw 3\\nSkipping line 2262: expected 1 fields, saw 2\\nSkipping line 2278: expected 1 fields, saw 3\\nSkipping line 2294: expected 1 fields, saw 2\\nSkipping line 2321: expected 1 fields, saw 7\\nSkipping line 2327: expected 1 fields, saw 2\\nSkipping line 2336: expected 1 fields, saw 3\\nSkipping line 2387: expected 1 fields, saw 4\\nSkipping line 2399: expected 1 fields, saw 2\\nSkipping line 2405: expected 1 fields, saw 2\\nSkipping line 2407: expected 1 fields, saw 2\\nSkipping line 2431: expected 1 fields, saw 3\\nSkipping line 2469: expected 1 fields, saw 2\\nSkipping line 2502: expected 1 fields, saw 2\\nSkipping line 2521: expected 1 fields, saw 3\\nSkipping line 2577: expected 1 fields, saw 3\\nSkipping line 2579: expected 1 fields, saw 2\\nSkipping line 2617: expected 1 fields, saw 2\\nSkipping line 2625: expected 1 fields, saw 4\\nSkipping line 2679: expected 1 fields, saw 3\\nSkipping line 2724: expected 1 fields, saw 2\\nSkipping line 2728: expected 1 fields, saw 3\\nSkipping line 2788: expected 1 fields, saw 2\\nSkipping line 2793: expected 1 fields, saw 2\\nSkipping line 2805: expected 1 fields, saw 6\\nSkipping line 2821: expected 1 fields, saw 2\\nSkipping line 2833: expected 1 fields, saw 2\\nSkipping line 2860: expected 1 fields, saw 2\\nSkipping line 2905: expected 1 fields, saw 5\\nSkipping line 2911: expected 1 fields, saw 3\\nSkipping line 2914: expected 1 fields, saw 4\\nSkipping line 2915: expected 1 fields, saw 9\\nSkipping line 2957: expected 1 fields, saw 4\\nSkipping line 2960: expected 1 fields, saw 3\\nSkipping line 2962: expected 1 fields, saw 2\\nSkipping line 2965: expected 1 fields, saw 3\\nSkipping line 3020: expected 1 fields, saw 2\\nSkipping line 3031: expected 1 fields, saw 2\\nSkipping line 3037: expected 1 fields, saw 2\\nSkipping line 3061: expected 1 fields, saw 3\\nSkipping line 3086: expected 1 fields, saw 3\\nSkipping line 3126: expected 1 fields, saw 3\\nSkipping line 3152: expected 1 fields, saw 2\\nSkipping line 3202: expected 1 fields, saw 3\\nSkipping line 3273: expected 1 fields, saw 7\\nSkipping line 3289: expected 1 fields, saw 4\\nSkipping line 3293: expected 1 fields, saw 3\\nSkipping line 3305: expected 1 fields, saw 4\\nSkipping line 3326: expected 1 fields, saw 5\\nSkipping line 3332: expected 1 fields, saw 3\\nSkipping line 3334: expected 1 fields, saw 2\\nSkipping line 3350: expected 1 fields, saw 3\\nSkipping line 3410: expected 1 fields, saw 3\\nSkipping line 3437: expected 1 fields, saw 7\\nSkipping line 3471: expected 1 fields, saw 7\\nSkipping line 3483: expected 1 fields, saw 3\\nSkipping line 3515: expected 1 fields, saw 4\\nSkipping line 3532: expected 1 fields, saw 5\\nSkipping line 3540: expected 1 fields, saw 4\\nSkipping line 3577: expected 1 fields, saw 2\\nSkipping line 3660: expected 1 fields, saw 2\\nSkipping line 3685: expected 1 fields, saw 2\\nSkipping line 3765: expected 1 fields, saw 2\\nSkipping line 3785: expected 1 fields, saw 5\\nSkipping line 3794: expected 1 fields, saw 4\\nSkipping line 3799: expected 1 fields, saw 4\\nSkipping line 3824: expected 1 fields, saw 3\\nSkipping line 3830: expected 1 fields, saw 2\\nSkipping line 3831: expected 1 fields, saw 4\\nSkipping line 3854: expected 1 fields, saw 3\\nSkipping line 3864: expected 1 fields, saw 3\\nSkipping line 3889: expected 1 fields, saw 2\\nSkipping line 3900: expected 1 fields, saw 4\\nSkipping line 3910: expected 1 fields, saw 4\\nSkipping line 3917: expected 1 fields, saw 3\\nSkipping line 3945: expected 1 fields, saw 2\\nSkipping line 3982: expected 1 fields, saw 5\\nSkipping line 3999: expected 1 fields, saw 2\\nSkipping line 4024: expected 1 fields, saw 4\\nSkipping line 4033: expected 1 fields, saw 4\\nSkipping line 4091: expected 1 fields, saw 2\\nSkipping line 4113: expected 1 fields, saw 3\\nSkipping line 4120: expected 1 fields, saw 6\\nSkipping line 4149: expected 1 fields, saw 2\\nSkipping line 4164: expected 1 fields, saw 3\\nSkipping line 4169: expected 1 fields, saw 4\\nSkipping line 4172: expected 1 fields, saw 5\\nSkipping line 4176: expected 1 fields, saw 2\\nSkipping line 4218: expected 1 fields, saw 2\\nSkipping line 4230: expected 1 fields, saw 2\\nSkipping line 4306: expected 1 fields, saw 3\\nSkipping line 4312: expected 1 fields, saw 3\\nSkipping line 4346: expected 1 fields, saw 2\\nSkipping line 4349: expected 1 fields, saw 2\\nSkipping line 4394: expected 1 fields, saw 3\\nSkipping line 4439: expected 1 fields, saw 5\\nSkipping line 4442: expected 1 fields, saw 2\\nSkipping line 4443: expected 1 fields, saw 3\\nSkipping line 4463: expected 1 fields, saw 3\\nSkipping line 4470: expected 1 fields, saw 2\\nSkipping line 4474: expected 1 fields, saw 4\\nSkipping line 4490: expected 1 fields, saw 3\\nSkipping line 4568: expected 1 fields, saw 6\\nSkipping line 4575: expected 1 fields, saw 5\\nSkipping line 4584: expected 1 fields, saw 2\\nSkipping line 4620: expected 1 fields, saw 2\\nSkipping line 4622: expected 1 fields, saw 4\\nSkipping line 4632: expected 1 fields, saw 2\\nSkipping line 4664: expected 1 fields, saw 5\\nSkipping line 4701: expected 1 fields, saw 4\\nSkipping line 4715: expected 1 fields, saw 5\\nSkipping line 4747: expected 1 fields, saw 2\\nSkipping line 4776: expected 1 fields, saw 7\\nSkipping line 4786: expected 1 fields, saw 3\\nSkipping line 4812: expected 1 fields, saw 2\\nSkipping line 4817: expected 1 fields, saw 2\\nSkipping line 4844: expected 1 fields, saw 2\\nSkipping line 4850: expected 1 fields, saw 2\\nSkipping line 4921: expected 1 fields, saw 2\\nSkipping line 4941: expected 1 fields, saw 2\\nSkipping line 4959: expected 1 fields, saw 3\\nSkipping line 5003: expected 1 fields, saw 2\\nSkipping line 5034: expected 1 fields, saw 2\\nSkipping line 5126: expected 1 fields, saw 2\\nSkipping line 5146: expected 1 fields, saw 4\\nSkipping line 5175: expected 1 fields, saw 3\\nSkipping line 5206: expected 1 fields, saw 5\\nSkipping line 5214: expected 1 fields, saw 3\\nSkipping line 5219: expected 1 fields, saw 2\\nSkipping line 5295: expected 1 fields, saw 2\\nSkipping line 5339: expected 1 fields, saw 2\\nSkipping line 5344: expected 1 fields, saw 4\\nSkipping line 5354: expected 1 fields, saw 2\\nSkipping line 5362: expected 1 fields, saw 3\\nSkipping line 5371: expected 1 fields, saw 2\\nSkipping line 5375: expected 1 fields, saw 3\\nSkipping line 5394: expected 1 fields, saw 3\\nSkipping line 5455: expected 1 fields, saw 2\\nSkipping line 5462: expected 1 fields, saw 2\\nSkipping line 5465: expected 1 fields, saw 4\\nSkipping line 5469: expected 1 fields, saw 2\\nSkipping line 5480: expected 1 fields, saw 2\\nSkipping line 5522: expected 1 fields, saw 5\\nSkipping line 5564: expected 1 fields, saw 4\\nSkipping line 5584: expected 1 fields, saw 2\\nSkipping line 5589: expected 1 fields, saw 2\\nSkipping line 5593: expected 1 fields, saw 2\\nSkipping line 5617: expected 1 fields, saw 5\\nSkipping line 5627: expected 1 fields, saw 3\\nSkipping line 5636: expected 1 fields, saw 2\\nSkipping line 5703: expected 1 fields, saw 2\\nSkipping line 5712: expected 1 fields, saw 2\\nSkipping line 5732: expected 1 fields, saw 3\\nSkipping line 5755: expected 1 fields, saw 2\\nSkipping line 5854: expected 1 fields, saw 2\\nSkipping line 5909: expected 1 fields, saw 3\\nSkipping line 5914: expected 1 fields, saw 2\\nSkipping line 5937: expected 1 fields, saw 2\\nSkipping line 5941: expected 1 fields, saw 2\\nSkipping line 5989: expected 1 fields, saw 3\\nSkipping line 6061: expected 1 fields, saw 2\\nSkipping line 6069: expected 1 fields, saw 4\\nSkipping line 6107: expected 1 fields, saw 3\\nSkipping line 6116: expected 1 fields, saw 2\\nSkipping line 6119: expected 1 fields, saw 2\\nSkipping line 6129: expected 1 fields, saw 3\\nSkipping line 6135: expected 1 fields, saw 4\\nSkipping line 6166: expected 1 fields, saw 5\\nSkipping line 6180: expected 1 fields, saw 2\\nSkipping line 6182: expected 1 fields, saw 4\\nSkipping line 6196: expected 1 fields, saw 3\\nSkipping line 6204: expected 1 fields, saw 2\\nSkipping line 6220: expected 1 fields, saw 4\\nSkipping line 6223: expected 1 fields, saw 3\\nSkipping line 6266: expected 1 fields, saw 2\\nSkipping line 6282: expected 1 fields, saw 2\\nSkipping line 6292: expected 1 fields, saw 2\\nSkipping line 6302: expected 1 fields, saw 3\\nSkipping line 6334: expected 1 fields, saw 3\\nSkipping line 6338: expected 1 fields, saw 5\\nSkipping line 6359: expected 1 fields, saw 3\\nSkipping line 6445: expected 1 fields, saw 2\\nSkipping line 6466: expected 1 fields, saw 2\\nSkipping line 6467: expected 1 fields, saw 2\\nSkipping line 6478: expected 1 fields, saw 3\\nSkipping line 6483: expected 1 fields, saw 2\\nSkipping line 6509: expected 1 fields, saw 5\\nSkipping line 6525: expected 1 fields, saw 3\\nSkipping line 6530: expected 1 fields, saw 4\\nSkipping line 6561: expected 1 fields, saw 6\\nSkipping line 6634: expected 1 fields, saw 2\\nSkipping line 6668: expected 1 fields, saw 2\\nSkipping line 6735: expected 1 fields, saw 3\\nSkipping line 6738: expected 1 fields, saw 2\\nSkipping line 6742: expected 1 fields, saw 2\\nSkipping line 6777: expected 1 fields, saw 5\\nSkipping line 6781: expected 1 fields, saw 3\\nSkipping line 6800: expected 1 fields, saw 3\\nSkipping line 6804: expected 1 fields, saw 4\\nSkipping line 6841: expected 1 fields, saw 2\\nSkipping line 6868: expected 1 fields, saw 3\\nSkipping line 6893: expected 1 fields, saw 3\\nSkipping line 6919: expected 1 fields, saw 3\\nSkipping line 6930: expected 1 fields, saw 2\\nSkipping line 6940: expected 1 fields, saw 2\\nSkipping line 6962: expected 1 fields, saw 2\\nSkipping line 6980: expected 1 fields, saw 5\\nSkipping line 7015: expected 1 fields, saw 3\\nSkipping line 7022: expected 1 fields, saw 3\\nSkipping line 7029: expected 1 fields, saw 2\\nSkipping line 7075: expected 1 fields, saw 3\\nSkipping line 7102: expected 1 fields, saw 4\\nSkipping line 7116: expected 1 fields, saw 3\\nSkipping line 7119: expected 1 fields, saw 4\\nSkipping line 7120: expected 1 fields, saw 2\\nSkipping line 7184: expected 1 fields, saw 2\\nSkipping line 7205: expected 1 fields, saw 3\\nSkipping line 7268: expected 1 fields, saw 4\\nSkipping line 7319: expected 1 fields, saw 3\\nSkipping line 7337: expected 1 fields, saw 3\\nSkipping line 7349: expected 1 fields, saw 5\\nSkipping line 7360: expected 1 fields, saw 4\\nSkipping line 7414: expected 1 fields, saw 4\\nSkipping line 7417: expected 1 fields, saw 2\\nSkipping line 7483: expected 1 fields, saw 2\\nSkipping line 7495: expected 1 fields, saw 2\\nSkipping line 7503: expected 1 fields, saw 4\\nSkipping line 7550: expected 1 fields, saw 2\\nSkipping line 7568: expected 1 fields, saw 2\\nSkipping line 7603: expected 1 fields, saw 5\\nSkipping line 7610: expected 1 fields, saw 2\\nSkipping line 7672: expected 1 fields, saw 3\\nSkipping line 7674: expected 1 fields, saw 3\\nSkipping line 7676: expected 1 fields, saw 2\\nSkipping line 7690: expected 1 fields, saw 3\\nSkipping line 7697: expected 1 fields, saw 6\\nSkipping line 7701: expected 1 fields, saw 2\\nSkipping line 7707: expected 1 fields, saw 2\\nSkipping line 7775: expected 1 fields, saw 2\\nSkipping line 7778: expected 1 fields, saw 4\\nSkipping line 7779: expected 1 fields, saw 5\\nSkipping line 7823: expected 1 fields, saw 2\\nSkipping line 7832: expected 1 fields, saw 2\\nSkipping line 7833: expected 1 fields, saw 4\\nSkipping line 7840: expected 1 fields, saw 5\\nSkipping line 7860: expected 1 fields, saw 3\\nSkipping line 7879: expected 1 fields, saw 2\\nSkipping line 7914: expected 1 fields, saw 2\\nSkipping line 7921: expected 1 fields, saw 2\\nSkipping line 7930: expected 1 fields, saw 4\\nSkipping line 7949: expected 1 fields, saw 2\\nSkipping line 7960: expected 1 fields, saw 3\\nSkipping line 7988: expected 1 fields, saw 3\\nSkipping line 8022: expected 1 fields, saw 2\\nSkipping line 8074: expected 1 fields, saw 5\\nSkipping line 8135: expected 1 fields, saw 2\\nSkipping line 8144: expected 1 fields, saw 3\\nSkipping line 8201: expected 1 fields, saw 4\\nSkipping line 8221: expected 1 fields, saw 2\\nSkipping line 8240: expected 1 fields, saw 2\\nSkipping line 8244: expected 1 fields, saw 3\\nSkipping line 8268: expected 1 fields, saw 3\\nSkipping line 8293: expected 1 fields, saw 2\\nSkipping line 8353: expected 1 fields, saw 3\\nSkipping line 8360: expected 1 fields, saw 4\\nSkipping line 8362: expected 1 fields, saw 2\\nSkipping line 8380: expected 1 fields, saw 2\\nSkipping line 8400: expected 1 fields, saw 2\\nSkipping line 8410: expected 1 fields, saw 2\\nSkipping line 8437: expected 1 fields, saw 3\\nSkipping line 8438: expected 1 fields, saw 3\\nSkipping line 8491: expected 1 fields, saw 3\\nSkipping line 8549: expected 1 fields, saw 2\\nSkipping line 8558: expected 1 fields, saw 3\\nSkipping line 8564: expected 1 fields, saw 2\\nSkipping line 8568: expected 1 fields, saw 3\\nSkipping line 8618: expected 1 fields, saw 2\\nSkipping line 8624: expected 1 fields, saw 2\\nSkipping line 8631: expected 1 fields, saw 3\\nSkipping line 8681: expected 1 fields, saw 5\\nSkipping line 8697: expected 1 fields, saw 3\\nSkipping line 8701: expected 1 fields, saw 5\\nSkipping line 8740: expected 1 fields, saw 3\\nSkipping line 8742: expected 1 fields, saw 2\\nSkipping line 8774: expected 1 fields, saw 3\\nSkipping line 8806: expected 1 fields, saw 2\\nSkipping line 8821: expected 1 fields, saw 5\\nSkipping line 8824: expected 1 fields, saw 2\\nSkipping line 8841: expected 1 fields, saw 3\\nSkipping line 8859: expected 1 fields, saw 2\\nSkipping line 8880: expected 1 fields, saw 3\\nSkipping line 8882: expected 1 fields, saw 5\\nSkipping line 8899: expected 1 fields, saw 2\\nSkipping line 8901: expected 1 fields, saw 5\\nSkipping line 8913: expected 1 fields, saw 2\\nSkipping line 8931: expected 1 fields, saw 2\\nSkipping line 8997: expected 1 fields, saw 2\\nSkipping line 9037: expected 1 fields, saw 4\\nSkipping line 9046: expected 1 fields, saw 4\\nSkipping line 9083: expected 1 fields, saw 4\\nSkipping line 9104: expected 1 fields, saw 3\\nSkipping line 9121: expected 1 fields, saw 4\\nSkipping line 9140: expected 1 fields, saw 3\\nSkipping line 9149: expected 1 fields, saw 2\\nSkipping line 9166: expected 1 fields, saw 2\\nSkipping line 9173: expected 1 fields, saw 3\\nSkipping line 9189: expected 1 fields, saw 4\\nSkipping line 9194: expected 1 fields, saw 2\\nSkipping line 9205: expected 1 fields, saw 2\\nSkipping line 9215: expected 1 fields, saw 3\\nSkipping line 9229: expected 1 fields, saw 3\\nSkipping line 9271: expected 1 fields, saw 2\\nSkipping line 9286: expected 1 fields, saw 3\\nSkipping line 9299: expected 1 fields, saw 3\\nSkipping line 9328: expected 1 fields, saw 2\\nSkipping line 9356: expected 1 fields, saw 2\\nSkipping line 9367: expected 1 fields, saw 4\\nSkipping line 9377: expected 1 fields, saw 2\\nSkipping line 9381: expected 1 fields, saw 3\\nSkipping line 9406: expected 1 fields, saw 2\\nSkipping line 9412: expected 1 fields, saw 3\\nSkipping line 9437: expected 1 fields, saw 2\\nSkipping line 9464: expected 1 fields, saw 2\\nSkipping line 9472: expected 1 fields, saw 2\\nSkipping line 9562: expected 1 fields, saw 2\\nSkipping line 9575: expected 1 fields, saw 6\\nSkipping line 9603: expected 1 fields, saw 5\\nSkipping line 9614: expected 1 fields, saw 7\\nSkipping line 9616: expected 1 fields, saw 2\\nSkipping line 9637: expected 1 fields, saw 3\\nSkipping line 9653: expected 1 fields, saw 4\\nSkipping line 9660: expected 1 fields, saw 2\\nSkipping line 9667: expected 1 fields, saw 4\\nSkipping line 9676: expected 1 fields, saw 5\\nSkipping line 9681: expected 1 fields, saw 2\\nSkipping line 9742: expected 1 fields, saw 3\\nSkipping line 9751: expected 1 fields, saw 7\\nSkipping line 9752: expected 1 fields, saw 8\\nSkipping line 9765: expected 1 fields, saw 2\\nSkipping line 9771: expected 1 fields, saw 4\\nSkipping line 9798: expected 1 fields, saw 6\\nSkipping line 9832: expected 1 fields, saw 2\\nSkipping line 9855: expected 1 fields, saw 3\\nSkipping line 9888: expected 1 fields, saw 5\\nSkipping line 9904: expected 1 fields, saw 3\\nSkipping line 9918: expected 1 fields, saw 2\\nSkipping line 9925: expected 1 fields, saw 3\\nSkipping line 9976: expected 1 fields, saw 2\\nSkipping line 9978: expected 1 fields, saw 2\\nSkipping line 9980: expected 1 fields, saw 2\\nSkipping line 10019: expected 1 fields, saw 2\\nSkipping line 10053: expected 1 fields, saw 2\\nSkipping line 10056: expected 1 fields, saw 5\\nSkipping line 10083: expected 1 fields, saw 5\\nSkipping line 10106: expected 1 fields, saw 3\\nSkipping line 10128: expected 1 fields, saw 5\\nSkipping line 10140: expected 1 fields, saw 2\\nSkipping line 10189: expected 1 fields, saw 2\\nSkipping line 10227: expected 1 fields, saw 3\\nSkipping line 10230: expected 1 fields, saw 3\\nSkipping line 10238: expected 1 fields, saw 2\\nSkipping line 10266: expected 1 fields, saw 2\\nSkipping line 10310: expected 1 fields, saw 2\\nSkipping line 10402: expected 1 fields, saw 2\\nSkipping line 10424: expected 1 fields, saw 2\\nSkipping line 10425: expected 1 fields, saw 3\\nSkipping line 10438: expected 1 fields, saw 2\\nSkipping line 10453: expected 1 fields, saw 4\\nSkipping line 10504: expected 1 fields, saw 3\\nSkipping line 10518: expected 1 fields, saw 2\\nSkipping line 10572: expected 1 fields, saw 3\\nSkipping line 10596: expected 1 fields, saw 2\\nSkipping line 10600: expected 1 fields, saw 4\\nSkipping line 10614: expected 1 fields, saw 3\\nSkipping line 10621: expected 1 fields, saw 4\\nSkipping line 10652: expected 1 fields, saw 4\\nSkipping line 10667: expected 1 fields, saw 2\\nSkipping line 10708: expected 1 fields, saw 4\\nSkipping line 10745: expected 1 fields, saw 3\\nSkipping line 10760: expected 1 fields, saw 2\\nSkipping line 10774: expected 1 fields, saw 2\\nSkipping line 10815: expected 1 fields, saw 3\\nSkipping line 10822: expected 1 fields, saw 5\\nSkipping line 10863: expected 1 fields, saw 2\\nSkipping line 10891: expected 1 fields, saw 2\\nSkipping line 10897: expected 1 fields, saw 3\\nSkipping line 10905: expected 1 fields, saw 4\\nSkipping line 10912: expected 1 fields, saw 2\\nSkipping line 11009: expected 1 fields, saw 4\\nSkipping line 11021: expected 1 fields, saw 2\\nSkipping line 11031: expected 1 fields, saw 4\\nSkipping line 11037: expected 1 fields, saw 3\\nSkipping line 11042: expected 1 fields, saw 4\\nSkipping line 11046: expected 1 fields, saw 4\\nSkipping line 11139: expected 1 fields, saw 3\\nSkipping line 11195: expected 1 fields, saw 6\\nSkipping line 11202: expected 1 fields, saw 2\\nSkipping line 11214: expected 1 fields, saw 2\\nSkipping line 11260: expected 1 fields, saw 2\\nSkipping line 11284: expected 1 fields, saw 3\\nSkipping line 11324: expected 1 fields, saw 3\\nSkipping line 11332: expected 1 fields, saw 3\\nSkipping line 11347: expected 1 fields, saw 3\\nSkipping line 11349: expected 1 fields, saw 3\\nSkipping line 11554: expected 1 fields, saw 2\\nSkipping line 11562: expected 1 fields, saw 2\\nSkipping line 11569: expected 1 fields, saw 3\\nSkipping line 11641: expected 1 fields, saw 2\\nSkipping line 11644: expected 1 fields, saw 3\\nSkipping line 11686: expected 1 fields, saw 3\\nSkipping line 11715: expected 1 fields, saw 2\\nSkipping line 11724: expected 1 fields, saw 2\\nSkipping line 11726: expected 1 fields, saw 3\\nSkipping line 11745: expected 1 fields, saw 2\\nSkipping line 11753: expected 1 fields, saw 3\\nSkipping line 11786: expected 1 fields, saw 6\\nSkipping line 11788: expected 1 fields, saw 2\\nSkipping line 11795: expected 1 fields, saw 2\\nSkipping line 11802: expected 1 fields, saw 3\\nSkipping line 11809: expected 1 fields, saw 4\\nSkipping line 11814: expected 1 fields, saw 2\\nSkipping line 11847: expected 1 fields, saw 3\\nSkipping line 11849: expected 1 fields, saw 4\\nSkipping line 11887: expected 1 fields, saw 3\\nSkipping line 11904: expected 1 fields, saw 2\\nSkipping line 11909: expected 1 fields, saw 3\\n'\n"
          ],
          "name": "stderr"
        },
        {
          "output_type": "execute_result",
          "data": {
            "text/html": [
              "<div>\n",
              "<style scoped>\n",
              "    .dataframe tbody tr th:only-of-type {\n",
              "        vertical-align: middle;\n",
              "    }\n",
              "\n",
              "    .dataframe tbody tr th {\n",
              "        vertical-align: top;\n",
              "    }\n",
              "\n",
              "    .dataframe thead th {\n",
              "        text-align: right;\n",
              "    }\n",
              "</style>\n",
              "<table border=\"1\" class=\"dataframe\">\n",
              "  <thead>\n",
              "    <tr style=\"text-align: right;\">\n",
              "      <th></th>\n",
              "      <th>tweet</th>\n",
              "    </tr>\n",
              "  </thead>\n",
              "  <tbody>\n",
              "    <tr>\n",
              "      <th>0</th>\n",
              "      <td>@user Eight years the republicans denied obama...</td>\n",
              "    </tr>\n",
              "    <tr>\n",
              "      <th>1</th>\n",
              "      <td>@user Get him some line help. He is gonna be j...</td>\n",
              "    </tr>\n",
              "    <tr>\n",
              "      <th>2</th>\n",
              "      <td>@user @user She is great. Hi Fiona!</td>\n",
              "    </tr>\n",
              "    <tr>\n",
              "      <th>3</th>\n",
              "      <td>@user She has become a parody unto herself? Sh...</td>\n",
              "    </tr>\n",
              "    <tr>\n",
              "      <th>4</th>\n",
              "      <td>@user Your looking more like a plant #maga #wa...</td>\n",
              "    </tr>\n",
              "  </tbody>\n",
              "</table>\n",
              "</div>"
            ],
            "text/plain": [
              "                                               tweet\n",
              "0  @user Eight years the republicans denied obama...\n",
              "1  @user Get him some line help. He is gonna be j...\n",
              "2               @user @user She is great. Hi Fiona! \n",
              "3  @user She has become a parody unto herself? Sh...\n",
              "4  @user Your looking more like a plant #maga #wa..."
            ]
          },
          "metadata": {
            "tags": []
          },
          "execution_count": 24
        }
      ]
    },
    {
      "cell_type": "code",
      "metadata": {
        "id": "nooCQEt2sjHR"
      },
      "source": [
        "#loading the label data and updating the column name"
      ],
      "execution_count": null,
      "outputs": []
    },
    {
      "cell_type": "code",
      "metadata": {
        "id": "8CqodbrlchZw"
      },
      "source": [
        "train.lbl = pd.read_csv('train_labels.txt')\r\n",
        "train.lbl.columns = ['label']"
      ],
      "execution_count": 25,
      "outputs": []
    },
    {
      "cell_type": "code",
      "metadata": {
        "id": "lFNvOYi0ssbk"
      },
      "source": [
        "#using the concat function to combine the train and label data"
      ],
      "execution_count": null,
      "outputs": []
    },
    {
      "cell_type": "code",
      "metadata": {
        "colab": {
          "base_uri": "https://localhost:8080/",
          "height": 402
        },
        "id": "yYGQZB5fc30U",
        "outputId": "c323873b-9253-40d4-a256-32a3d16dd40c"
      },
      "source": [
        "df = pd.concat([train,train.lbl],axis=1)\r\n",
        "df"
      ],
      "execution_count": 26,
      "outputs": [
        {
          "output_type": "execute_result",
          "data": {
            "text/html": [
              "<div>\n",
              "<style scoped>\n",
              "    .dataframe tbody tr th:only-of-type {\n",
              "        vertical-align: middle;\n",
              "    }\n",
              "\n",
              "    .dataframe tbody tr th {\n",
              "        vertical-align: top;\n",
              "    }\n",
              "\n",
              "    .dataframe thead th {\n",
              "        text-align: right;\n",
              "    }\n",
              "</style>\n",
              "<table border=\"1\" class=\"dataframe\">\n",
              "  <thead>\n",
              "    <tr style=\"text-align: right;\">\n",
              "      <th></th>\n",
              "      <th>tweet</th>\n",
              "      <th>label</th>\n",
              "    </tr>\n",
              "  </thead>\n",
              "  <tbody>\n",
              "    <tr>\n",
              "      <th>0</th>\n",
              "      <td>@user Eight years the republicans denied obama...</td>\n",
              "      <td>1</td>\n",
              "    </tr>\n",
              "    <tr>\n",
              "      <th>1</th>\n",
              "      <td>@user Get him some line help. He is gonna be j...</td>\n",
              "      <td>0</td>\n",
              "    </tr>\n",
              "    <tr>\n",
              "      <th>2</th>\n",
              "      <td>@user @user She is great. Hi Fiona!</td>\n",
              "      <td>0</td>\n",
              "    </tr>\n",
              "    <tr>\n",
              "      <th>3</th>\n",
              "      <td>@user She has become a parody unto herself? Sh...</td>\n",
              "      <td>1</td>\n",
              "    </tr>\n",
              "    <tr>\n",
              "      <th>4</th>\n",
              "      <td>@user Your looking more like a plant #maga #wa...</td>\n",
              "      <td>0</td>\n",
              "    </tr>\n",
              "    <tr>\n",
              "      <th>...</th>\n",
              "      <td>...</td>\n",
              "      <td>...</td>\n",
              "    </tr>\n",
              "    <tr>\n",
              "      <th>11910</th>\n",
              "      <td>NaN</td>\n",
              "      <td>1</td>\n",
              "    </tr>\n",
              "    <tr>\n",
              "      <th>11911</th>\n",
              "      <td>NaN</td>\n",
              "      <td>0</td>\n",
              "    </tr>\n",
              "    <tr>\n",
              "      <th>11912</th>\n",
              "      <td>NaN</td>\n",
              "      <td>0</td>\n",
              "    </tr>\n",
              "    <tr>\n",
              "      <th>11913</th>\n",
              "      <td>NaN</td>\n",
              "      <td>0</td>\n",
              "    </tr>\n",
              "    <tr>\n",
              "      <th>11914</th>\n",
              "      <td>NaN</td>\n",
              "      <td>1</td>\n",
              "    </tr>\n",
              "  </tbody>\n",
              "</table>\n",
              "<p>11915 rows × 2 columns</p>\n",
              "</div>"
            ],
            "text/plain": [
              "                                                   tweet  label\n",
              "0      @user Eight years the republicans denied obama...      1\n",
              "1      @user Get him some line help. He is gonna be j...      0\n",
              "2                   @user @user She is great. Hi Fiona!       0\n",
              "3      @user She has become a parody unto herself? Sh...      1\n",
              "4      @user Your looking more like a plant #maga #wa...      0\n",
              "...                                                  ...    ...\n",
              "11910                                                NaN      1\n",
              "11911                                                NaN      0\n",
              "11912                                                NaN      0\n",
              "11913                                                NaN      0\n",
              "11914                                                NaN      1\n",
              "\n",
              "[11915 rows x 2 columns]"
            ]
          },
          "metadata": {
            "tags": []
          },
          "execution_count": 26
        }
      ]
    },
    {
      "cell_type": "code",
      "metadata": {
        "colab": {
          "base_uri": "https://localhost:8080/"
        },
        "id": "HC8XhY0kdIH1",
        "outputId": "1002d469-44b1-4eb2-b054-09637f1fa43f"
      },
      "source": [
        "#checking for null values\r\n",
        "df.isnull().sum()"
      ],
      "execution_count": 27,
      "outputs": [
        {
          "output_type": "execute_result",
          "data": {
            "text/plain": [
              "tweet    534\n",
              "label      0\n",
              "dtype: int64"
            ]
          },
          "metadata": {
            "tags": []
          },
          "execution_count": 27
        }
      ]
    },
    {
      "cell_type": "code",
      "metadata": {
        "id": "fMC65J_adNPs"
      },
      "source": [
        "#dropping the null values\r\n",
        "df = df.dropna()"
      ],
      "execution_count": 10,
      "outputs": []
    },
    {
      "cell_type": "code",
      "metadata": {
        "colab": {
          "base_uri": "https://localhost:8080/"
        },
        "id": "6itfOm5cdUOw",
        "outputId": "17bf6d55-bcca-4764-de20-12a899a62641"
      },
      "source": [
        "df.isnull().sum()"
      ],
      "execution_count": 11,
      "outputs": [
        {
          "output_type": "execute_result",
          "data": {
            "text/plain": [
              "tweet    0\n",
              "label    0\n",
              "dtype: int64"
            ]
          },
          "metadata": {
            "tags": []
          },
          "execution_count": 11
        }
      ]
    },
    {
      "cell_type": "code",
      "metadata": {
        "colab": {
          "base_uri": "https://localhost:8080/",
          "height": 232
        },
        "id": "-xaNMPwRddaQ",
        "outputId": "3f32d21b-95c6-4625-e6db-af6aa725f0d8"
      },
      "source": [
        "#checking and loading the test data and renaming the column\r\n",
        "test = pd.read_csv('test_text.txt',error_bad_lines=False)\r\n",
        "test.columns = ['tweet']\r\n",
        "test.head()"
      ],
      "execution_count": 28,
      "outputs": [
        {
          "output_type": "stream",
          "text": [
            "b'Skipping line 3: expected 1 fields, saw 5\\nSkipping line 5: expected 1 fields, saw 5\\nSkipping line 8: expected 1 fields, saw 3\\nSkipping line 9: expected 1 fields, saw 3\\nSkipping line 11: expected 1 fields, saw 3\\nSkipping line 13: expected 1 fields, saw 3\\nSkipping line 20: expected 1 fields, saw 3\\nSkipping line 26: expected 1 fields, saw 2\\nSkipping line 29: expected 1 fields, saw 6\\nSkipping line 30: expected 1 fields, saw 2\\nSkipping line 35: expected 1 fields, saw 2\\nSkipping line 37: expected 1 fields, saw 3\\nSkipping line 39: expected 1 fields, saw 2\\nSkipping line 42: expected 1 fields, saw 2\\nSkipping line 44: expected 1 fields, saw 2\\nSkipping line 46: expected 1 fields, saw 2\\nSkipping line 49: expected 1 fields, saw 7\\nSkipping line 50: expected 1 fields, saw 2\\nSkipping line 53: expected 1 fields, saw 2\\nSkipping line 54: expected 1 fields, saw 2\\nSkipping line 56: expected 1 fields, saw 3\\nSkipping line 57: expected 1 fields, saw 2\\nSkipping line 58: expected 1 fields, saw 2\\nSkipping line 61: expected 1 fields, saw 18\\nSkipping line 63: expected 1 fields, saw 5\\nSkipping line 68: expected 1 fields, saw 3\\nSkipping line 73: expected 1 fields, saw 2\\nSkipping line 76: expected 1 fields, saw 4\\nSkipping line 79: expected 1 fields, saw 3\\nSkipping line 80: expected 1 fields, saw 2\\nSkipping line 81: expected 1 fields, saw 5\\nSkipping line 82: expected 1 fields, saw 2\\nSkipping line 85: expected 1 fields, saw 2\\nSkipping line 87: expected 1 fields, saw 2\\nSkipping line 93: expected 1 fields, saw 2\\nSkipping line 97: expected 1 fields, saw 2\\nSkipping line 100: expected 1 fields, saw 3\\nSkipping line 101: expected 1 fields, saw 4\\nSkipping line 109: expected 1 fields, saw 2\\nSkipping line 110: expected 1 fields, saw 2\\nSkipping line 126: expected 1 fields, saw 2\\nSkipping line 127: expected 1 fields, saw 2\\nSkipping line 128: expected 1 fields, saw 2\\nSkipping line 129: expected 1 fields, saw 4\\nSkipping line 138: expected 1 fields, saw 2\\nSkipping line 142: expected 1 fields, saw 4\\nSkipping line 143: expected 1 fields, saw 4\\nSkipping line 147: expected 1 fields, saw 3\\nSkipping line 148: expected 1 fields, saw 3\\nSkipping line 154: expected 1 fields, saw 2\\nSkipping line 155: expected 1 fields, saw 2\\nSkipping line 156: expected 1 fields, saw 3\\nSkipping line 158: expected 1 fields, saw 2\\nSkipping line 165: expected 1 fields, saw 2\\nSkipping line 168: expected 1 fields, saw 2\\nSkipping line 174: expected 1 fields, saw 2\\nSkipping line 179: expected 1 fields, saw 2\\nSkipping line 180: expected 1 fields, saw 2\\nSkipping line 181: expected 1 fields, saw 3\\nSkipping line 182: expected 1 fields, saw 3\\nSkipping line 189: expected 1 fields, saw 3\\nSkipping line 198: expected 1 fields, saw 2\\nSkipping line 201: expected 1 fields, saw 3\\nSkipping line 204: expected 1 fields, saw 2\\nSkipping line 207: expected 1 fields, saw 4\\nSkipping line 211: expected 1 fields, saw 3\\nSkipping line 220: expected 1 fields, saw 2\\nSkipping line 224: expected 1 fields, saw 2\\nSkipping line 226: expected 1 fields, saw 3\\nSkipping line 228: expected 1 fields, saw 2\\nSkipping line 229: expected 1 fields, saw 2\\nSkipping line 235: expected 1 fields, saw 3\\nSkipping line 238: expected 1 fields, saw 4\\nSkipping line 242: expected 1 fields, saw 2\\nSkipping line 249: expected 1 fields, saw 3\\nSkipping line 252: expected 1 fields, saw 2\\nSkipping line 253: expected 1 fields, saw 5\\nSkipping line 257: expected 1 fields, saw 3\\nSkipping line 260: expected 1 fields, saw 2\\nSkipping line 261: expected 1 fields, saw 3\\nSkipping line 262: expected 1 fields, saw 3\\nSkipping line 263: expected 1 fields, saw 3\\nSkipping line 267: expected 1 fields, saw 2\\nSkipping line 274: expected 1 fields, saw 2\\nSkipping line 278: expected 1 fields, saw 4\\nSkipping line 284: expected 1 fields, saw 3\\nSkipping line 286: expected 1 fields, saw 2\\nSkipping line 288: expected 1 fields, saw 2\\nSkipping line 289: expected 1 fields, saw 2\\nSkipping line 290: expected 1 fields, saw 3\\nSkipping line 291: expected 1 fields, saw 3\\nSkipping line 293: expected 1 fields, saw 3\\nSkipping line 296: expected 1 fields, saw 3\\nSkipping line 304: expected 1 fields, saw 5\\nSkipping line 307: expected 1 fields, saw 3\\nSkipping line 309: expected 1 fields, saw 6\\nSkipping line 311: expected 1 fields, saw 2\\nSkipping line 317: expected 1 fields, saw 3\\nSkipping line 318: expected 1 fields, saw 2\\nSkipping line 319: expected 1 fields, saw 2\\nSkipping line 322: expected 1 fields, saw 2\\nSkipping line 326: expected 1 fields, saw 2\\nSkipping line 327: expected 1 fields, saw 6\\nSkipping line 328: expected 1 fields, saw 2\\nSkipping line 329: expected 1 fields, saw 2\\nSkipping line 333: expected 1 fields, saw 2\\nSkipping line 340: expected 1 fields, saw 3\\nSkipping line 342: expected 1 fields, saw 2\\nSkipping line 343: expected 1 fields, saw 3\\nSkipping line 347: expected 1 fields, saw 3\\nSkipping line 348: expected 1 fields, saw 4\\nSkipping line 349: expected 1 fields, saw 2\\nSkipping line 351: expected 1 fields, saw 3\\nSkipping line 352: expected 1 fields, saw 5\\nSkipping line 356: expected 1 fields, saw 3\\nSkipping line 360: expected 1 fields, saw 2\\nSkipping line 362: expected 1 fields, saw 2\\nSkipping line 365: expected 1 fields, saw 3\\nSkipping line 366: expected 1 fields, saw 5\\nSkipping line 367: expected 1 fields, saw 2\\nSkipping line 368: expected 1 fields, saw 2\\nSkipping line 371: expected 1 fields, saw 2\\nSkipping line 373: expected 1 fields, saw 2\\nSkipping line 377: expected 1 fields, saw 3\\nSkipping line 382: expected 1 fields, saw 3\\nSkipping line 383: expected 1 fields, saw 2\\nSkipping line 384: expected 1 fields, saw 2\\nSkipping line 390: expected 1 fields, saw 3\\nSkipping line 391: expected 1 fields, saw 2\\nSkipping line 392: expected 1 fields, saw 4\\nSkipping line 393: expected 1 fields, saw 2\\nSkipping line 395: expected 1 fields, saw 2\\nSkipping line 397: expected 1 fields, saw 2\\nSkipping line 398: expected 1 fields, saw 4\\nSkipping line 399: expected 1 fields, saw 2\\nSkipping line 405: expected 1 fields, saw 5\\nSkipping line 410: expected 1 fields, saw 2\\nSkipping line 414: expected 1 fields, saw 9\\nSkipping line 425: expected 1 fields, saw 3\\nSkipping line 426: expected 1 fields, saw 4\\nSkipping line 427: expected 1 fields, saw 4\\nSkipping line 428: expected 1 fields, saw 2\\nSkipping line 430: expected 1 fields, saw 3\\nSkipping line 431: expected 1 fields, saw 5\\nSkipping line 433: expected 1 fields, saw 2\\nSkipping line 434: expected 1 fields, saw 3\\nSkipping line 440: expected 1 fields, saw 2\\nSkipping line 449: expected 1 fields, saw 3\\nSkipping line 450: expected 1 fields, saw 2\\nSkipping line 452: expected 1 fields, saw 4\\nSkipping line 458: expected 1 fields, saw 3\\nSkipping line 459: expected 1 fields, saw 4\\nSkipping line 469: expected 1 fields, saw 2\\nSkipping line 482: expected 1 fields, saw 3\\nSkipping line 491: expected 1 fields, saw 2\\nSkipping line 495: expected 1 fields, saw 3\\nSkipping line 496: expected 1 fields, saw 3\\nSkipping line 498: expected 1 fields, saw 4\\nSkipping line 499: expected 1 fields, saw 2\\nSkipping line 500: expected 1 fields, saw 2\\nSkipping line 501: expected 1 fields, saw 3\\nSkipping line 502: expected 1 fields, saw 2\\nSkipping line 503: expected 1 fields, saw 4\\nSkipping line 504: expected 1 fields, saw 2\\nSkipping line 508: expected 1 fields, saw 4\\nSkipping line 509: expected 1 fields, saw 6\\nSkipping line 510: expected 1 fields, saw 2\\nSkipping line 513: expected 1 fields, saw 2\\nSkipping line 521: expected 1 fields, saw 2\\nSkipping line 534: expected 1 fields, saw 2\\nSkipping line 543: expected 1 fields, saw 4\\nSkipping line 546: expected 1 fields, saw 2\\nSkipping line 547: expected 1 fields, saw 2\\nSkipping line 551: expected 1 fields, saw 2\\nSkipping line 554: expected 1 fields, saw 4\\nSkipping line 557: expected 1 fields, saw 2\\nSkipping line 558: expected 1 fields, saw 2\\nSkipping line 561: expected 1 fields, saw 4\\nSkipping line 563: expected 1 fields, saw 3\\nSkipping line 565: expected 1 fields, saw 4\\nSkipping line 570: expected 1 fields, saw 4\\nSkipping line 575: expected 1 fields, saw 2\\nSkipping line 578: expected 1 fields, saw 3\\nSkipping line 585: expected 1 fields, saw 2\\nSkipping line 588: expected 1 fields, saw 2\\nSkipping line 590: expected 1 fields, saw 2\\nSkipping line 594: expected 1 fields, saw 2\\nSkipping line 597: expected 1 fields, saw 2\\nSkipping line 602: expected 1 fields, saw 2\\nSkipping line 603: expected 1 fields, saw 4\\nSkipping line 604: expected 1 fields, saw 3\\nSkipping line 606: expected 1 fields, saw 7\\nSkipping line 608: expected 1 fields, saw 3\\nSkipping line 610: expected 1 fields, saw 2\\nSkipping line 617: expected 1 fields, saw 2\\nSkipping line 618: expected 1 fields, saw 2\\nSkipping line 619: expected 1 fields, saw 3\\nSkipping line 620: expected 1 fields, saw 3\\nSkipping line 622: expected 1 fields, saw 3\\nSkipping line 628: expected 1 fields, saw 4\\nSkipping line 631: expected 1 fields, saw 4\\nSkipping line 645: expected 1 fields, saw 2\\nSkipping line 647: expected 1 fields, saw 5\\nSkipping line 653: expected 1 fields, saw 2\\nSkipping line 662: expected 1 fields, saw 2\\nSkipping line 663: expected 1 fields, saw 2\\nSkipping line 664: expected 1 fields, saw 2\\nSkipping line 665: expected 1 fields, saw 3\\nSkipping line 667: expected 1 fields, saw 3\\nSkipping line 669: expected 1 fields, saw 3\\nSkipping line 671: expected 1 fields, saw 3\\nSkipping line 675: expected 1 fields, saw 2\\nSkipping line 676: expected 1 fields, saw 3\\nSkipping line 679: expected 1 fields, saw 3\\nSkipping line 681: expected 1 fields, saw 5\\nSkipping line 684: expected 1 fields, saw 2\\nSkipping line 685: expected 1 fields, saw 3\\nSkipping line 692: expected 1 fields, saw 2\\nSkipping line 693: expected 1 fields, saw 2\\nSkipping line 699: expected 1 fields, saw 3\\nSkipping line 703: expected 1 fields, saw 3\\nSkipping line 704: expected 1 fields, saw 2\\nSkipping line 706: expected 1 fields, saw 2\\nSkipping line 709: expected 1 fields, saw 2\\nSkipping line 712: expected 1 fields, saw 2\\nSkipping line 722: expected 1 fields, saw 3\\nSkipping line 723: expected 1 fields, saw 2\\nSkipping line 725: expected 1 fields, saw 4\\nSkipping line 727: expected 1 fields, saw 2\\nSkipping line 732: expected 1 fields, saw 2\\nSkipping line 734: expected 1 fields, saw 2\\nSkipping line 735: expected 1 fields, saw 3\\nSkipping line 736: expected 1 fields, saw 2\\nSkipping line 737: expected 1 fields, saw 2\\nSkipping line 738: expected 1 fields, saw 2\\nSkipping line 739: expected 1 fields, saw 6\\nSkipping line 742: expected 1 fields, saw 4\\nSkipping line 743: expected 1 fields, saw 2\\nSkipping line 748: expected 1 fields, saw 2\\nSkipping line 751: expected 1 fields, saw 3\\nSkipping line 752: expected 1 fields, saw 2\\nSkipping line 753: expected 1 fields, saw 2\\nSkipping line 757: expected 1 fields, saw 6\\nSkipping line 761: expected 1 fields, saw 7\\nSkipping line 763: expected 1 fields, saw 2\\nSkipping line 768: expected 1 fields, saw 3\\nSkipping line 770: expected 1 fields, saw 2\\nSkipping line 772: expected 1 fields, saw 4\\nSkipping line 773: expected 1 fields, saw 5\\nSkipping line 780: expected 1 fields, saw 2\\nSkipping line 783: expected 1 fields, saw 5\\nSkipping line 785: expected 1 fields, saw 6\\nSkipping line 786: expected 1 fields, saw 2\\nSkipping line 790: expected 1 fields, saw 5\\nSkipping line 792: expected 1 fields, saw 2\\nSkipping line 794: expected 1 fields, saw 6\\nSkipping line 796: expected 1 fields, saw 2\\nSkipping line 797: expected 1 fields, saw 3\\nSkipping line 807: expected 1 fields, saw 4\\nSkipping line 812: expected 1 fields, saw 4\\nSkipping line 816: expected 1 fields, saw 5\\nSkipping line 817: expected 1 fields, saw 2\\nSkipping line 818: expected 1 fields, saw 2\\nSkipping line 821: expected 1 fields, saw 2\\nSkipping line 828: expected 1 fields, saw 2\\nSkipping line 838: expected 1 fields, saw 3\\nSkipping line 839: expected 1 fields, saw 2\\nSkipping line 843: expected 1 fields, saw 5\\nSkipping line 844: expected 1 fields, saw 3\\nSkipping line 846: expected 1 fields, saw 2\\nSkipping line 854: expected 1 fields, saw 5\\nSkipping line 857: expected 1 fields, saw 2\\nSkipping line 859: expected 1 fields, saw 2\\n'\n"
          ],
          "name": "stderr"
        },
        {
          "output_type": "execute_result",
          "data": {
            "text/html": [
              "<div>\n",
              "<style scoped>\n",
              "    .dataframe tbody tr th:only-of-type {\n",
              "        vertical-align: middle;\n",
              "    }\n",
              "\n",
              "    .dataframe tbody tr th {\n",
              "        vertical-align: top;\n",
              "    }\n",
              "\n",
              "    .dataframe thead th {\n",
              "        text-align: right;\n",
              "    }\n",
              "</style>\n",
              "<table border=\"1\" class=\"dataframe\">\n",
              "  <thead>\n",
              "    <tr style=\"text-align: right;\">\n",
              "      <th></th>\n",
              "      <th>tweet</th>\n",
              "    </tr>\n",
              "  </thead>\n",
              "  <tbody>\n",
              "    <tr>\n",
              "      <th>0</th>\n",
              "      <td>@user @user @user I got in a pretty deep debat...</td>\n",
              "    </tr>\n",
              "    <tr>\n",
              "      <th>1</th>\n",
              "      <td>Angels now have 6 runs. Five of them have come...</td>\n",
              "    </tr>\n",
              "    <tr>\n",
              "      <th>2</th>\n",
              "      <td>#naturephotography. #nature. #birds #wild in #...</td>\n",
              "    </tr>\n",
              "    <tr>\n",
              "      <th>3</th>\n",
              "      <td>#i2 This speaks for itself (NSFW)</td>\n",
              "    </tr>\n",
              "    <tr>\n",
              "      <th>4</th>\n",
              "      <td>#RAP is a form of ART! Used to express yoursel...</td>\n",
              "    </tr>\n",
              "  </tbody>\n",
              "</table>\n",
              "</div>"
            ],
            "text/plain": [
              "                                               tweet\n",
              "0  @user @user @user I got in a pretty deep debat...\n",
              "1  Angels now have 6 runs. Five of them have come...\n",
              "2  #naturephotography. #nature. #birds #wild in #...\n",
              "3                 #i2 This speaks for itself (NSFW) \n",
              "4  #RAP is a form of ART! Used to express yoursel..."
            ]
          },
          "metadata": {
            "tags": []
          },
          "execution_count": 28
        }
      ]
    },
    {
      "cell_type": "code",
      "metadata": {
        "colab": {
          "base_uri": "https://localhost:8080/"
        },
        "id": "vPhrKJzmed55",
        "outputId": "a1648385-e73f-47d6-f3ab-f9cad9781ffc"
      },
      "source": [
        "#checking for null data\r\n",
        "test.isnull().sum()"
      ],
      "execution_count": 29,
      "outputs": [
        {
          "output_type": "execute_result",
          "data": {
            "text/plain": [
              "tweet    0\n",
              "dtype: int64"
            ]
          },
          "metadata": {
            "tags": []
          },
          "execution_count": 29
        }
      ]
    },
    {
      "cell_type": "code",
      "metadata": {
        "id": "5Bte2NsReiNg",
        "colab": {
          "base_uri": "https://localhost:8080/"
        },
        "outputId": "df0665e8-f138-4f7f-cb09-6b324f6a5c41"
      },
      "source": [
        "#checking and loading the label data\r\n",
        "test.lbl = pd.read_csv('test_labels.txt')\r\n",
        "test.lbl.head()\r\n",
        "test.lbl.columns = ['label']"
      ],
      "execution_count": 31,
      "outputs": [
        {
          "output_type": "stream",
          "text": [
            "/usr/local/lib/python3.7/dist-packages/ipykernel_launcher.py:2: UserWarning: Pandas doesn't allow columns to be created via a new attribute name - see https://pandas.pydata.org/pandas-docs/stable/indexing.html#attribute-access\n",
            "  \n"
          ],
          "name": "stderr"
        }
      ]
    },
    {
      "cell_type": "code",
      "metadata": {
        "colab": {
          "base_uri": "https://localhost:8080/",
          "height": 402
        },
        "id": "9VMwlIOAe4nV",
        "outputId": "2d62f80e-48ff-4714-d654-ffed852e5508"
      },
      "source": [
        "#using the concat function we will combine the test and label data\r\n",
        "off_test = pd.concat([test,test.lbl],axis=1)\r\n",
        "off_test"
      ],
      "execution_count": 32,
      "outputs": [
        {
          "output_type": "execute_result",
          "data": {
            "text/html": [
              "<div>\n",
              "<style scoped>\n",
              "    .dataframe tbody tr th:only-of-type {\n",
              "        vertical-align: middle;\n",
              "    }\n",
              "\n",
              "    .dataframe tbody tr th {\n",
              "        vertical-align: top;\n",
              "    }\n",
              "\n",
              "    .dataframe thead th {\n",
              "        text-align: right;\n",
              "    }\n",
              "</style>\n",
              "<table border=\"1\" class=\"dataframe\">\n",
              "  <thead>\n",
              "    <tr style=\"text-align: right;\">\n",
              "      <th></th>\n",
              "      <th>tweet</th>\n",
              "      <th>label</th>\n",
              "    </tr>\n",
              "  </thead>\n",
              "  <tbody>\n",
              "    <tr>\n",
              "      <th>0</th>\n",
              "      <td>@user @user @user I got in a pretty deep debat...</td>\n",
              "      <td>0</td>\n",
              "    </tr>\n",
              "    <tr>\n",
              "      <th>1</th>\n",
              "      <td>Angels now have 6 runs. Five of them have come...</td>\n",
              "      <td>0</td>\n",
              "    </tr>\n",
              "    <tr>\n",
              "      <th>2</th>\n",
              "      <td>#naturephotography. #nature. #birds #wild in #...</td>\n",
              "      <td>0</td>\n",
              "    </tr>\n",
              "    <tr>\n",
              "      <th>3</th>\n",
              "      <td>#i2 This speaks for itself (NSFW)</td>\n",
              "      <td>0</td>\n",
              "    </tr>\n",
              "    <tr>\n",
              "      <th>4</th>\n",
              "      <td>#RAP is a form of ART! Used to express yoursel...</td>\n",
              "      <td>0</td>\n",
              "    </tr>\n",
              "    <tr>\n",
              "      <th>...</th>\n",
              "      <td>...</td>\n",
              "      <td>...</td>\n",
              "    </tr>\n",
              "    <tr>\n",
              "      <th>854</th>\n",
              "      <td>NaN</td>\n",
              "      <td>0</td>\n",
              "    </tr>\n",
              "    <tr>\n",
              "      <th>855</th>\n",
              "      <td>NaN</td>\n",
              "      <td>0</td>\n",
              "    </tr>\n",
              "    <tr>\n",
              "      <th>856</th>\n",
              "      <td>NaN</td>\n",
              "      <td>1</td>\n",
              "    </tr>\n",
              "    <tr>\n",
              "      <th>857</th>\n",
              "      <td>NaN</td>\n",
              "      <td>0</td>\n",
              "    </tr>\n",
              "    <tr>\n",
              "      <th>858</th>\n",
              "      <td>NaN</td>\n",
              "      <td>0</td>\n",
              "    </tr>\n",
              "  </tbody>\n",
              "</table>\n",
              "<p>859 rows × 2 columns</p>\n",
              "</div>"
            ],
            "text/plain": [
              "                                                 tweet  label\n",
              "0    @user @user @user I got in a pretty deep debat...      0\n",
              "1    Angels now have 6 runs. Five of them have come...      0\n",
              "2    #naturephotography. #nature. #birds #wild in #...      0\n",
              "3                   #i2 This speaks for itself (NSFW)       0\n",
              "4    #RAP is a form of ART! Used to express yoursel...      0\n",
              "..                                                 ...    ...\n",
              "854                                                NaN      0\n",
              "855                                                NaN      0\n",
              "856                                                NaN      1\n",
              "857                                                NaN      0\n",
              "858                                                NaN      0\n",
              "\n",
              "[859 rows x 2 columns]"
            ]
          },
          "metadata": {
            "tags": []
          },
          "execution_count": 32
        }
      ]
    },
    {
      "cell_type": "code",
      "metadata": {
        "colab": {
          "base_uri": "https://localhost:8080/"
        },
        "id": "vQx-CqYMfFG1",
        "outputId": "9284f6e5-9389-4468-c539-aab4750c4d86"
      },
      "source": [
        "#checking for null values\r\n",
        "off_test.isnull().sum()"
      ],
      "execution_count": null,
      "outputs": [
        {
          "output_type": "execute_result",
          "data": {
            "text/plain": [
              "tweet    273\n",
              "label      0\n",
              "dtype: int64"
            ]
          },
          "metadata": {
            "tags": []
          },
          "execution_count": 31
        }
      ]
    },
    {
      "cell_type": "code",
      "metadata": {
        "id": "bebDGIRNfJ94"
      },
      "source": [
        "offensive_test = off_test.dropna()"
      ],
      "execution_count": null,
      "outputs": []
    },
    {
      "cell_type": "code",
      "metadata": {
        "colab": {
          "base_uri": "https://localhost:8080/"
        },
        "id": "EOaRb9YtfO8H",
        "outputId": "3aa9de2a-4251-471a-cfe1-f2ac5452d809"
      },
      "source": [
        "offensive_test.isnull().sum()"
      ],
      "execution_count": null,
      "outputs": [
        {
          "output_type": "execute_result",
          "data": {
            "text/plain": [
              "tweet    0\n",
              "label    0\n",
              "dtype: int64"
            ]
          },
          "metadata": {
            "tags": []
          },
          "execution_count": 33
        }
      ]
    },
    {
      "cell_type": "code",
      "metadata": {
        "id": "b-G-rMPcoI14"
      },
      "source": [
        "#using lower funtion to convert our text into lower case"
      ],
      "execution_count": null,
      "outputs": []
    },
    {
      "cell_type": "code",
      "metadata": {
        "colab": {
          "base_uri": "https://localhost:8080/",
          "height": 402
        },
        "id": "2M1ll32r0Z6p",
        "outputId": "69a9066b-6f1a-4e95-ce0e-c6471c030244"
      },
      "source": [
        "df[\"tweet_lower\"] = df[\"tweet\"].str.lower()\r\n",
        "df"
      ],
      "execution_count": 33,
      "outputs": [
        {
          "output_type": "execute_result",
          "data": {
            "text/html": [
              "<div>\n",
              "<style scoped>\n",
              "    .dataframe tbody tr th:only-of-type {\n",
              "        vertical-align: middle;\n",
              "    }\n",
              "\n",
              "    .dataframe tbody tr th {\n",
              "        vertical-align: top;\n",
              "    }\n",
              "\n",
              "    .dataframe thead th {\n",
              "        text-align: right;\n",
              "    }\n",
              "</style>\n",
              "<table border=\"1\" class=\"dataframe\">\n",
              "  <thead>\n",
              "    <tr style=\"text-align: right;\">\n",
              "      <th></th>\n",
              "      <th>tweet</th>\n",
              "      <th>label</th>\n",
              "      <th>tweet_lower</th>\n",
              "    </tr>\n",
              "  </thead>\n",
              "  <tbody>\n",
              "    <tr>\n",
              "      <th>0</th>\n",
              "      <td>@user Eight years the republicans denied obama...</td>\n",
              "      <td>1</td>\n",
              "      <td>@user eight years the republicans denied obama...</td>\n",
              "    </tr>\n",
              "    <tr>\n",
              "      <th>1</th>\n",
              "      <td>@user Get him some line help. He is gonna be j...</td>\n",
              "      <td>0</td>\n",
              "      <td>@user get him some line help. he is gonna be j...</td>\n",
              "    </tr>\n",
              "    <tr>\n",
              "      <th>2</th>\n",
              "      <td>@user @user She is great. Hi Fiona!</td>\n",
              "      <td>0</td>\n",
              "      <td>@user @user she is great. hi fiona!</td>\n",
              "    </tr>\n",
              "    <tr>\n",
              "      <th>3</th>\n",
              "      <td>@user She has become a parody unto herself? Sh...</td>\n",
              "      <td>1</td>\n",
              "      <td>@user she has become a parody unto herself? sh...</td>\n",
              "    </tr>\n",
              "    <tr>\n",
              "      <th>4</th>\n",
              "      <td>@user Your looking more like a plant #maga #wa...</td>\n",
              "      <td>0</td>\n",
              "      <td>@user your looking more like a plant #maga #wa...</td>\n",
              "    </tr>\n",
              "    <tr>\n",
              "      <th>...</th>\n",
              "      <td>...</td>\n",
              "      <td>...</td>\n",
              "      <td>...</td>\n",
              "    </tr>\n",
              "    <tr>\n",
              "      <th>11910</th>\n",
              "      <td>NaN</td>\n",
              "      <td>1</td>\n",
              "      <td>NaN</td>\n",
              "    </tr>\n",
              "    <tr>\n",
              "      <th>11911</th>\n",
              "      <td>NaN</td>\n",
              "      <td>0</td>\n",
              "      <td>NaN</td>\n",
              "    </tr>\n",
              "    <tr>\n",
              "      <th>11912</th>\n",
              "      <td>NaN</td>\n",
              "      <td>0</td>\n",
              "      <td>NaN</td>\n",
              "    </tr>\n",
              "    <tr>\n",
              "      <th>11913</th>\n",
              "      <td>NaN</td>\n",
              "      <td>0</td>\n",
              "      <td>NaN</td>\n",
              "    </tr>\n",
              "    <tr>\n",
              "      <th>11914</th>\n",
              "      <td>NaN</td>\n",
              "      <td>1</td>\n",
              "      <td>NaN</td>\n",
              "    </tr>\n",
              "  </tbody>\n",
              "</table>\n",
              "<p>11915 rows × 3 columns</p>\n",
              "</div>"
            ],
            "text/plain": [
              "                                                   tweet  ...                                        tweet_lower\n",
              "0      @user Eight years the republicans denied obama...  ...  @user eight years the republicans denied obama...\n",
              "1      @user Get him some line help. He is gonna be j...  ...  @user get him some line help. he is gonna be j...\n",
              "2                   @user @user She is great. Hi Fiona!   ...               @user @user she is great. hi fiona! \n",
              "3      @user She has become a parody unto herself? Sh...  ...  @user she has become a parody unto herself? sh...\n",
              "4      @user Your looking more like a plant #maga #wa...  ...  @user your looking more like a plant #maga #wa...\n",
              "...                                                  ...  ...                                                ...\n",
              "11910                                                NaN  ...                                                NaN\n",
              "11911                                                NaN  ...                                                NaN\n",
              "11912                                                NaN  ...                                                NaN\n",
              "11913                                                NaN  ...                                                NaN\n",
              "11914                                                NaN  ...                                                NaN\n",
              "\n",
              "[11915 rows x 3 columns]"
            ]
          },
          "metadata": {
            "tags": []
          },
          "execution_count": 33
        }
      ]
    },
    {
      "cell_type": "code",
      "metadata": {
        "id": "qdjHtnnNxYTt"
      },
      "source": [
        "#converting to type string\r\n",
        "df[\"tweet\"] = df[\"tweet\"].astype(str)"
      ],
      "execution_count": 41,
      "outputs": []
    },
    {
      "cell_type": "code",
      "metadata": {
        "colab": {
          "base_uri": "https://localhost:8080/",
          "height": 195
        },
        "id": "2fyqRbOK2mbP",
        "outputId": "4f157bc8-7864-4038-d529-717f427aec77"
      },
      "source": [
        " #We are using punctuation function to remove punctuation values\r\n",
        "PUNCT_TO_REMOVE = string.punctuation\r\n",
        "def remove_punctuation(text):\r\n",
        "    \"\"\"custom function to remove the punctuation\"\"\"\r\n",
        "    return text.translate(str.maketrans('', '', PUNCT_TO_REMOVE))\r\n",
        "\r\n",
        "df[\"text_wo_punct\"] = df[\"tweet\"].apply(lambda text: remove_punctuation(text))\r\n",
        "df.head()\r\n"
      ],
      "execution_count": 42,
      "outputs": [
        {
          "output_type": "execute_result",
          "data": {
            "text/html": [
              "<div>\n",
              "<style scoped>\n",
              "    .dataframe tbody tr th:only-of-type {\n",
              "        vertical-align: middle;\n",
              "    }\n",
              "\n",
              "    .dataframe tbody tr th {\n",
              "        vertical-align: top;\n",
              "    }\n",
              "\n",
              "    .dataframe thead th {\n",
              "        text-align: right;\n",
              "    }\n",
              "</style>\n",
              "<table border=\"1\" class=\"dataframe\">\n",
              "  <thead>\n",
              "    <tr style=\"text-align: right;\">\n",
              "      <th></th>\n",
              "      <th>tweet</th>\n",
              "      <th>label</th>\n",
              "      <th>tweet_lower</th>\n",
              "      <th>text_wo_punct</th>\n",
              "    </tr>\n",
              "  </thead>\n",
              "  <tbody>\n",
              "    <tr>\n",
              "      <th>0</th>\n",
              "      <td>@user Eight years the republicans denied obama...</td>\n",
              "      <td>1</td>\n",
              "      <td>@user eight years the republicans denied obama...</td>\n",
              "      <td>user Eight years the republicans denied obama’...</td>\n",
              "    </tr>\n",
              "    <tr>\n",
              "      <th>1</th>\n",
              "      <td>@user Get him some line help. He is gonna be j...</td>\n",
              "      <td>0</td>\n",
              "      <td>@user get him some line help. he is gonna be j...</td>\n",
              "      <td>user Get him some line help He is gonna be jus...</td>\n",
              "    </tr>\n",
              "    <tr>\n",
              "      <th>2</th>\n",
              "      <td>@user @user She is great. Hi Fiona!</td>\n",
              "      <td>0</td>\n",
              "      <td>@user @user she is great. hi fiona!</td>\n",
              "      <td>user user She is great Hi Fiona</td>\n",
              "    </tr>\n",
              "    <tr>\n",
              "      <th>3</th>\n",
              "      <td>@user She has become a parody unto herself? Sh...</td>\n",
              "      <td>1</td>\n",
              "      <td>@user she has become a parody unto herself? sh...</td>\n",
              "      <td>user She has become a parody unto herself She ...</td>\n",
              "    </tr>\n",
              "    <tr>\n",
              "      <th>4</th>\n",
              "      <td>@user Your looking more like a plant #maga #wa...</td>\n",
              "      <td>0</td>\n",
              "      <td>@user your looking more like a plant #maga #wa...</td>\n",
              "      <td>user Your looking more like a plant maga walka...</td>\n",
              "    </tr>\n",
              "  </tbody>\n",
              "</table>\n",
              "</div>"
            ],
            "text/plain": [
              "                                               tweet  ...                                      text_wo_punct\n",
              "0  @user Eight years the republicans denied obama...  ...  user Eight years the republicans denied obama’...\n",
              "1  @user Get him some line help. He is gonna be j...  ...  user Get him some line help He is gonna be jus...\n",
              "2               @user @user She is great. Hi Fiona!   ...                   user user She is great Hi Fiona \n",
              "3  @user She has become a parody unto herself? Sh...  ...  user She has become a parody unto herself She ...\n",
              "4  @user Your looking more like a plant #maga #wa...  ...  user Your looking more like a plant maga walka...\n",
              "\n",
              "[5 rows x 4 columns]"
            ]
          },
          "metadata": {
            "tags": []
          },
          "execution_count": 42
        }
      ]
    },
    {
      "cell_type": "code",
      "metadata": {
        "colab": {
          "base_uri": "https://localhost:8080/",
          "height": 195
        },
        "id": "-Fga1_JN3mO_",
        "outputId": "1a129fbe-df62-4178-e6a4-e957418ccf0d"
      },
      "source": [
        "#we are importing the stopwords \r\n",
        "from nltk.corpus import stopwords\r\n",
        "\", \".join(stopwords.words('english'))\r\n",
        "\r\n",
        "#we are using the stopword function to remove stopwords\r\n",
        "STOPWORDS = set(stopwords.words('english'))\r\n",
        "def remove_stopwords(text):\r\n",
        "    \"\"\"custom function to remove the stopwords\"\"\"\r\n",
        "    return \" \".join([word for word in str(text).split() if word not in STOPWORDS])\r\n",
        "\r\n",
        "df[\"text_wo_stop\"] = df[\"text_wo_punct\"].apply(lambda text: remove_stopwords(text))\r\n",
        "df.head()"
      ],
      "execution_count": 43,
      "outputs": [
        {
          "output_type": "execute_result",
          "data": {
            "text/html": [
              "<div>\n",
              "<style scoped>\n",
              "    .dataframe tbody tr th:only-of-type {\n",
              "        vertical-align: middle;\n",
              "    }\n",
              "\n",
              "    .dataframe tbody tr th {\n",
              "        vertical-align: top;\n",
              "    }\n",
              "\n",
              "    .dataframe thead th {\n",
              "        text-align: right;\n",
              "    }\n",
              "</style>\n",
              "<table border=\"1\" class=\"dataframe\">\n",
              "  <thead>\n",
              "    <tr style=\"text-align: right;\">\n",
              "      <th></th>\n",
              "      <th>tweet</th>\n",
              "      <th>label</th>\n",
              "      <th>tweet_lower</th>\n",
              "      <th>text_wo_punct</th>\n",
              "      <th>text_wo_stop</th>\n",
              "    </tr>\n",
              "  </thead>\n",
              "  <tbody>\n",
              "    <tr>\n",
              "      <th>0</th>\n",
              "      <td>@user Eight years the republicans denied obama...</td>\n",
              "      <td>1</td>\n",
              "      <td>@user eight years the republicans denied obama...</td>\n",
              "      <td>user Eight years the republicans denied obama’...</td>\n",
              "      <td>user Eight years republicans denied obama’s pi...</td>\n",
              "    </tr>\n",
              "    <tr>\n",
              "      <th>1</th>\n",
              "      <td>@user Get him some line help. He is gonna be j...</td>\n",
              "      <td>0</td>\n",
              "      <td>@user get him some line help. he is gonna be j...</td>\n",
              "      <td>user Get him some line help He is gonna be jus...</td>\n",
              "      <td>user Get line help He gonna fine As game went ...</td>\n",
              "    </tr>\n",
              "    <tr>\n",
              "      <th>2</th>\n",
              "      <td>@user @user She is great. Hi Fiona!</td>\n",
              "      <td>0</td>\n",
              "      <td>@user @user she is great. hi fiona!</td>\n",
              "      <td>user user She is great Hi Fiona</td>\n",
              "      <td>user user She great Hi Fiona</td>\n",
              "    </tr>\n",
              "    <tr>\n",
              "      <th>3</th>\n",
              "      <td>@user She has become a parody unto herself? Sh...</td>\n",
              "      <td>1</td>\n",
              "      <td>@user she has become a parody unto herself? sh...</td>\n",
              "      <td>user She has become a parody unto herself She ...</td>\n",
              "      <td>user She become parody unto She certainly take...</td>\n",
              "    </tr>\n",
              "    <tr>\n",
              "      <th>4</th>\n",
              "      <td>@user Your looking more like a plant #maga #wa...</td>\n",
              "      <td>0</td>\n",
              "      <td>@user your looking more like a plant #maga #wa...</td>\n",
              "      <td>user Your looking more like a plant maga walka...</td>\n",
              "      <td>user Your looking like plant maga walkaway</td>\n",
              "    </tr>\n",
              "  </tbody>\n",
              "</table>\n",
              "</div>"
            ],
            "text/plain": [
              "                                               tweet  ...                                       text_wo_stop\n",
              "0  @user Eight years the republicans denied obama...  ...  user Eight years republicans denied obama’s pi...\n",
              "1  @user Get him some line help. He is gonna be j...  ...  user Get line help He gonna fine As game went ...\n",
              "2               @user @user She is great. Hi Fiona!   ...                       user user She great Hi Fiona\n",
              "3  @user She has become a parody unto herself? Sh...  ...  user She become parody unto She certainly take...\n",
              "4  @user Your looking more like a plant #maga #wa...  ...         user Your looking like plant maga walkaway\n",
              "\n",
              "[5 rows x 5 columns]"
            ]
          },
          "metadata": {
            "tags": []
          },
          "execution_count": 43
        }
      ]
    },
    {
      "cell_type": "code",
      "metadata": {
        "colab": {
          "base_uri": "https://localhost:8080/",
          "height": 262
        },
        "id": "Jpn9k4ZS4L2m",
        "outputId": "654595ec-7910-4538-8ef0-b28170aec24e"
      },
      "source": [
        "from nltk.stem.porter import PorterStemmer\r\n",
        "\r\n",
        "# we are using stemword function to stem our text data \r\n",
        "\r\n",
        "stemmer = PorterStemmer()\r\n",
        "def stem_words(text):\r\n",
        "    return \" \".join([stemmer.stem(word) for word in text.split()])\r\n",
        "\r\n",
        "df[\"text_stemmed\"] = df[\"tweet\"].apply(lambda text: stem_words(text))\r\n",
        "df.head()"
      ],
      "execution_count": 44,
      "outputs": [
        {
          "output_type": "execute_result",
          "data": {
            "text/html": [
              "<div>\n",
              "<style scoped>\n",
              "    .dataframe tbody tr th:only-of-type {\n",
              "        vertical-align: middle;\n",
              "    }\n",
              "\n",
              "    .dataframe tbody tr th {\n",
              "        vertical-align: top;\n",
              "    }\n",
              "\n",
              "    .dataframe thead th {\n",
              "        text-align: right;\n",
              "    }\n",
              "</style>\n",
              "<table border=\"1\" class=\"dataframe\">\n",
              "  <thead>\n",
              "    <tr style=\"text-align: right;\">\n",
              "      <th></th>\n",
              "      <th>tweet</th>\n",
              "      <th>label</th>\n",
              "      <th>tweet_lower</th>\n",
              "      <th>text_wo_punct</th>\n",
              "      <th>text_wo_stop</th>\n",
              "      <th>text_stemmed</th>\n",
              "    </tr>\n",
              "  </thead>\n",
              "  <tbody>\n",
              "    <tr>\n",
              "      <th>0</th>\n",
              "      <td>@user Eight years the republicans denied obama...</td>\n",
              "      <td>1</td>\n",
              "      <td>@user eight years the republicans denied obama...</td>\n",
              "      <td>user Eight years the republicans denied obama’...</td>\n",
              "      <td>user Eight years republicans denied obama’s pi...</td>\n",
              "      <td>@user eight year the republican deni obama’ pi...</td>\n",
              "    </tr>\n",
              "    <tr>\n",
              "      <th>1</th>\n",
              "      <td>@user Get him some line help. He is gonna be j...</td>\n",
              "      <td>0</td>\n",
              "      <td>@user get him some line help. he is gonna be j...</td>\n",
              "      <td>user Get him some line help He is gonna be jus...</td>\n",
              "      <td>user Get line help He gonna fine As game went ...</td>\n",
              "      <td>@user get him some line help. He is gonna be j...</td>\n",
              "    </tr>\n",
              "    <tr>\n",
              "      <th>2</th>\n",
              "      <td>@user @user She is great. Hi Fiona!</td>\n",
              "      <td>0</td>\n",
              "      <td>@user @user she is great. hi fiona!</td>\n",
              "      <td>user user She is great Hi Fiona</td>\n",
              "      <td>user user She great Hi Fiona</td>\n",
              "      <td>@user @user she is great. Hi fiona!</td>\n",
              "    </tr>\n",
              "    <tr>\n",
              "      <th>3</th>\n",
              "      <td>@user She has become a parody unto herself? Sh...</td>\n",
              "      <td>1</td>\n",
              "      <td>@user she has become a parody unto herself? sh...</td>\n",
              "      <td>user She has become a parody unto herself She ...</td>\n",
              "      <td>user She become parody unto She certainly take...</td>\n",
              "      <td>@user she ha becom a parodi unto herself? she ...</td>\n",
              "    </tr>\n",
              "    <tr>\n",
              "      <th>4</th>\n",
              "      <td>@user Your looking more like a plant #maga #wa...</td>\n",
              "      <td>0</td>\n",
              "      <td>@user your looking more like a plant #maga #wa...</td>\n",
              "      <td>user Your looking more like a plant maga walka...</td>\n",
              "      <td>user Your looking like plant maga walkaway</td>\n",
              "      <td>@user your look more like a plant #maga #walkaway</td>\n",
              "    </tr>\n",
              "  </tbody>\n",
              "</table>\n",
              "</div>"
            ],
            "text/plain": [
              "                                               tweet  ...                                       text_stemmed\n",
              "0  @user Eight years the republicans denied obama...  ...  @user eight year the republican deni obama’ pi...\n",
              "1  @user Get him some line help. He is gonna be j...  ...  @user get him some line help. He is gonna be j...\n",
              "2               @user @user She is great. Hi Fiona!   ...                @user @user she is great. Hi fiona!\n",
              "3  @user She has become a parody unto herself? Sh...  ...  @user she ha becom a parodi unto herself? she ...\n",
              "4  @user Your looking more like a plant #maga #wa...  ...  @user your look more like a plant #maga #walkaway\n",
              "\n",
              "[5 rows x 6 columns]"
            ]
          },
          "metadata": {
            "tags": []
          },
          "execution_count": 44
        }
      ]
    },
    {
      "cell_type": "code",
      "metadata": {
        "colab": {
          "base_uri": "https://localhost:8080/",
          "height": 279
        },
        "id": "iiJs-lAG4xtY",
        "outputId": "1f17b7c2-6db1-4159-ebb6-0db330d3c14a"
      },
      "source": [
        "from nltk.stem import WordNetLemmatizer\r\n",
        "\r\n",
        "#we are using lemmatizer\r\n",
        "lemmatizer = WordNetLemmatizer()\r\n",
        "def lemmatize_words(text):\r\n",
        "    return \" \".join([lemmatizer.lemmatize(word) for word in text.split()])\r\n",
        "\r\n",
        "df[\"text_lemmatized\"] = df[\"tweet\"].apply(lambda text: lemmatize_words(text))\r\n",
        "df.head()"
      ],
      "execution_count": 45,
      "outputs": [
        {
          "output_type": "execute_result",
          "data": {
            "text/html": [
              "<div>\n",
              "<style scoped>\n",
              "    .dataframe tbody tr th:only-of-type {\n",
              "        vertical-align: middle;\n",
              "    }\n",
              "\n",
              "    .dataframe tbody tr th {\n",
              "        vertical-align: top;\n",
              "    }\n",
              "\n",
              "    .dataframe thead th {\n",
              "        text-align: right;\n",
              "    }\n",
              "</style>\n",
              "<table border=\"1\" class=\"dataframe\">\n",
              "  <thead>\n",
              "    <tr style=\"text-align: right;\">\n",
              "      <th></th>\n",
              "      <th>tweet</th>\n",
              "      <th>label</th>\n",
              "      <th>tweet_lower</th>\n",
              "      <th>text_wo_punct</th>\n",
              "      <th>text_wo_stop</th>\n",
              "      <th>text_stemmed</th>\n",
              "      <th>text_lemmatized</th>\n",
              "    </tr>\n",
              "  </thead>\n",
              "  <tbody>\n",
              "    <tr>\n",
              "      <th>0</th>\n",
              "      <td>@user Eight years the republicans denied obama...</td>\n",
              "      <td>1</td>\n",
              "      <td>@user eight years the republicans denied obama...</td>\n",
              "      <td>user Eight years the republicans denied obama’...</td>\n",
              "      <td>user Eight years republicans denied obama’s pi...</td>\n",
              "      <td>@user eight year the republican deni obama’ pi...</td>\n",
              "      <td>@user Eight year the republican denied obama’s...</td>\n",
              "    </tr>\n",
              "    <tr>\n",
              "      <th>1</th>\n",
              "      <td>@user Get him some line help. He is gonna be j...</td>\n",
              "      <td>0</td>\n",
              "      <td>@user get him some line help. he is gonna be j...</td>\n",
              "      <td>user Get him some line help He is gonna be jus...</td>\n",
              "      <td>user Get line help He gonna fine As game went ...</td>\n",
              "      <td>@user get him some line help. He is gonna be j...</td>\n",
              "      <td>@user Get him some line help. He is gonna be j...</td>\n",
              "    </tr>\n",
              "    <tr>\n",
              "      <th>2</th>\n",
              "      <td>@user @user She is great. Hi Fiona!</td>\n",
              "      <td>0</td>\n",
              "      <td>@user @user she is great. hi fiona!</td>\n",
              "      <td>user user She is great Hi Fiona</td>\n",
              "      <td>user user She great Hi Fiona</td>\n",
              "      <td>@user @user she is great. Hi fiona!</td>\n",
              "      <td>@user @user She is great. Hi Fiona!</td>\n",
              "    </tr>\n",
              "    <tr>\n",
              "      <th>3</th>\n",
              "      <td>@user She has become a parody unto herself? Sh...</td>\n",
              "      <td>1</td>\n",
              "      <td>@user she has become a parody unto herself? sh...</td>\n",
              "      <td>user She has become a parody unto herself She ...</td>\n",
              "      <td>user She become parody unto She certainly take...</td>\n",
              "      <td>@user she ha becom a parodi unto herself? she ...</td>\n",
              "      <td>@user She ha become a parody unto herself? She...</td>\n",
              "    </tr>\n",
              "    <tr>\n",
              "      <th>4</th>\n",
              "      <td>@user Your looking more like a plant #maga #wa...</td>\n",
              "      <td>0</td>\n",
              "      <td>@user your looking more like a plant #maga #wa...</td>\n",
              "      <td>user Your looking more like a plant maga walka...</td>\n",
              "      <td>user Your looking like plant maga walkaway</td>\n",
              "      <td>@user your look more like a plant #maga #walkaway</td>\n",
              "      <td>@user Your looking more like a plant #maga #wa...</td>\n",
              "    </tr>\n",
              "  </tbody>\n",
              "</table>\n",
              "</div>"
            ],
            "text/plain": [
              "                                               tweet  ...                                    text_lemmatized\n",
              "0  @user Eight years the republicans denied obama...  ...  @user Eight year the republican denied obama’s...\n",
              "1  @user Get him some line help. He is gonna be j...  ...  @user Get him some line help. He is gonna be j...\n",
              "2               @user @user She is great. Hi Fiona!   ...                @user @user She is great. Hi Fiona!\n",
              "3  @user She has become a parody unto herself? Sh...  ...  @user She ha become a parody unto herself? She...\n",
              "4  @user Your looking more like a plant #maga #wa...  ...  @user Your looking more like a plant #maga #wa...\n",
              "\n",
              "[5 rows x 7 columns]"
            ]
          },
          "metadata": {
            "tags": []
          },
          "execution_count": 45
        }
      ]
    },
    {
      "cell_type": "code",
      "metadata": {
        "id": "PG9cvQLW5t2U"
      },
      "source": [
        "# we are importing the libraries and dependencies \r\n",
        "from sklearn.feature_extraction.text import TfidfVectorizer\r\n",
        "from sklearn.pipeline import Pipeline\r\n",
        "from sklearn.feature_extraction.text import CountVectorizer\r\n",
        "from sklearn.feature_extraction.text import TfidfTransformer"
      ],
      "execution_count": null,
      "outputs": []
    },
    {
      "cell_type": "code",
      "metadata": {
        "id": "RcKJoAQ4fhj1"
      },
      "source": [
        "#Support vector machine\r\n",
        "from sklearn.svm import SVC\r\n",
        "pipeline_svc = Pipeline([('vect', CountVectorizer()),('tfidf',  TfidfTransformer()),('n', SVC(C=1.0, kernel='linear',random_state=123))])"
      ],
      "execution_count": 18,
      "outputs": []
    },
    {
      "cell_type": "code",
      "metadata": {
        "id": "aEGdtx_gfsc_"
      },
      "source": [
        "#TRAINING THE MODEL\r\n",
        "from sklearn.model_selection import train_test_split\r\n",
        "X_train,X_test,y_train,y_test = train_test_split(train,train,random_state=0,test_size=0.2)"
      ],
      "execution_count": 19,
      "outputs": []
    }
  ]
}